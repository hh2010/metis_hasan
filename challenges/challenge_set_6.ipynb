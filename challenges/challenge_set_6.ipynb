{
 "cells": [
  {
   "cell_type": "code",
   "execution_count": 22,
   "metadata": {
    "collapsed": true
   },
   "outputs": [],
   "source": [
    "import numpy as np\n",
    "import matplotlib.pyplot as plt\n",
    "import pandas as pd\n",
    "import statsmodels.api as sm\n",
    "import statsmodels.formula.api as smf\n",
    "from sklearn.linear_model import LinearRegression\n",
    "from sklearn.linear_model import LogisticRegression\n",
    "from sklearn.linear_model import Ridge\n",
    "from sklearn.linear_model import Lasso\n",
    "from sklearn.linear_model import LassoCV\n",
    "from sklearn.preprocessing import PolynomialFeatures\n",
    "from sklearn.preprocessing import scale\n",
    "from sklearn.pipeline import make_pipeline\n",
    "from sklearn.cross_validation import train_test_split\n",
    "from sklearn.cross_validation import KFold\n",
    "from sklearn.cross_validation import cross_val_score\n",
    "from sklearn.metrics import mean_squared_error\n",
    "from sklearn import metrics\n",
    "%matplotlib inline"
   ]
  },
  {
   "cell_type": "markdown",
   "metadata": {},
   "source": [
    "**Challenge 1**\n",
    "\n",
    "Generate (fake) data that is linearly related to log(x).\n",
    "\n",
    "You are making this model up. It is of the form B0 + B1*log(x) + epsilon. (You are making up the parameters.)\n",
    "\n",
    "Simulate some data from this model.\n",
    "\n",
    "Then fit two models to it:\n",
    "\n",
    "quadratic (second degree polynomial)\n",
    "logarithmic (log(x))\n",
    "(The second one should fit really well, since it has the same form as the underlying model!)"
   ]
  },
  {
   "cell_type": "code",
   "execution_count": 2,
   "metadata": {
    "collapsed": false
   },
   "outputs": [],
   "source": [
    "dat = np.random.randint(1,10)*np.log(np.linspace(1,100))+np.random.randint(10,50)+np.random.normal()"
   ]
  },
  {
   "cell_type": "code",
   "execution_count": 52,
   "metadata": {
    "collapsed": false
   },
   "outputs": [],
   "source": [
    "# Setup DataFrame\n",
    "\n",
    "df = pd.DataFrame(dat, columns=['Y'])\n",
    "df['int'] = [1 for x in list(range(len(dat)))]\n",
    "df['X1'] = [x for x in list(range(1,len(dat)+1))]"
   ]
  },
  {
   "cell_type": "code",
   "execution_count": 4,
   "metadata": {
    "collapsed": false
   },
   "outputs": [],
   "source": [
    "y = df['Y']\n",
    "x = df.drop(['Y'],1)"
   ]
  },
  {
   "cell_type": "code",
   "execution_count": 5,
   "metadata": {
    "collapsed": false
   },
   "outputs": [
    {
     "data": {
      "text/html": [
       "<table class=\"simpletable\">\n",
       "<caption>OLS Regression Results</caption>\n",
       "<tr>\n",
       "  <th>Dep. Variable:</th>            <td>Y</td>        <th>  R-squared:         </th> <td>   0.589</td>\n",
       "</tr>\n",
       "<tr>\n",
       "  <th>Model:</th>                   <td>OLS</td>       <th>  Adj. R-squared:    </th> <td>   0.581</td>\n",
       "</tr>\n",
       "<tr>\n",
       "  <th>Method:</th>             <td>Least Squares</td>  <th>  F-statistic:       </th> <td>   68.83</td>\n",
       "</tr>\n",
       "<tr>\n",
       "  <th>Date:</th>             <td>Fri, 24 Feb 2017</td> <th>  Prob (F-statistic):</th> <td>7.88e-11</td>\n",
       "</tr>\n",
       "<tr>\n",
       "  <th>Time:</th>                 <td>19:39:36</td>     <th>  Log-Likelihood:    </th> <td> -144.23</td>\n",
       "</tr>\n",
       "<tr>\n",
       "  <th>No. Observations:</th>      <td>    50</td>      <th>  AIC:               </th> <td>   292.5</td>\n",
       "</tr>\n",
       "<tr>\n",
       "  <th>Df Residuals:</th>          <td>    48</td>      <th>  BIC:               </th> <td>   296.3</td>\n",
       "</tr>\n",
       "<tr>\n",
       "  <th>Df Model:</th>              <td>     1</td>      <th>                     </th>     <td> </td>   \n",
       "</tr>\n",
       "<tr>\n",
       "  <th>Covariance Type:</th>      <td>nonrobust</td>    <th>                     </th>     <td> </td>   \n",
       "</tr>\n",
       "</table>\n",
       "<table class=\"simpletable\">\n",
       "<tr>\n",
       "   <td></td>      <th>coef</th>     <th>std err</th>      <th>t</th>      <th>P>|t|</th> <th>[95.0% Conf. Int.]</th> \n",
       "</tr>\n",
       "<tr>\n",
       "  <th>int</th> <td>   57.1733</td> <td>    0.944</td> <td>   60.593</td> <td> 0.000</td> <td>   55.276    59.070</td>\n",
       "</tr>\n",
       "<tr>\n",
       "  <th>X1</th>  <td>    0.0068</td> <td>    0.001</td> <td>    8.296</td> <td> 0.000</td> <td>    0.005     0.008</td>\n",
       "</tr>\n",
       "</table>\n",
       "<table class=\"simpletable\">\n",
       "<tr>\n",
       "  <th>Omnibus:</th>       <td>42.511</td> <th>  Durbin-Watson:     </th> <td>   0.095</td>\n",
       "</tr>\n",
       "<tr>\n",
       "  <th>Prob(Omnibus):</th> <td> 0.000</td> <th>  Jarque-Bera (JB):  </th> <td> 142.188</td>\n",
       "</tr>\n",
       "<tr>\n",
       "  <th>Skew:</th>          <td>-2.323</td> <th>  Prob(JB):          </th> <td>1.33e-31</td>\n",
       "</tr>\n",
       "<tr>\n",
       "  <th>Kurtosis:</th>      <td> 9.831</td> <th>  Cond. No.          </th> <td>1.73e+03</td>\n",
       "</tr>\n",
       "</table>"
      ],
      "text/plain": [
       "<class 'statsmodels.iolib.summary.Summary'>\n",
       "\"\"\"\n",
       "                            OLS Regression Results                            \n",
       "==============================================================================\n",
       "Dep. Variable:                      Y   R-squared:                       0.589\n",
       "Model:                            OLS   Adj. R-squared:                  0.581\n",
       "Method:                 Least Squares   F-statistic:                     68.83\n",
       "Date:                Fri, 24 Feb 2017   Prob (F-statistic):           7.88e-11\n",
       "Time:                        19:39:36   Log-Likelihood:                -144.23\n",
       "No. Observations:                  50   AIC:                             292.5\n",
       "Df Residuals:                      48   BIC:                             296.3\n",
       "Df Model:                           1                                         \n",
       "Covariance Type:            nonrobust                                         \n",
       "==============================================================================\n",
       "                 coef    std err          t      P>|t|      [95.0% Conf. Int.]\n",
       "------------------------------------------------------------------------------\n",
       "int           57.1733      0.944     60.593      0.000        55.276    59.070\n",
       "X1             0.0068      0.001      8.296      0.000         0.005     0.008\n",
       "==============================================================================\n",
       "Omnibus:                       42.511   Durbin-Watson:                   0.095\n",
       "Prob(Omnibus):                  0.000   Jarque-Bera (JB):              142.188\n",
       "Skew:                          -2.323   Prob(JB):                     1.33e-31\n",
       "Kurtosis:                       9.831   Cond. No.                     1.73e+03\n",
       "==============================================================================\n",
       "\n",
       "Warnings:\n",
       "[1] Standard Errors assume that the covariance matrix of the errors is correctly specified.\n",
       "[2] The condition number is large, 1.73e+03. This might indicate that there are\n",
       "strong multicollinearity or other numerical problems.\n",
       "\"\"\""
      ]
     },
     "execution_count": 5,
     "metadata": {},
     "output_type": "execute_result"
    }
   ],
   "source": [
    "# Quadratic fit\n",
    "\n",
    "x2 = x**2\n",
    "\n",
    "lsm = sm.OLS(y,x2)\n",
    "fit = lsm.fit()\n",
    "fit.summary()"
   ]
  },
  {
   "cell_type": "code",
   "execution_count": 63,
   "metadata": {
    "collapsed": false
   },
   "outputs": [
    {
     "data": {
      "text/html": [
       "<table class=\"simpletable\">\n",
       "<caption>OLS Regression Results</caption>\n",
       "<tr>\n",
       "  <th>Dep. Variable:</th>            <td>Y</td>        <th>  R-squared:         </th> <td>   0.995</td> \n",
       "</tr>\n",
       "<tr>\n",
       "  <th>Model:</th>                   <td>OLS</td>       <th>  Adj. R-squared:    </th> <td>   0.995</td> \n",
       "</tr>\n",
       "<tr>\n",
       "  <th>Method:</th>             <td>Least Squares</td>  <th>  F-statistic:       </th> <td>1.043e+04</td>\n",
       "</tr>\n",
       "<tr>\n",
       "  <th>Date:</th>             <td>Sat, 25 Feb 2017</td> <th>  Prob (F-statistic):</th> <td>8.29e-58</td> \n",
       "</tr>\n",
       "<tr>\n",
       "  <th>Time:</th>                 <td>21:36:37</td>     <th>  Log-Likelihood:    </th> <td> -31.811</td> \n",
       "</tr>\n",
       "<tr>\n",
       "  <th>No. Observations:</th>      <td>    50</td>      <th>  AIC:               </th> <td>   67.62</td> \n",
       "</tr>\n",
       "<tr>\n",
       "  <th>Df Residuals:</th>          <td>    48</td>      <th>  BIC:               </th> <td>   71.45</td> \n",
       "</tr>\n",
       "<tr>\n",
       "  <th>Df Model:</th>              <td>     1</td>      <th>                     </th>     <td> </td>    \n",
       "</tr>\n",
       "<tr>\n",
       "  <th>Covariance Type:</th>      <td>nonrobust</td>    <th>                     </th>     <td> </td>    \n",
       "</tr>\n",
       "</table>\n",
       "<table class=\"simpletable\">\n",
       "<tr>\n",
       "   <td></td>      <th>coef</th>     <th>std err</th>      <th>t</th>      <th>P>|t|</th> <th>[95.0% Conf. Int.]</th> \n",
       "</tr>\n",
       "<tr>\n",
       "  <th>int</th> <td>   40.2977</td> <td>    0.232</td> <td>  173.558</td> <td> 0.000</td> <td>   39.831    40.765</td>\n",
       "</tr>\n",
       "<tr>\n",
       "  <th>X1</th>  <td>    7.6576</td> <td>    0.075</td> <td>  102.149</td> <td> 0.000</td> <td>    7.507     7.808</td>\n",
       "</tr>\n",
       "</table>\n",
       "<table class=\"simpletable\">\n",
       "<tr>\n",
       "  <th>Omnibus:</th>       <td>70.054</td> <th>  Durbin-Watson:     </th> <td>   0.591</td> \n",
       "</tr>\n",
       "<tr>\n",
       "  <th>Prob(Omnibus):</th> <td> 0.000</td> <th>  Jarque-Bera (JB):  </th> <td> 823.022</td> \n",
       "</tr>\n",
       "<tr>\n",
       "  <th>Skew:</th>          <td>-3.555</td> <th>  Prob(JB):          </th> <td>1.92e-179</td>\n",
       "</tr>\n",
       "<tr>\n",
       "  <th>Kurtosis:</th>      <td>21.560</td> <th>  Cond. No.          </th> <td>    12.0</td> \n",
       "</tr>\n",
       "</table>"
      ],
      "text/plain": [
       "<class 'statsmodels.iolib.summary.Summary'>\n",
       "\"\"\"\n",
       "                            OLS Regression Results                            \n",
       "==============================================================================\n",
       "Dep. Variable:                      Y   R-squared:                       0.995\n",
       "Model:                            OLS   Adj. R-squared:                  0.995\n",
       "Method:                 Least Squares   F-statistic:                 1.043e+04\n",
       "Date:                Sat, 25 Feb 2017   Prob (F-statistic):           8.29e-58\n",
       "Time:                        21:36:37   Log-Likelihood:                -31.811\n",
       "No. Observations:                  50   AIC:                             67.62\n",
       "Df Residuals:                      48   BIC:                             71.45\n",
       "Df Model:                           1                                         \n",
       "Covariance Type:            nonrobust                                         \n",
       "==============================================================================\n",
       "                 coef    std err          t      P>|t|      [95.0% Conf. Int.]\n",
       "------------------------------------------------------------------------------\n",
       "int           40.2977      0.232    173.558      0.000        39.831    40.765\n",
       "X1             7.6576      0.075    102.149      0.000         7.507     7.808\n",
       "==============================================================================\n",
       "Omnibus:                       70.054   Durbin-Watson:                   0.591\n",
       "Prob(Omnibus):                  0.000   Jarque-Bera (JB):              823.022\n",
       "Skew:                          -3.555   Prob(JB):                    1.92e-179\n",
       "Kurtosis:                      21.560   Cond. No.                         12.0\n",
       "==============================================================================\n",
       "\n",
       "Warnings:\n",
       "[1] Standard Errors assume that the covariance matrix of the errors is correctly specified.\n",
       "\"\"\""
      ]
     },
     "execution_count": 63,
     "metadata": {},
     "output_type": "execute_result"
    }
   ],
   "source": [
    "# Logarithmic fit\n",
    "\n",
    "logx = df.drop(['Y'], 1)\n",
    "logx['X1'] = np.log(x['X1'])\n",
    "\n",
    "lsm = sm.OLS(y,logx)\n",
    "fit = lsm.fit()\n",
    "fit.summary()"
   ]
  },
  {
   "cell_type": "markdown",
   "metadata": {},
   "source": [
    "**Challenge 2**\n",
    "\n",
    "Generate (fake) data from a model of the form B0 + B1*x + B2*x^2 + epsilon. (You are making up the parameters.)\n",
    "\n",
    "Split the data into a training and test set.\n",
    "\n",
    "Fit a model to your training set. Calculate mean squared error on your training set. Then calculate it on your test set.\n",
    "\n",
    "(You could use sklearn.metrics.mean_squared_error.)"
   ]
  },
  {
   "cell_type": "code",
   "execution_count": 7,
   "metadata": {
    "collapsed": true
   },
   "outputs": [],
   "source": [
    "logx_2 = logx.drop(['int'],1)"
   ]
  },
  {
   "cell_type": "code",
   "execution_count": 8,
   "metadata": {
    "collapsed": false
   },
   "outputs": [
    {
     "data": {
      "text/plain": [
       "0.99465995690064146"
      ]
     },
     "execution_count": 8,
     "metadata": {},
     "output_type": "execute_result"
    }
   ],
   "source": [
    "lr1 = make_pipeline(LinearRegression())\n",
    "X_train, X_test, y_train, y_test = train_test_split(logx_2, y, test_size=.25)\n",
    "lr1.fit(X_train, y_train)\n",
    "lr1.score(X_test, y_test)"
   ]
  },
  {
   "cell_type": "code",
   "execution_count": 9,
   "metadata": {
    "collapsed": false
   },
   "outputs": [],
   "source": [
    "y_pred_train = lr1.predict(X_train)\n",
    "y_pred_test = lr1.predict(X_test)"
   ]
  },
  {
   "cell_type": "code",
   "execution_count": 10,
   "metadata": {
    "collapsed": true
   },
   "outputs": [],
   "source": [
    "mse_train = mean_squared_error(y_train, y_pred_train)\n",
    "mse_test = mean_squared_error(y_test, y_pred_test)"
   ]
  },
  {
   "cell_type": "code",
   "execution_count": 11,
   "metadata": {
    "collapsed": false
   },
   "outputs": [
    {
     "data": {
      "text/plain": [
       "0.25960562295900724"
      ]
     },
     "execution_count": 11,
     "metadata": {},
     "output_type": "execute_result"
    }
   ],
   "source": [
    "mse_train"
   ]
  },
  {
   "cell_type": "code",
   "execution_count": 12,
   "metadata": {
    "collapsed": false
   },
   "outputs": [
    {
     "data": {
      "text/plain": [
       "0.071996220920748435"
      ]
     },
     "execution_count": 12,
     "metadata": {},
     "output_type": "execute_result"
    }
   ],
   "source": [
    "mse_test"
   ]
  },
  {
   "cell_type": "markdown",
   "metadata": {},
   "source": [
    "**Challenge 3**\n",
    "\n",
    "For the data from two (above), try polynomial fits from 0th (just constant) to 7th order (highest term x^7). Over the x axis of model degree (8 points), plot:\n",
    "\n",
    "training error\n",
    "test error\n",
    "R squared\n",
    "AIC"
   ]
  },
  {
   "cell_type": "code",
   "execution_count": 77,
   "metadata": {
    "collapsed": false
   },
   "outputs": [
    {
     "data": {
      "text/plain": [
       "0     37.685944\n",
       "1     45.423688\n",
       "2     49.008921\n",
       "3     51.368274\n",
       "4     53.129722\n",
       "5     54.535847\n",
       "6     55.706215\n",
       "7     56.708647\n",
       "8     57.585344\n",
       "9     58.364361\n",
       "10    59.065300\n",
       "11    59.702396\n",
       "12    60.286313\n",
       "13    60.825250\n",
       "14    61.325643\n",
       "15    61.792640\n",
       "16    62.230421\n",
       "17    62.642427\n",
       "18    63.031525\n",
       "19    63.400129\n",
       "20    63.750291\n",
       "21    64.083767\n",
       "22    64.402077\n",
       "23    64.706540\n",
       "24    64.998310\n",
       "25    65.278404\n",
       "26    65.547720\n",
       "27    65.807058\n",
       "28    66.057129\n",
       "29    66.298575\n",
       "30    66.531969\n",
       "31    66.757832\n",
       "32    66.976634\n",
       "33    67.188804\n",
       "34    67.394732\n",
       "35    67.594774\n",
       "36    67.789258\n",
       "37    67.978485\n",
       "38    68.162731\n",
       "39    68.342251\n",
       "40    68.517282\n",
       "41    68.688043\n",
       "42    68.854738\n",
       "43    69.017555\n",
       "44    69.176671\n",
       "45    69.332250\n",
       "46    69.484447\n",
       "47    69.633405\n",
       "48    69.779259\n",
       "49    69.922136\n",
       "Name: Y, dtype: float64"
      ]
     },
     "execution_count": 77,
     "metadata": {},
     "output_type": "execute_result"
    }
   ],
   "source": [
    "y"
   ]
  },
  {
   "cell_type": "code",
   "execution_count": 94,
   "metadata": {
    "collapsed": false
   },
   "outputs": [
    {
     "data": {
      "text/html": [
       "<div>\n",
       "<table border=\"1\" class=\"dataframe\">\n",
       "  <thead>\n",
       "    <tr style=\"text-align: right;\">\n",
       "      <th></th>\n",
       "      <th>Y</th>\n",
       "      <th>X1</th>\n",
       "    </tr>\n",
       "  </thead>\n",
       "  <tbody>\n",
       "    <tr>\n",
       "      <th>0</th>\n",
       "      <td>37.685944</td>\n",
       "      <td>1</td>\n",
       "    </tr>\n",
       "    <tr>\n",
       "      <th>1</th>\n",
       "      <td>45.423688</td>\n",
       "      <td>2</td>\n",
       "    </tr>\n",
       "    <tr>\n",
       "      <th>2</th>\n",
       "      <td>49.008921</td>\n",
       "      <td>3</td>\n",
       "    </tr>\n",
       "    <tr>\n",
       "      <th>3</th>\n",
       "      <td>51.368274</td>\n",
       "      <td>4</td>\n",
       "    </tr>\n",
       "    <tr>\n",
       "      <th>4</th>\n",
       "      <td>53.129722</td>\n",
       "      <td>5</td>\n",
       "    </tr>\n",
       "    <tr>\n",
       "      <th>5</th>\n",
       "      <td>54.535847</td>\n",
       "      <td>6</td>\n",
       "    </tr>\n",
       "    <tr>\n",
       "      <th>6</th>\n",
       "      <td>55.706215</td>\n",
       "      <td>7</td>\n",
       "    </tr>\n",
       "    <tr>\n",
       "      <th>7</th>\n",
       "      <td>56.708647</td>\n",
       "      <td>8</td>\n",
       "    </tr>\n",
       "    <tr>\n",
       "      <th>8</th>\n",
       "      <td>57.585344</td>\n",
       "      <td>9</td>\n",
       "    </tr>\n",
       "    <tr>\n",
       "      <th>9</th>\n",
       "      <td>58.364361</td>\n",
       "      <td>10</td>\n",
       "    </tr>\n",
       "    <tr>\n",
       "      <th>10</th>\n",
       "      <td>59.065300</td>\n",
       "      <td>11</td>\n",
       "    </tr>\n",
       "    <tr>\n",
       "      <th>11</th>\n",
       "      <td>59.702396</td>\n",
       "      <td>12</td>\n",
       "    </tr>\n",
       "    <tr>\n",
       "      <th>12</th>\n",
       "      <td>60.286313</td>\n",
       "      <td>13</td>\n",
       "    </tr>\n",
       "    <tr>\n",
       "      <th>13</th>\n",
       "      <td>60.825250</td>\n",
       "      <td>14</td>\n",
       "    </tr>\n",
       "    <tr>\n",
       "      <th>14</th>\n",
       "      <td>61.325643</td>\n",
       "      <td>15</td>\n",
       "    </tr>\n",
       "    <tr>\n",
       "      <th>15</th>\n",
       "      <td>61.792640</td>\n",
       "      <td>16</td>\n",
       "    </tr>\n",
       "    <tr>\n",
       "      <th>16</th>\n",
       "      <td>62.230421</td>\n",
       "      <td>17</td>\n",
       "    </tr>\n",
       "    <tr>\n",
       "      <th>17</th>\n",
       "      <td>62.642427</td>\n",
       "      <td>18</td>\n",
       "    </tr>\n",
       "    <tr>\n",
       "      <th>18</th>\n",
       "      <td>63.031525</td>\n",
       "      <td>19</td>\n",
       "    </tr>\n",
       "    <tr>\n",
       "      <th>19</th>\n",
       "      <td>63.400129</td>\n",
       "      <td>20</td>\n",
       "    </tr>\n",
       "    <tr>\n",
       "      <th>20</th>\n",
       "      <td>63.750291</td>\n",
       "      <td>21</td>\n",
       "    </tr>\n",
       "    <tr>\n",
       "      <th>21</th>\n",
       "      <td>64.083767</td>\n",
       "      <td>22</td>\n",
       "    </tr>\n",
       "    <tr>\n",
       "      <th>22</th>\n",
       "      <td>64.402077</td>\n",
       "      <td>23</td>\n",
       "    </tr>\n",
       "    <tr>\n",
       "      <th>23</th>\n",
       "      <td>64.706540</td>\n",
       "      <td>24</td>\n",
       "    </tr>\n",
       "    <tr>\n",
       "      <th>24</th>\n",
       "      <td>64.998310</td>\n",
       "      <td>25</td>\n",
       "    </tr>\n",
       "    <tr>\n",
       "      <th>25</th>\n",
       "      <td>65.278404</td>\n",
       "      <td>26</td>\n",
       "    </tr>\n",
       "    <tr>\n",
       "      <th>26</th>\n",
       "      <td>65.547720</td>\n",
       "      <td>27</td>\n",
       "    </tr>\n",
       "    <tr>\n",
       "      <th>27</th>\n",
       "      <td>65.807058</td>\n",
       "      <td>28</td>\n",
       "    </tr>\n",
       "    <tr>\n",
       "      <th>28</th>\n",
       "      <td>66.057129</td>\n",
       "      <td>29</td>\n",
       "    </tr>\n",
       "    <tr>\n",
       "      <th>29</th>\n",
       "      <td>66.298575</td>\n",
       "      <td>30</td>\n",
       "    </tr>\n",
       "    <tr>\n",
       "      <th>30</th>\n",
       "      <td>66.531969</td>\n",
       "      <td>31</td>\n",
       "    </tr>\n",
       "    <tr>\n",
       "      <th>31</th>\n",
       "      <td>66.757832</td>\n",
       "      <td>32</td>\n",
       "    </tr>\n",
       "    <tr>\n",
       "      <th>32</th>\n",
       "      <td>66.976634</td>\n",
       "      <td>33</td>\n",
       "    </tr>\n",
       "    <tr>\n",
       "      <th>33</th>\n",
       "      <td>67.188804</td>\n",
       "      <td>34</td>\n",
       "    </tr>\n",
       "    <tr>\n",
       "      <th>34</th>\n",
       "      <td>67.394732</td>\n",
       "      <td>35</td>\n",
       "    </tr>\n",
       "    <tr>\n",
       "      <th>35</th>\n",
       "      <td>67.594774</td>\n",
       "      <td>36</td>\n",
       "    </tr>\n",
       "    <tr>\n",
       "      <th>36</th>\n",
       "      <td>67.789258</td>\n",
       "      <td>37</td>\n",
       "    </tr>\n",
       "    <tr>\n",
       "      <th>37</th>\n",
       "      <td>67.978485</td>\n",
       "      <td>38</td>\n",
       "    </tr>\n",
       "    <tr>\n",
       "      <th>38</th>\n",
       "      <td>68.162731</td>\n",
       "      <td>39</td>\n",
       "    </tr>\n",
       "    <tr>\n",
       "      <th>39</th>\n",
       "      <td>68.342251</td>\n",
       "      <td>40</td>\n",
       "    </tr>\n",
       "    <tr>\n",
       "      <th>40</th>\n",
       "      <td>68.517282</td>\n",
       "      <td>41</td>\n",
       "    </tr>\n",
       "    <tr>\n",
       "      <th>41</th>\n",
       "      <td>68.688043</td>\n",
       "      <td>42</td>\n",
       "    </tr>\n",
       "    <tr>\n",
       "      <th>42</th>\n",
       "      <td>68.854738</td>\n",
       "      <td>43</td>\n",
       "    </tr>\n",
       "    <tr>\n",
       "      <th>43</th>\n",
       "      <td>69.017555</td>\n",
       "      <td>44</td>\n",
       "    </tr>\n",
       "    <tr>\n",
       "      <th>44</th>\n",
       "      <td>69.176671</td>\n",
       "      <td>45</td>\n",
       "    </tr>\n",
       "    <tr>\n",
       "      <th>45</th>\n",
       "      <td>69.332250</td>\n",
       "      <td>46</td>\n",
       "    </tr>\n",
       "    <tr>\n",
       "      <th>46</th>\n",
       "      <td>69.484447</td>\n",
       "      <td>47</td>\n",
       "    </tr>\n",
       "    <tr>\n",
       "      <th>47</th>\n",
       "      <td>69.633405</td>\n",
       "      <td>48</td>\n",
       "    </tr>\n",
       "    <tr>\n",
       "      <th>48</th>\n",
       "      <td>69.779259</td>\n",
       "      <td>49</td>\n",
       "    </tr>\n",
       "    <tr>\n",
       "      <th>49</th>\n",
       "      <td>69.922136</td>\n",
       "      <td>50</td>\n",
       "    </tr>\n",
       "  </tbody>\n",
       "</table>\n",
       "</div>"
      ],
      "text/plain": [
       "            Y  X1\n",
       "0   37.685944   1\n",
       "1   45.423688   2\n",
       "2   49.008921   3\n",
       "3   51.368274   4\n",
       "4   53.129722   5\n",
       "5   54.535847   6\n",
       "6   55.706215   7\n",
       "7   56.708647   8\n",
       "8   57.585344   9\n",
       "9   58.364361  10\n",
       "10  59.065300  11\n",
       "11  59.702396  12\n",
       "12  60.286313  13\n",
       "13  60.825250  14\n",
       "14  61.325643  15\n",
       "15  61.792640  16\n",
       "16  62.230421  17\n",
       "17  62.642427  18\n",
       "18  63.031525  19\n",
       "19  63.400129  20\n",
       "20  63.750291  21\n",
       "21  64.083767  22\n",
       "22  64.402077  23\n",
       "23  64.706540  24\n",
       "24  64.998310  25\n",
       "25  65.278404  26\n",
       "26  65.547720  27\n",
       "27  65.807058  28\n",
       "28  66.057129  29\n",
       "29  66.298575  30\n",
       "30  66.531969  31\n",
       "31  66.757832  32\n",
       "32  66.976634  33\n",
       "33  67.188804  34\n",
       "34  67.394732  35\n",
       "35  67.594774  36\n",
       "36  67.789258  37\n",
       "37  67.978485  38\n",
       "38  68.162731  39\n",
       "39  68.342251  40\n",
       "40  68.517282  41\n",
       "41  68.688043  42\n",
       "42  68.854738  43\n",
       "43  69.017555  44\n",
       "44  69.176671  45\n",
       "45  69.332250  46\n",
       "46  69.484447  47\n",
       "47  69.633405  48\n",
       "48  69.779259  49\n",
       "49  69.922136  50"
      ]
     },
     "execution_count": 94,
     "metadata": {},
     "output_type": "execute_result"
    }
   ],
   "source": [
    "df.drop(['int'],axis=1)"
   ]
  },
  {
   "cell_type": "code",
   "execution_count": 100,
   "metadata": {
    "collapsed": false
   },
   "outputs": [
    {
     "data": {
      "text/plain": [
       "array([[ 37.68594435,  45.42368818,  49.00892062,  51.36827369,\n",
       "         53.12972224,  54.53584699,  55.70621533,  56.70864696,\n",
       "         57.58534388,  58.36436139,  59.0653002 ,  59.70239557,\n",
       "         60.28631287,  60.82524974,  61.32564316,  61.79264014,\n",
       "         62.23042091,  62.64242689,  63.03152508,  63.40012924,\n",
       "         63.75029064,  64.08376722,  64.40207693,  64.70653959,\n",
       "         64.99830989,  65.27840383,  65.54772012,  65.80705754,\n",
       "         66.05712924,  66.29857453,  66.53196877,  66.75783161,\n",
       "         66.97663395,  67.18880388,  67.39473167,  67.59477414,\n",
       "         67.78925838,  67.97848492,  68.16273057,  68.34225083,\n",
       "         68.51728205,  68.68804326,  68.85473785,  69.01755501,\n",
       "         69.17667103,  69.33225045,  69.48444707,  69.63340487,\n",
       "         69.77925882,  69.92213565]])"
      ]
     },
     "execution_count": 100,
     "metadata": {},
     "output_type": "execute_result"
    }
   ],
   "source": [
    "y.reshape(1,50)"
   ]
  },
  {
   "cell_type": "code",
   "execution_count": 132,
   "metadata": {
    "collapsed": true
   },
   "outputs": [
    {
     "data": {
      "text/plain": [
       "array([[  1.,   1.],\n",
       "       [  1.,   2.],\n",
       "       [  1.,   3.],\n",
       "       [  1.,   4.],\n",
       "       [  1.,   5.],\n",
       "       [  1.,   6.],\n",
       "       [  1.,   7.],\n",
       "       [  1.,   8.],\n",
       "       [  1.,   9.],\n",
       "       [  1.,  10.],\n",
       "       [  1.,  11.],\n",
       "       [  1.,  12.],\n",
       "       [  1.,  13.],\n",
       "       [  1.,  14.],\n",
       "       [  1.,  15.],\n",
       "       [  1.,  16.],\n",
       "       [  1.,  17.],\n",
       "       [  1.,  18.],\n",
       "       [  1.,  19.],\n",
       "       [  1.,  20.],\n",
       "       [  1.,  21.],\n",
       "       [  1.,  22.],\n",
       "       [  1.,  23.],\n",
       "       [  1.,  24.],\n",
       "       [  1.,  25.],\n",
       "       [  1.,  26.],\n",
       "       [  1.,  27.],\n",
       "       [  1.,  28.],\n",
       "       [  1.,  29.],\n",
       "       [  1.,  30.],\n",
       "       [  1.,  31.],\n",
       "       [  1.,  32.],\n",
       "       [  1.,  33.],\n",
       "       [  1.,  34.],\n",
       "       [  1.,  35.],\n",
       "       [  1.,  36.],\n",
       "       [  1.,  37.],\n",
       "       [  1.,  38.],\n",
       "       [  1.,  39.],\n",
       "       [  1.,  40.],\n",
       "       [  1.,  41.],\n",
       "       [  1.,  42.],\n",
       "       [  1.,  43.],\n",
       "       [  1.,  44.],\n",
       "       [  1.,  45.],\n",
       "       [  1.,  46.],\n",
       "       [  1.,  47.],\n",
       "       [  1.,  48.],\n",
       "       [  1.,  49.],\n",
       "       [  1.,  50.]])"
      ]
     },
     "execution_count": 132,
     "metadata": {},
     "output_type": "execute_result"
    }
   ],
   "source": [
    "x = PolynomialFeatures(1).fit_transform(df.drop(['Y','int'],axis=1))\n",
    "x"
   ]
  },
  {
   "cell_type": "code",
   "execution_count": 82,
   "metadata": {
    "collapsed": false
   },
   "outputs": [
    {
     "data": {
      "text/plain": [
       "array([ 37.68594435,  45.42368818,  49.00892062,  51.36827369,\n",
       "        53.12972224,  54.53584699,  55.70621533,  56.70864696,\n",
       "        57.58534388,  58.36436139,  59.0653002 ,  59.70239557,\n",
       "        60.28631287,  60.82524974,  61.32564316,  61.79264014,\n",
       "        62.23042091,  62.64242689,  63.03152508,  63.40012924,\n",
       "        63.75029064,  64.08376722,  64.40207693,  64.70653959,\n",
       "        64.99830989,  65.27840383,  65.54772012,  65.80705754,\n",
       "        66.05712924,  66.29857453,  66.53196877,  66.75783161,\n",
       "        66.97663395,  67.18880388,  67.39473167,  67.59477414,\n",
       "        67.78925838,  67.97848492,  68.16273057,  68.34225083,\n",
       "        68.51728205,  68.68804326,  68.85473785,  69.01755501,\n",
       "        69.17667103,  69.33225045,  69.48444707,  69.63340487,\n",
       "        69.77925882,  69.92213565])"
      ]
     },
     "execution_count": 82,
     "metadata": {},
     "output_type": "execute_result"
    }
   ],
   "source": [
    "np.asarray(y)"
   ]
  },
  {
   "cell_type": "code",
   "execution_count": 106,
   "metadata": {
    "collapsed": false
   },
   "outputs": [
    {
     "name": "stderr",
     "output_type": "stream",
     "text": [
      "//anaconda/envs/py35/lib/python3.5/site-packages/sklearn/utils/validation.py:386: DeprecationWarning: Passing 1d arrays as data is deprecated in 0.17 and willraise ValueError in 0.19. Reshape your data either using X.reshape(-1, 1) if your data has a single feature or X.reshape(1, -1) if it contains a single sample.\n",
      "  DeprecationWarning)\n",
      "//anaconda/envs/py35/lib/python3.5/site-packages/sklearn/utils/validation.py:386: DeprecationWarning: Passing 1d arrays as data is deprecated in 0.17 and willraise ValueError in 0.19. Reshape your data either using X.reshape(-1, 1) if your data has a single feature or X.reshape(1, -1) if it contains a single sample.\n",
      "  DeprecationWarning)\n"
     ]
    }
   ],
   "source": [
    "polyX = PolynomialFeatures(1).fit_transform(df['X1'])\n",
    "X_train, X_test, y_train, y_test = train_test_split(polyX, y.reshape(1,50), test_size=0.3)"
   ]
  },
  {
   "cell_type": "code",
   "execution_count": 116,
   "metadata": {
    "collapsed": false
   },
   "outputs": [
    {
     "data": {
      "text/plain": [
       "array([ 0.        ,  0.02040816,  0.04081633,  0.06122449,  0.08163265,\n",
       "        0.10204082,  0.12244898,  0.14285714,  0.16326531,  0.18367347,\n",
       "        0.20408163,  0.2244898 ,  0.24489796,  0.26530612,  0.28571429,\n",
       "        0.30612245,  0.32653061,  0.34693878,  0.36734694,  0.3877551 ,\n",
       "        0.40816327,  0.42857143,  0.44897959,  0.46938776,  0.48979592,\n",
       "        0.51020408,  0.53061224,  0.55102041,  0.57142857,  0.59183673,\n",
       "        0.6122449 ,  0.63265306,  0.65306122,  0.67346939,  0.69387755,\n",
       "        0.71428571,  0.73469388,  0.75510204,  0.7755102 ,  0.79591837,\n",
       "        0.81632653,  0.83673469,  0.85714286,  0.87755102,  0.89795918,\n",
       "        0.91836735,  0.93877551,  0.95918367,  0.97959184,  1.        ])"
      ]
     },
     "execution_count": 116,
     "metadata": {},
     "output_type": "execute_result"
    }
   ],
   "source": [
    "x = np.linspace(0,1)\n",
    "x"
   ]
  },
  {
   "cell_type": "code",
   "execution_count": 158,
   "metadata": {
    "collapsed": false
   },
   "outputs": [
    {
     "data": {
      "text/plain": [
       "(-1, 5)"
      ]
     },
     "execution_count": 158,
     "metadata": {},
     "output_type": "execute_result"
    },
    {
     "data": {
      "image/png": "[encoded data removed]",
      "text/plain": [
       "<matplotlib.figure.Figure at 0x11b8ec630>"
      ]
     },
     "metadata": {},
     "output_type": "display_data"
    }
   ],
   "source": [
    "degree = range(8)\n",
    "training_error = []\n",
    "test_error = []\n",
    "R_squared = []\n",
    "AIC = []\n",
    "\n",
    "for i in degree:\n",
    "    polyX = PolynomialFeatures(i).fit_transform(df.drop(['Y','int'],axis=1))\n",
    "    X_train, X_test, y_train, y_test = train_test_split(polyX, y, test_size=0.3)\n",
    "    model = sm.OLS(y_train, X_train)\n",
    "    fit = model.fit()\n",
    "    y_train_predicted = fit.predict(X_train)\n",
    "    training_error.append(mean_squared_error(y_train, y_train_predicted))\n",
    "    y_test_predicted = fit.predict(X_test)\n",
    "    test_error.append(mean_squared_error(y_test, y_test_predicted))\n",
    "    R_squared.append(fit.rsquared)\n",
    "    AIC.append(fit.aic)\n",
    "\n",
    "plt.scatter(degree, training_error, color='g', label='training error')\n",
    "plt.scatter(degree, test_error, color='r', label='test error')\n",
    "plt.scatter(degree, R_squared, label='R-squared')\n",
    "plt.legend()\n",
    "plt.ylim([-1,5])"
   ]
  },
  {
   "cell_type": "code",
   "execution_count": 159,
   "metadata": {
    "collapsed": false
   },
   "outputs": [
    {
     "data": {
      "image/png": "[encoded data removed]",
      "text/plain": [
       "<matplotlib.figure.Figure at 0x11bb0e978>"
      ]
     },
     "metadata": {},
     "output_type": "display_data"
    }
   ],
   "source": [
    "plt.scatter(degree, AIC);"
   ]
  },
  {
   "cell_type": "markdown",
   "metadata": {},
   "source": [
    "**Challenge 4**\n",
    "\n",
    "For the data from two (above), fit a model to only the first 5 of your data points (m=5). Then to first 10 (m=10). Then to first 15 (m=15). In this manner, keep fitting until you fit your entire training set. For each step, calculate the training error and the test error. Plot both (in the same plot) over m. This is called a learning curve."
   ]
  },
  {
   "cell_type": "code",
   "execution_count": 160,
   "metadata": {
    "collapsed": false
   },
   "outputs": [],
   "source": [
    "polyX = PolynomialFeatures(2).fit_transform(df.drop(['Y','int'],axis=1))\n",
    "X_train, X_test, y_train, y_test = train_test_split(polyX, y, test_size=0.3)"
   ]
  },
  {
   "cell_type": "code",
   "execution_count": 161,
   "metadata": {
    "collapsed": false
   },
   "outputs": [
    {
     "data": {
      "image/png": "[encoded data removed]",
      "text/plain": [
       "<matplotlib.figure.Figure at 0x10a8ba828>"
      ]
     },
     "metadata": {},
     "output_type": "display_data"
    }
   ],
   "source": [
    "ms = [5,10,15,20,25,30,35]\n",
    "training_error = []\n",
    "test_error = []\n",
    "\n",
    "for m in ms:\n",
    "    model = sm.OLS(y_train[0:m], X_train[0:m])\n",
    "    fit = model.fit()\n",
    "    y_train_predicted = fit.predict(X_train[0:m])\n",
    "    training_error.append(metrics.mean_squared_error(y_train[0:m], y_train_predicted))\n",
    "    y_test_predicted = fit.predict(X_test)\n",
    "    test_error.append(metrics.mean_squared_error(y_test, y_test_predicted))\n",
    "\n",
    "plt.scatter(ms, training_error, color='g', label='training error')\n",
    "plt.scatter(ms, test_error, label='test error')\n",
    "plt.legend();"
   ]
  },
  {
   "cell_type": "code",
   "execution_count": null,
   "metadata": {
    "collapsed": true
   },
   "outputs": [],
   "source": []
  }
 ],
 "metadata": {
  "kernelspec": {
   "display_name": "Python [conda env:py35]",
   "language": "python",
   "name": "conda-env-py35-py"
  },
  "language_info": {
   "codemirror_mode": {
    "name": "ipython",
    "version": 3
   },
   "file_extension": ".py",
   "mimetype": "text/x-python",
   "name": "python",
   "nbconvert_exporter": "python",
   "pygments_lexer": "ipython3",
   "version": "3.5.2"
  }
 },
 "nbformat": 4,
 "nbformat_minor": 2
}
