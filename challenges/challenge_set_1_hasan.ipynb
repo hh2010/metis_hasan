{
 "cells": [
  {
   "cell_type": "markdown",
   "metadata": {},
   "source": [
    "Topic:        Challenge Set 1\n",
    "<br>Subject:      Explore MTA turnstile data\n",
    "<br>Date:         01/23/2016\n",
    "<br>Name:         Hasan Haq"
   ]
  },
  {
   "cell_type": "markdown",
   "metadata": {},
   "source": [
    "**Challenge 1**"
   ]
  },
  {
   "cell_type": "code",
   "execution_count": 25,
   "metadata": {
    "collapsed": false
   },
   "outputs": [],
   "source": [
    "# Challenge Set 1 - MTA Turnstile Data\n",
    "\n",
    "import numpy as np\n",
    "import dateutil.parser\n",
    "import itertools\n",
    "import datetime\n",
    "import operator\n",
    "import matplotlib.pyplot as plt\n",
    "import operator\n",
    "%matplotlib inline"
   ]
  },
  {
   "cell_type": "code",
   "execution_count": 5,
   "metadata": {
    "collapsed": true
   },
   "outputs": [],
   "source": [
    "# # Challenge 1\n",
    "\n",
    "# data_dict_1 = {}\n",
    "\n",
    "# with open('turnstile_170114.txt', 'rb') as csvfile:\n",
    "#     data = csv.reader(csvfile, delimiter=',')\n",
    "#     next(data, None)\n",
    "#     for i in data:\n",
    "#         temp = map(lambda x: x.strip(), i) \n",
    "#         if tuple(temp[:4]) in data_dict_1.keys():\n",
    "#             data_dict_1[tuple(temp[:4])].append(temp[4:])\n",
    "#         else:\n",
    "#             data_dict_1[tuple(temp[:4])] = temp[4:]\n",
    "            \n",
    "# data_dict_1"
   ]
  },
  {
   "cell_type": "code",
   "execution_count": 6,
   "metadata": {
    "collapsed": false
   },
   "outputs": [],
   "source": [
    "# np.save('data_dict_1.npy', data_dict_1)\n",
    "# data_dict_1 = np.load('data_dict_1.npy')\n",
    "# data_dict_1 = data_dict_1.item()"
   ]
  },
  {
   "cell_type": "markdown",
   "metadata": {},
   "source": [
    "**Challenge 2**"
   ]
  },
  {
   "cell_type": "code",
   "execution_count": 7,
   "metadata": {
    "collapsed": false
   },
   "outputs": [],
   "source": [
    "# # Challenge 2\n",
    "\n",
    "# data_dict_2 = {}\n",
    "\n",
    "# with open('turnstile_170114.txt', 'rb') as csvfile:\n",
    "#     data = csv.reader(csvfile, delimiter=',')\n",
    "#     next(data, None)\n",
    "#     for i in data:\n",
    "#         temp = map(lambda x: x.strip(), i)\n",
    "#         if tuple(temp[:4]) in data_dict_2.keys():\n",
    "#             data_dict_2[tuple(temp[:4])].append([dateutil.parser.parse(\" \".join(temp[6:8])), temp[9]])\n",
    "#         else:\n",
    "#             data_dict_2[tuple(temp[:4])] = [[dateutil.parser.parse(\" \".join(temp[6:8])), temp[9]]]"
   ]
  },
  {
   "cell_type": "code",
   "execution_count": 8,
   "metadata": {
    "collapsed": false,
    "scrolled": true
   },
   "outputs": [],
   "source": [
    "# np.save('data_dict_2.npy', data_dict_2)\n",
    "data_dict_2 = np.load('data_dict_2.npy')\n",
    "data_dict_2 = data_dict_2.item()"
   ]
  },
  {
   "cell_type": "markdown",
   "metadata": {},
   "source": [
    "**Challenge 3**"
   ]
  },
  {
   "cell_type": "code",
   "execution_count": 9,
   "metadata": {
    "collapsed": false,
    "scrolled": true
   },
   "outputs": [],
   "source": [
    "# Challenge 3\n",
    "\n",
    "combined = {}\n",
    "\n",
    "for key, val in data_dict_2.iteritems():\n",
    "    i=0\n",
    "    while i<(len(val)-5):\n",
    "        day = data_dict_2[key][i][0].strftime(\"%Y-%m-%d\")\n",
    "        if key not in combined.keys():\n",
    "            combined[key] = [(day, max(0,int(data_dict_2[key][i+5][1])-int(data_dict_2[key][i][1])))]\n",
    "        else:\n",
    "            combined[key].append((day, max(0,int(data_dict_2[key][i+5][1])-int(data_dict_2[key][i][1]))))\n",
    "        i+=6"
   ]
  },
  {
   "cell_type": "markdown",
   "metadata": {},
   "source": [
    "**Challenge 4**"
   ]
  },
  {
   "cell_type": "code",
   "execution_count": 11,
   "metadata": {
    "collapsed": false
   },
   "outputs": [
    {
     "data": {
      "image/png": "[encoded data removed]",
      "text/plain": [
       "<matplotlib.figure.Figure at 0x11a122bd0>"
      ]
     },
     "metadata": {},
     "output_type": "display_data"
    }
   ],
   "source": [
    "# Challenge 4\n",
    "\n",
    "dates = []\n",
    "counts = []\n",
    "\n",
    "for i in combined[combined.keys()[0]]:\n",
    "    dates.append(datetime.datetime.strptime(i[0], \"%Y-%m-%d\"))\n",
    "    counts.append(i[1])\n",
    "\n",
    "plt.figure(figsize=(10,3))\n",
    "plt.plot(dates,counts);"
   ]
  },
  {
   "cell_type": "markdown",
   "metadata": {},
   "source": [
    "**Challenge 5**"
   ]
  },
  {
   "cell_type": "code",
   "execution_count": 12,
   "metadata": {
    "collapsed": false
   },
   "outputs": [],
   "source": [
    "# Challenge 5\n",
    "\n",
    "by_turnstile = {}\n",
    "\n",
    "for key, val in combined.iteritems():\n",
    "    if key[2] in by_turnstile.keys():\n",
    "        by_turnstile[key[2]] = [(a[0], a[1]+b[1]) for a, b in zip(by_turnstile[key[2]], combined[key])]\n",
    "    else:\n",
    "        by_turnstile[key[2]] = val"
   ]
  },
  {
   "cell_type": "code",
   "execution_count": 13,
   "metadata": {
    "collapsed": false
   },
   "outputs": [],
   "source": [
    "# # Challenge 6\n",
    "\n",
    "# by_station = {}\n",
    "\n",
    "# for key, val in by_turnstile.iteritems():\n",
    "#     for a, b in val:\n",
    "#         if a in by_date.keys():\n",
    "#             by_date[a] += b\n",
    "#         else:\n",
    "#             by_date[a] = b"
   ]
  },
  {
   "cell_type": "markdown",
   "metadata": {},
   "source": [
    "**Challenge 6**"
   ]
  },
  {
   "cell_type": "code",
   "execution_count": 14,
   "metadata": {
    "collapsed": false
   },
   "outputs": [],
   "source": [
    "# Challenge 6\n",
    "\n",
    "by_station = {}\n",
    "\n",
    "for key, val in combined.iteritems():\n",
    "    if key[3] in by_station.keys():\n",
    "        by_station[key[3]] = [(a[0], a[1]+b[1]) for a, b in zip(by_station[key[3]], combined[key])]\n",
    "    else:\n",
    "        by_station[key[3]] = val"
   ]
  },
  {
   "cell_type": "markdown",
   "metadata": {},
   "source": [
    "**Challenge 7**"
   ]
  },
  {
   "cell_type": "code",
   "execution_count": 15,
   "metadata": {
    "collapsed": false
   },
   "outputs": [
    {
     "data": {
      "image/png": "[encoded data removed]",
      "text/plain": [
       "<matplotlib.figure.Figure at 0x11a122490>"
      ]
     },
     "metadata": {},
     "output_type": "display_data"
    }
   ],
   "source": [
    "# Challenge 7\n",
    "\n",
    "dates = []\n",
    "counts = []\n",
    "\n",
    "for i in by_station[by_station.keys()[0]]:\n",
    "    dates.append(datetime.datetime.strptime(i[0], \"%Y-%m-%d\"))\n",
    "    counts.append(i[1])\n",
    "\n",
    "plt.figure(figsize=(10,3))\n",
    "plt.plot(dates,counts);"
   ]
  },
  {
   "cell_type": "markdown",
   "metadata": {},
   "source": [
    "**Challenge 8**"
   ]
  },
  {
   "cell_type": "code",
   "execution_count": 19,
   "metadata": {
    "collapsed": false
   },
   "outputs": [
    {
     "data": {
      "image/png": "[encoded data removed]",
      "text/plain": [
       "<matplotlib.figure.Figure at 0x11cedb310>"
      ]
     },
     "metadata": {},
     "output_type": "display_data"
    }
   ],
   "source": [
    "# Challenge 8 - Only used one week of data so this is already done\n",
    "\n",
    "by_station\n",
    "\n",
    "week_list = []\n",
    "for i in by_station['1 AV']:\n",
    "    week_list.append(i[1])\n",
    "\n",
    "plt.plot(week_list);"
   ]
  },
  {
   "cell_type": "code",
   "execution_count": 48,
   "metadata": {
    "collapsed": false
   },
   "outputs": [],
   "source": [
    "# Challenge 9\n",
    "\n",
    "by_station_only = {}\n",
    "\n",
    "for key, val in by_station.iteritems():\n",
    "    x = 0\n",
    "    for i in by_station[key]:\n",
    "        x += i[1]\n",
    "    by_station_only[key] = x"
   ]
  },
  {
   "cell_type": "code",
   "execution_count": 51,
   "metadata": {
    "collapsed": false
   },
   "outputs": [],
   "source": [
    "by_station_only_sorted = sorted(by_station_only.items(), key=operator.itemgetter(1))\n",
    "by_station_only_sorted.reverse()"
   ]
  },
  {
   "cell_type": "markdown",
   "metadata": {},
   "source": [
    "**Challenge 9**"
   ]
  },
  {
   "cell_type": "code",
   "execution_count": 55,
   "metadata": {
    "collapsed": true
   },
   "outputs": [
    {
     "data": {
      "text/plain": [
       "[('14 ST-UNION SQ', 67414436),\n",
       " ('CORTLANDT ST', 67193791),\n",
       " ('34 ST-PENN STA', 51100701),\n",
       " ('GRD CNTRL-42 ST', 764532),\n",
       " ('34 ST-HERALD SQ', 537251),\n",
       " ('86 ST', 524828),\n",
       " ('42 ST-PORT AUTH', 461604),\n",
       " ('TIMES SQ-42 ST', 430985),\n",
       " ('96 ST', 371549),\n",
       " ('FULTON ST', 361507),\n",
       " ('59 ST COLUMBUS', 361354),\n",
       " ('FLUSHING-MAIN', 349134),\n",
       " ('59 ST', 346434),\n",
       " ('125 ST', 329976),\n",
       " ('14 ST', 298681),\n",
       " ('23 ST', 291181),\n",
       " ('47-50 STS ROCK', 283242),\n",
       " ('50 ST', 279211),\n",
       " ('CHAMBERS ST', 276323),\n",
       " ('JKSN HT-ROOSVLT', 267073),\n",
       " ('ATL AV-BARCLAY', 258478),\n",
       " ('28 ST', 257363),\n",
       " ('WALL ST', 230229),\n",
       " ('LEXINGTON AV/53', 227507),\n",
       " ('JAMAICA CENTER', 223235),\n",
       " ('42 ST-BRYANT PK', 221852),\n",
       " ('72 ST', 216731),\n",
       " ('BOROUGH HALL', 207039),\n",
       " ('116 ST', 193349),\n",
       " ('103 ST', 183698),\n",
       " ('JAY ST-METROTEC', 178942),\n",
       " ('145 ST', 178500),\n",
       " ('CHURCH AV', 178180),\n",
       " ('77 ST', 168866),\n",
       " ('7 AV', 164653),\n",
       " ('GRAND ST', 163093),\n",
       " ('DEKALB AV', 161932),\n",
       " ('W 4 ST-WASH SQ', 160292),\n",
       " ('8 AV', 158021),\n",
       " ('57 ST-7 AV', 156808),\n",
       " ('BOWLING GREEN', 151654),\n",
       " ('KINGS HWY', 149890),\n",
       " ('WOODHAVEN BLVD', 149461),\n",
       " ('KEW GARDENS', 148044),\n",
       " ('168 ST', 147845),\n",
       " ('49 ST', 142372),\n",
       " ('SUTPHIN-ARCHER', 140395),\n",
       " ('33 ST', 138242),\n",
       " ('DELANCEY/ESSEX', 132869),\n",
       " ('FORDHAM RD', 132741),\n",
       " ('SPRING ST', 131199),\n",
       " ('3 AV-149 ST', 130298),\n",
       " ('79 ST', 129475),\n",
       " ('CROWN HTS-UTICA', 126986),\n",
       " ('103 ST-CORONA', 123805),\n",
       " ('66 ST-LINCOLN', 123725),\n",
       " ('BEDFORD AV', 123532),\n",
       " ('51 ST', 121721),\n",
       " ('68ST-HUNTER CO', 121593),\n",
       " ('BAY PKWY', 120781),\n",
       " ('161/YANKEE STAD', 120010),\n",
       " ('MYRTLE-WYCKOFF', 118295),\n",
       " ('CANAL ST', 115784),\n",
       " ('JUNCTION BLVD', 112586),\n",
       " ('181 ST', 112098),\n",
       " ('1 AV', 111932),\n",
       " ('72 ST-2 AVE', 111706),\n",
       " ('NOSTRAND AV', 111110),\n",
       " (\"B'WAY-LAFAYETTE\", 104475),\n",
       " ('86 ST-2 AVE', 102432),\n",
       " ('36 ST', 101467),\n",
       " ('90 ST-ELMHURST', 101340),\n",
       " ('BROADWAY', 101268),\n",
       " ('ASTORIA DITMARS', 100939),\n",
       " ('THIRTY THIRD ST', 100293),\n",
       " ('KINGSBRIDGE RD', 100191),\n",
       " ('5 AV/53 ST', 99805),\n",
       " ('167 ST', 98202),\n",
       " ('63 DR-REGO PARK', 98143),\n",
       " ('JAMAICA 179 ST', 97047),\n",
       " ('135 ST', 95665),\n",
       " ('LEXINGTON AV/63', 95403),\n",
       " ('CATHEDRAL PKWY', 93140),\n",
       " ('BROOKLYN BRIDGE', 92623),\n",
       " ('5 AV/59 ST', 91652),\n",
       " ('61 ST WOODSIDE', 90795),\n",
       " ('FRANKLIN AV', 90123),\n",
       " ('RECTOR ST', 89058),\n",
       " ('UTICA AV', 88674),\n",
       " ('VERNON-JACKSON', 88306),\n",
       " ('2 AV', 87864),\n",
       " ('COURT SQ', 86721),\n",
       " ('FLATBUSH AV-B.C', 86669),\n",
       " ('30 AV', 86247),\n",
       " ('8 ST-NYU', 85826),\n",
       " ('PARKCHESTER', 85189),\n",
       " ('STEINWAY ST', 83940),\n",
       " ('BLEECKER ST', 83630),\n",
       " ('HALSEY ST', 81032),\n",
       " ('46 ST BLISS ST', 80486),\n",
       " ('DYCKMAN ST', 80150),\n",
       " ('ELMHURST AV', 79426),\n",
       " ('GRAND-NEWTOWN', 79412),\n",
       " ('PRINCE ST', 79373),\n",
       " ('PROSPECT AV', 79044),\n",
       " ('82 ST-JACKSON H', 78978),\n",
       " ('WORLD TRADE CTR', 78936),\n",
       " ('SHEEPSHEAD BAY', 78873),\n",
       " ('WHITEHALL S-FRY', 78214),\n",
       " ('170 ST', 77948),\n",
       " ('PAVONIA/NEWPORT', 76696),\n",
       " ('96 ST-2 AVE', 75983),\n",
       " ('175 ST', 73418),\n",
       " ('111 ST', 72201),\n",
       " ('137 ST CITY COL', 72032),\n",
       " ('CANARSIE-ROCKAW', 71935),\n",
       " ('ST. GEORGE', 71798),\n",
       " ('110 ST', 71495),\n",
       " ('BEDFORD PK BLVD', 71425),\n",
       " ('GUN HILL RD', 70517),\n",
       " ('ASTORIA BLVD', 69860),\n",
       " ('33 ST-RAWSON ST', 69568),\n",
       " ('METROPOLITAN AV', 68830),\n",
       " ('BERGEN ST', 67869),\n",
       " ('MYRTLE AV', 67191),\n",
       " ('EUCLID AV', 65259),\n",
       " ('CONEY IS-STILLW', 65129),\n",
       " ('ASTOR PL', 64961),\n",
       " ('57 ST', 64817),\n",
       " ('FT HAMILTON PKY', 64417),\n",
       " ('CITY / BUS', 64388),\n",
       " ('157 ST', 63710),\n",
       " ('BURNSIDE AV', 63539),\n",
       " ('GRAHAM AV', 63402),\n",
       " ('AVENUE U', 63343),\n",
       " ('LORIMER ST', 63024),\n",
       " ('MARCY AV', 62786),\n",
       " ('40 ST LOWERY ST', 62655),\n",
       " ('116 ST-COLUMBIA', 62317),\n",
       " ('FLUSHING AV', 62243),\n",
       " ('HOYT-SCHER', 61289),\n",
       " ('NEWARK BM BW', 60465),\n",
       " ('18 AV', 60383),\n",
       " ('81 ST-MUSEUM', 60024),\n",
       " ('BRIGHTON BEACH', 60005),\n",
       " ('NEWKIRK PLAZA', 59891),\n",
       " ('HUNTS POINT AV', 59497),\n",
       " ('5 AVE', 59267),\n",
       " ('QUEENSBORO PLZ', 59220),\n",
       " ('CHRISTOPHER ST', 58564),\n",
       " ('TREMONT AV', 58439),\n",
       " ('CARROLL ST', 57873),\n",
       " ('4AV-9 ST', 56936),\n",
       " ('NEVINS ST', 56771),\n",
       " ('EXCHANGE PLACE', 56508),\n",
       " ('CENTRAL PK N110', 55948),\n",
       " ('BROADWAY JCT', 55795),\n",
       " ('PELHAM PKWY', 55700),\n",
       " ('67 AV', 55504),\n",
       " ('GREENPOINT AV', 55468),\n",
       " ('21 ST-QNSBRIDGE', 55454),\n",
       " ('SIMPSON ST', 54400),\n",
       " ('NASSAU ST', 53252),\n",
       " ('34 ST-HUDSON YD', 52495),\n",
       " ('INWOOD-207 ST', 52332),\n",
       " ('ROCKAWAY AV', 52101),\n",
       " ('HOUSTON ST', 50735),\n",
       " ('MOSHOLU PKWY', 50055),\n",
       " ('NORWOOD 205 ST', 49663),\n",
       " ('PROSPECT PARK', 49026),\n",
       " ('SOUTH FERRY', 49012),\n",
       " ('YORK ST', 48679),\n",
       " ('231 ST', 48394),\n",
       " ('169 ST', 48241),\n",
       " ('BAY RIDGE AV', 47151),\n",
       " ('E 180 ST', 46948),\n",
       " ('GRAND ARMY PLAZ', 46238),\n",
       " ('HIGH ST', 46183),\n",
       " ('HOYT ST', 45500),\n",
       " ('149/GRAND CONC', 44804),\n",
       " ('191 ST', 43991),\n",
       " ('WEST FARMS SQ', 43626),\n",
       " ('VAN SICLEN AV', 43283),\n",
       " ('JEFFERSON ST', 43136),\n",
       " ('MONTROSE AV', 43037),\n",
       " ('OZONE PK LEFFRT', 42953),\n",
       " ('36 AV', 42943),\n",
       " ('46 ST', 42425),\n",
       " ('PELHAM BAY PARK', 42222),\n",
       " ('COURT SQ-23 ST', 41898),\n",
       " ('53 ST', 41820),\n",
       " ('MORGAN AV', 41419),\n",
       " ('MORISN AV/SNDVW', 41038),\n",
       " ('CASTLE HILL AV', 40897),\n",
       " ('18 ST', 40729),\n",
       " ('NORTHERN BLVD', 40588),\n",
       " ('HUNTERS PT AV', 40375),\n",
       " ('207 ST', 40348),\n",
       " ('BROAD ST', 39939),\n",
       " ('25 AV', 39648),\n",
       " ('3 AV 138 ST', 39226),\n",
       " ('71 ST', 39175),\n",
       " ('CORTELYOU RD', 38901),\n",
       " ('155 ST', 38855),\n",
       " ('THIRTY ST', 38685),\n",
       " ('14TH STREET', 38666),\n",
       " ('V.CORTLANDT PK', 38588),\n",
       " ('183 ST', 38584),\n",
       " ('GATES AV', 38529),\n",
       " ('PARSONS BLVD', 38476),\n",
       " ('ELDER AV', 38348),\n",
       " ('EAST BROADWAY', 38266),\n",
       " ('CITY HALL', 37674),\n",
       " ('UNION ST', 37514),\n",
       " ('ROOSEVELT ISLND', 37030),\n",
       " ('QUEENS PLAZA', 36717),\n",
       " ('15 ST-PROSPECT', 36662),\n",
       " ('20 AV', 36472),\n",
       " ('BROOK AV', 36303),\n",
       " ('GRANT AV', 36206),\n",
       " ('52 ST', 35829),\n",
       " ('176 ST', 35600),\n",
       " ('ROCKAWAY BLVD', 35308),\n",
       " ('AVENUE M', 35077),\n",
       " ('174 ST', 35070),\n",
       " ('STERLING ST', 35069),\n",
       " ('3 AV', 34660),\n",
       " ('MARBLE HILL-225', 34385),\n",
       " ('WOODLAWN', 34123),\n",
       " ('BAY RIDGE-95 ST', 34112),\n",
       " ('JFK JAMAICA CT1', 34108),\n",
       " ('JACKSON AV', 33941),\n",
       " ('AVENUE J', 33911),\n",
       " ('PARKSIDE AV', 33800),\n",
       " ('NEWKIRK AV', 33618),\n",
       " ('MYRTLE-WILLOUGH', 33433),\n",
       " ('9 AV', 33346),\n",
       " ('CLARK ST', 33321),\n",
       " ('WINTHROP ST', 33278),\n",
       " ('174-175 STS', 32900),\n",
       " ('LACKAWANNA', 32690),\n",
       " ('NEW LOTS AV', 32044),\n",
       " ('MT EDEN AV', 32026),\n",
       " ('NEW LOTS', 31488),\n",
       " ('TWENTY THIRD ST', 31458),\n",
       " ('182-183 STS', 31387),\n",
       " ('CLASSON AV', 31291),\n",
       " ('FRESH POND RD', 31212),\n",
       " ('KINGSTON-THROOP', 31140),\n",
       " ('ALLERTON AV', 30819),\n",
       " ('PARK PLACE', 30788),\n",
       " ('BRIARWOOD', 30511),\n",
       " ('WAKEFIELD/241', 30049),\n",
       " ('BEDFORD-NOSTRAN', 29842),\n",
       " ('KOSCIUSZKO ST', 29661),\n",
       " ('233 ST', 29651),\n",
       " ('EASTN PKWY-MUSM', 29635),\n",
       " ('SARATOGA AV', 29563),\n",
       " ('CLINTON-WASH AV', 29551),\n",
       " ('WESTCHESTER SQ', 29500),\n",
       " ('E 149 ST', 28725),\n",
       " ('45 ST', 28484),\n",
       " ('CRESCENT ST', 28289),\n",
       " ('KINGSTON AV', 28067),\n",
       " ('190 ST', 27996),\n",
       " ('RALPH AV', 27791),\n",
       " ('SMITH-9 ST', 27661),\n",
       " ('HARRISON', 27487),\n",
       " ('FREEMAN ST', 27485),\n",
       " ('WILSON AV', 26297),\n",
       " ('LAFAYETTE AV', 26283),\n",
       " ('BEVERLY RD', 26216),\n",
       " ('FRANKLIN ST', 26049),\n",
       " ('NEW UTRECHT AV', 25764),\n",
       " ('SUTPHIN BLVD', 25753),\n",
       " ('FAR ROCKAWAY', 25474),\n",
       " ('HARLEM 148 ST', 25115),\n",
       " ('238 ST', 24894),\n",
       " ('69 ST', 24842),\n",
       " ('163 ST-AMSTERDM', 24757),\n",
       " ('FOREST AVE', 24104),\n",
       " ('JAMAICA VAN WK', 23313),\n",
       " ('80 ST', 23283),\n",
       " ('85 ST-FOREST PK', 23235),\n",
       " ('CYPRESS AV', 23213),\n",
       " ('225 ST', 23093),\n",
       " ('EASTCHSTER/DYRE', 22956),\n",
       " ('BOWERY', 22489),\n",
       " ('75 ST-ELDERTS', 22272),\n",
       " ('EAST 105 ST', 21984),\n",
       " ('NECK RD', 21780),\n",
       " ('25 ST', 21772),\n",
       " ('75 AV', 21716),\n",
       " ('ST LAWRENCE AV', 21513),\n",
       " ('DITMAS AV', 21292),\n",
       " ('NEWARK C', 21022),\n",
       " ('4 AV-9 ST', 20874),\n",
       " ('65 ST', 20867),\n",
       " ('CENTRAL AV', 20812),\n",
       " ('BAYCHESTER AV', 20579),\n",
       " ('BURKE AV', 20513),\n",
       " ('NEREID AV', 20321),\n",
       " ('LONGWOOD AV', 20299),\n",
       " ('BUHRE AV', 20291),\n",
       " ('138/GRAND CONC', 20029),\n",
       " ('NORWOOD AV', 20010),\n",
       " ('FOREST HILLS 71', 19943),\n",
       " ('9TH STREET', 19494),\n",
       " ('INTERVALE AV', 19464),\n",
       " ('CLEVELAND ST', 19339),\n",
       " ('PRESIDENT ST', 19118),\n",
       " ('LIVONIA AV', 19045),\n",
       " ('OCEAN PKWY', 18997),\n",
       " ('BEVERLEY ROAD', 18944),\n",
       " ('CHAUNCEY ST', 18913),\n",
       " ('219 ST', 18877),\n",
       " ('NEWARK HW BMEBE', 18869),\n",
       " ('RIT-ROOSEVELT', 18759),\n",
       " ('104 ST', 18661),\n",
       " ('KNICKERBOCKER', 18644),\n",
       " ('VAN SICLEN AVE', 18392),\n",
       " ('LIBERTY AV', 17855),\n",
       " ('SHEPHERD AV', 17660),\n",
       " ('39 AV', 17089),\n",
       " ('HOWARD BCH JFK', 17028),\n",
       " ('SUTTER AV', 16679),\n",
       " ('88 ST', 16453),\n",
       " ('SENECA AVE', 16225),\n",
       " ('6 AV', 16214),\n",
       " ('74 ST-BROADWAY', 15646),\n",
       " ('BAY 50 ST', 15549),\n",
       " ('BRONX PARK EAST', 15188),\n",
       " ('ZEREGA AV', 15083),\n",
       " ('RIT-MANHATTAN', 15052),\n",
       " ('HEWES ST', 15042),\n",
       " ('AVENUE X', 14477),\n",
       " ('BEACH 60 ST', 14432),\n",
       " ('ALABAMA AV', 14301),\n",
       " ('AVENUE H', 14220),\n",
       " ('AVENUE P', 13776),\n",
       " ('JOURNAL SQUARE', 13536),\n",
       " ('BEACH 67 ST', 13424),\n",
       " ('AVENUE N', 13327),\n",
       " ('BUSHWICK AV', 12670),\n",
       " ('MORRIS PARK', 12517),\n",
       " ('METS-WILLETS PT', 12433),\n",
       " ('MIDDLETOWN RD', 11935),\n",
       " ('121 ST', 11934),\n",
       " ('215 ST', 11797),\n",
       " ('BEACH 25 ST', 11758),\n",
       " ('WHITLOCK AV', 11349),\n",
       " ('W 8 ST-AQUARIUM', 11277),\n",
       " ('ATLANTIC AV', 11050),\n",
       " ('55 ST', 10879),\n",
       " ('NEPTUNE AV', 10216),\n",
       " ('AQUEDUCT RACETR', 10064),\n",
       " ('AVENUE I', 9512),\n",
       " ('BOTANIC GARDEN', 9289),\n",
       " ('CYPRESS HILLS', 8646),\n",
       " ('TOMPKINSVILLE', 8245),\n",
       " ('21 ST', 8041),\n",
       " ('GROVE STREET', 7256),\n",
       " (\"E 143/ST MARY'S\", 5441),\n",
       " ('AQUEDUCT N.COND', 5426),\n",
       " ('BEACH 36 ST', 4812),\n",
       " ('BEACH 90 ST', 4528),\n",
       " ('ROCKAWAY PARK B', 3645),\n",
       " ('BEACH 44 ST', 3011),\n",
       " ('BEACH 98 ST', 2991),\n",
       " ('BROAD CHANNEL', 1650),\n",
       " ('BEACH 105 ST', 1477),\n",
       " ('NEWARK HM HE', 250)]"
      ]
     },
     "execution_count": 55,
     "metadata": {},
     "output_type": "execute_result"
    }
   ],
   "source": [
    "# Challenge 9 - Top 10 Stations\n",
    "by_station_only_sorted[0:10]"
   ]
  },
  {
   "cell_type": "markdown",
   "metadata": {},
   "source": [
    "**Challenge 10**"
   ]
  },
  {
   "cell_type": "code",
   "execution_count": 61,
   "metadata": {
    "collapsed": true
   },
   "outputs": [],
   "source": [
    "# Challenge 10 - Plot the Histogram\n",
    "\n",
    "hist_list = []\n",
    "hist_index = []\n",
    "\n",
    "for i in by_station_only_sorted:\n",
    "    hist_list.append(i[1])\n",
    "    hist_index.append(i[0])"
   ]
  },
  {
   "cell_type": "code",
   "execution_count": 67,
   "metadata": {
    "collapsed": false
   },
   "outputs": [
    {
     "data": {
      "image/png": "[encoded data removed]",
      "text/plain": [
       "<matplotlib.figure.Figure at 0x11dcbf090>"
      ]
     },
     "metadata": {},
     "output_type": "display_data"
    }
   ],
   "source": [
    "# Very very few stations have the vast majority of traffic\n",
    "\n",
    "plt.bar(range(len(hist_list)), hist_list);"
   ]
  }
 ],
 "metadata": {
  "anaconda-cloud": {},
  "kernelspec": {
   "display_name": "Python [conda root]",
   "language": "python",
   "name": "conda-root-py"
  },
  "language_info": {
   "codemirror_mode": {
    "name": "ipython",
    "version": 2
   },
   "file_extension": ".py",
   "mimetype": "text/x-python",
   "name": "python",
   "nbconvert_exporter": "python",
   "pygments_lexer": "ipython2",
   "version": "2.7.13"
  }
 },
 "nbformat": 4,
 "nbformat_minor": 2
}
