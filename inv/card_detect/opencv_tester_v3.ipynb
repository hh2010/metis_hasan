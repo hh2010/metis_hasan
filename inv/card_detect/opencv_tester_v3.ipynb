{
 "cells": [
  {
   "cell_type": "code",
   "execution_count": 2,
   "metadata": {
    "collapsed": false
   },
   "outputs": [],
   "source": [
    "import sys\n",
    "import numpy as np\n",
    "import cv2\n",
    "from matplotlib import pyplot as plt\n",
    "%matplotlib inline"
   ]
  },
  {
   "cell_type": "code",
   "execution_count": 3,
   "metadata": {
    "collapsed": true
   },
   "outputs": [],
   "source": [
    "def rectify(h):\n",
    "    h = h.reshape((4,2))\n",
    "    hnew = np.zeros((4,2),dtype = np.float32)\n",
    "\n",
    "    add = h.sum(1)\n",
    "    hnew[0] = h[np.argmin(add)]\n",
    "    hnew[2] = h[np.argmax(add)]\n",
    "\n",
    "    diff = np.diff(h,axis = 1)\n",
    "    hnew[1] = h[np.argmin(diff)]\n",
    "    hnew[3] = h[np.argmax(diff)]\n",
    "\n",
    "    return hnew"
   ]
  },
  {
   "cell_type": "code",
   "execution_count": 124,
   "metadata": {
    "collapsed": false
   },
   "outputs": [],
   "source": [
    "def getCards(im, numcards=2):\n",
    "    if (numcards==2 or numcards==3):\n",
    "        a = 150\n",
    "    else:\n",
    "        a = 90\n",
    "    gray = cv2.cvtColor(im, cv2.COLOR_BGR2GRAY)\n",
    "    flag, thresh = cv2.threshold(gray, a, 255, cv2.THRESH_BINARY)\n",
    "    image, contours, hierarchy = cv2.findContours(thresh,cv2.RETR_TREE,cv2.CHAIN_APPROX_SIMPLE)\n",
    "    contours = sorted(contours, key=cv2.contourArea,reverse=True)[:numcards]\n",
    "    \n",
    "    for card in contours:\n",
    "        peri = cv2.arcLength(card,True)\n",
    "        approx = rectify(cv2.approxPolyDP(card,0.0975*peri,True))\n",
    "\n",
    "        h = np.array([ [0,0],[449,0],[449,449],[0,449] ],np.float32)\n",
    "\n",
    "        transform = cv2.getPerspectiveTransform(approx,h) # how do these arguments work?\n",
    "        warp = cv2.warpPerspective(im,transform,(450,450)) # how do these arguments work?\n",
    "        warp = warp[:,0:160]\n",
    "#         fig, ax = plt.subplots(figsize=(2, 1))\n",
    "#         plt.imshow(warp,'gray')\n",
    "#         plt.title(\"\")\n",
    "#         plt.xticks([]),plt.yticks([])\n",
    "#         plt.show()\n",
    "\n",
    "        yield warp"
   ]
  },
  {
   "cell_type": "code",
   "execution_count": 5,
   "metadata": {
    "collapsed": true
   },
   "outputs": [],
   "source": [
    "def preprocess(img):\n",
    "    gray = cv2.cvtColor(img, cv2.COLOR_BGR2GRAY)\n",
    "    # blur = cv2.GaussianBlur(gray,(5,5),2 )\n",
    "    # thresh = cv2.adaptiveThreshold(blur,255,1,1,11,1) # do we need this?\n",
    "    retval, thresh = cv2.threshold(gray, 120, 255, cv2.THRESH_BINARY)\n",
    "    return thresh"
   ]
  },
  {
   "cell_type": "code",
   "execution_count": 154,
   "metadata": {
    "collapsed": false
   },
   "outputs": [],
   "source": [
    "# We will want to pickle the dictionary\n",
    "\n",
    "def get_training(training_labels_filename, training_image_filename, num_training_cards):\n",
    "    training = {}\n",
    "    labels = {}\n",
    "    \n",
    "    for line in file(training_labels_filename):\n",
    "        key, num, suit = line.strip().split()\n",
    "        labels[int(key)] = (num, suit)\n",
    "\n",
    "    print \"Training\"\n",
    "    \n",
    "    for f in training_image_filename:\n",
    "        im = cv2.imread(f)\n",
    "        for i, c in enumerate(getCards(im, num_training_cards/len(training_image_filename))):\n",
    "            ind = i+(13*training_image_filename.index(f))\n",
    "            training[ind] = (labels[ind], preprocess(c))\n",
    "\n",
    "#             fig, ax = plt.subplots(figsize=(2, 1))\n",
    "#             plt.imshow(c,'gray')\n",
    "#             plt.title(\"\")\n",
    "#             plt.xticks([]),plt.yticks([])\n",
    "#             plt.show()\n",
    "    print \"Done training\"\n",
    "    return training"
   ]
  },
  {
   "cell_type": "code",
   "execution_count": 174,
   "metadata": {
    "collapsed": true
   },
   "outputs": [],
   "source": [
    "def find_closest_card(training, im):\n",
    "    features = preprocess(im)\n",
    "    return sorted(training.values(), key=lambda x: orb_match(x[1], features), reverse=False)[0][0]"
   ]
  },
  {
   "cell_type": "code",
   "execution_count": 65,
   "metadata": {
    "collapsed": false
   },
   "outputs": [],
   "source": [
    "def imgdiff(img1, img2):\n",
    "#     img1 = cv2.GaussianBlur(img1, (5, 5), 0)\n",
    "#     img2 = cv2.GaussianBlur(img2, (5, 5), 0)\n",
    "    diff = cv2.absdiff(img1, img2)\n",
    "#     diff = cv2.GaussianBlur(diff, (5, 5), 5)\n",
    "#     flag, diff = cv2.threshold(diff, 200, 255, cv2.THRESH_BINARY)\n",
    "#     fig, ax = plt.subplots(1, 3, figsize=(3, 2), sharey=True)\n",
    "#     plt.subplot(131), plt.imshow(img1), plt.title('')\n",
    "#     plt.xticks([]), plt.yticks([])\n",
    "#     plt.subplot(132), plt.imshow(img2), plt.title('')\n",
    "#     plt.xticks([]), plt.yticks([])\n",
    "#     plt.subplot(133), plt.imshow(diff), plt.title('')\n",
    "#     plt.xticks([]), plt.yticks([])\n",
    "#     plt.show()\n",
    "    return np.sum(diff)"
   ]
  },
  {
   "cell_type": "code",
   "execution_count": 191,
   "metadata": {
    "collapsed": false,
    "scrolled": true
   },
   "outputs": [
    {
     "name": "stdout",
     "output_type": "stream",
     "text": [
      "Training\n",
      "Done training\n",
      "[('7', 's'), ('8', 'd')]\n"
     ]
    }
   ],
   "source": [
    "filename = 'test/7s8d.png'\n",
    "num_cards = 2\n",
    "training_image_filename = ['train/spades.png', 'train/clubs.png', 'train/diamonds2.png', 'train/hearts.png']\n",
    "training_labels_filename = 'train/train2.tsv'\n",
    "num_training_cards = 52\n",
    "\n",
    "training = get_training(training_labels_filename,training_image_filename,num_training_cards)\n",
    "\n",
    "im = cv2.imread(filename)\n",
    "\n",
    "cards = [find_closest_card(training,c) for c in getCards(im,num_cards)]\n",
    "print cards\n",
    "# getCards(cv2.imread(training_image_filename), num_training_cards)\n",
    "# getCards2(im, num_cards)"
   ]
  },
  {
   "cell_type": "code",
   "execution_count": 86,
   "metadata": {
    "collapsed": true
   },
   "outputs": [],
   "source": [
    "def getCards2(im, numcards=13):\n",
    "#     if numcards==2:\n",
    "#         a = 150\n",
    "#     else:\n",
    "#         a = 120\n",
    "    gray = cv2.cvtColor(im, cv2.COLOR_BGR2GRAY)\n",
    "    flag, thresh = cv2.threshold(gray, 175, 255, cv2.THRESH_BINARY)\n",
    "    image, contours, hierarchy = cv2.findContours(thresh,cv2.RETR_TREE,cv2.CHAIN_APPROX_SIMPLE)\n",
    "    contours = sorted(contours, key=cv2.contourArea,reverse=True)[:numcards]\n",
    "    \n",
    "    for card in contours:\n",
    "        peri = cv2.arcLength(card,True)\n",
    "        approx = rectify(cv2.approxPolyDP(card,0.9*peri,True))\n",
    "\n",
    "        h = np.array([ [0,0],[449,0],[449,449],[0,449] ],np.float32)\n",
    "\n",
    "        transform = cv2.getPerspectiveTransform(approx,h) # how do these arguments work?\n",
    "        warp = cv2.warpPerspective(im,transform,(450,450)) # how do these arguments work?\n",
    "\n",
    "        fig, ax = plt.subplots(figsize=(2, 1))\n",
    "        plt.imshow(warp,'gray')\n",
    "        plt.title(\"\")\n",
    "        plt.xticks([]),plt.yticks([])\n",
    "        plt.show()"
   ]
  },
  {
   "cell_type": "code",
   "execution_count": 186,
   "metadata": {
    "collapsed": false
   },
   "outputs": [],
   "source": [
    "def orb_match(im1, im2):\n",
    "    orb = cv2.ORB_create(edgeThreshold=5, nlevels=6, nfeatures=100000)\n",
    "    kp1, des1 = orb.detectAndCompute(im1, None)\n",
    "    kp2, des2 = orb.detectAndCompute(im2, None)\n",
    "    bf = cv2.BFMatcher(cv2.NORM_HAMMING, crossCheck=True)\n",
    "    matches = bf.match(des1, des2)\n",
    "#     matches = sorted(matches, key = lambda x:x.distance)\n",
    "    \n",
    "    good = []\n",
    "    for m in matches:\n",
    "        if m.distance < 75:\n",
    "            good.append(m)\n",
    "    \n",
    "#     plt.subplot(131), plt.imshow(im1), plt.title('')\n",
    "#     plt.xticks([]), plt.yticks([])\n",
    "#     plt.subplot(132), plt.imshow(im2), plt.title('')\n",
    "#     plt.xticks([]), plt.yticks([])\n",
    "#     plt.show()\n",
    "    \n",
    "    return sum([x.distance for x in good])/len(good)\n",
    "#     return sum(good)\n",
    "#     print [x.distance for x in matches]\n",
    "#     img3 = cv2.drawKeypoints(im2, kp2, None, color=(0,255,0), flags=0)\n",
    "#     img3 = cv2.drawMatches(im1,kp1,im2,kp2,matches[-2:-1], None, flags=2)\n",
    "#     print kp2\n",
    "#     plt.imshow(img3),plt.show()\n",
    "\n"
   ]
  },
  {
   "cell_type": "code",
   "execution_count": 244,
   "metadata": {
    "collapsed": false
   },
   "outputs": [
    {
     "ename": "TypeError",
     "evalue": "orb_match() takes exactly 2 arguments (0 given)",
     "output_type": "error",
     "traceback": [
      "\u001b[0;31m---------------------------------------------------------------------------\u001b[0m",
      "\u001b[0;31mTypeError\u001b[0m                                 Traceback (most recent call last)",
      "\u001b[0;32m<ipython-input-244-87d9a5471a9b>\u001b[0m in \u001b[0;36m<module>\u001b[0;34m()\u001b[0m\n\u001b[0;32m----> 1\u001b[0;31m \u001b[0morb_match\u001b[0m\u001b[0;34m(\u001b[0m\u001b[0;34m)\u001b[0m\u001b[0;34m\u001b[0m\u001b[0m\n\u001b[0m",
      "\u001b[0;31mTypeError\u001b[0m: orb_match() takes exactly 2 arguments (0 given)"
     ]
    }
   ],
   "source": [
    "orb_match()"
   ]
  },
  {
   "cell_type": "code",
   "execution_count": null,
   "metadata": {
    "collapsed": true
   },
   "outputs": [],
   "source": []
  }
 ],
 "metadata": {
  "anaconda-cloud": {},
  "kernelspec": {
   "display_name": "Python [conda env:opencv_27]",
   "language": "python",
   "name": "conda-env-opencv_27-py"
  },
  "language_info": {
   "codemirror_mode": {
    "name": "ipython",
    "version": 2
   },
   "file_extension": ".py",
   "mimetype": "text/x-python",
   "name": "python",
   "nbconvert_exporter": "python",
   "pygments_lexer": "ipython2",
   "version": "2.7.12"
  }
 },
 "nbformat": 4,
 "nbformat_minor": 2
}
