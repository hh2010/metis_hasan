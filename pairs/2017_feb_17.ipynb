{
 "cells": [
  {
   "cell_type": "markdown",
   "metadata": {},
   "source": [
    "def square(x):\n",
    "    return x * x\n",
    "\n",
    "square(5)\n",
    "25\n",
    "Write a decorator called talky so that when you run this:\n",
    "\n",
    "@talky\n",
    "def square(x):\n",
    "    return x * x\n",
    "\n",
    "answer = square(5)\n",
    "You get the following output:\n",
    "\n",
    "Oh hi!\n",
    "The result sure is 25!"
   ]
  },
  {
   "cell_type": "code",
   "execution_count": 155,
   "metadata": {
    "collapsed": false
   },
   "outputs": [],
   "source": [
    "# # Decorator? Adjusts Square\n",
    "# def talky(func):\n",
    "#     def hi(x):\n",
    "#         return \"Oh hi! The result sure is \" + str(func(x)) + \"!\"\n",
    "#     return hi"
   ]
  },
  {
   "cell_type": "code",
   "execution_count": 193,
   "metadata": {
    "collapsed": false
   },
   "outputs": [],
   "source": [
    "# Original function: Square is Square\n",
    "# @talky_with(\"Aaron\")\n",
    "# def square(x):\n",
    "#     return x*x\n",
    "\n",
    "@talky_with(\"Aaron\")\n",
    "def cubed(x):\n",
    "    return x*x*x"
   ]
  },
  {
   "cell_type": "code",
   "execution_count": 194,
   "metadata": {
    "collapsed": false
   },
   "outputs": [
    {
     "name": "stdout",
     "output_type": "stream",
     "text": [
      "Oh hi! I'm  Aaron \n",
      "The result sure is 27!\n"
     ]
    }
   ],
   "source": [
    "cubed(3)"
   ]
  },
  {
   "cell_type": "code",
   "execution_count": 192,
   "metadata": {
    "collapsed": false
   },
   "outputs": [],
   "source": [
    "def talky_with(s):\n",
    "    def talky_with_dec(func):\n",
    "        def hi(x):\n",
    "            return print(\"Oh hi! I'm \", s, \"\\nThe result sure is\", str(func(x)) + \"!\")\n",
    "        return hi\n",
    "    return talky_with_dec"
   ]
  },
  {
   "cell_type": "code",
   "execution_count": 186,
   "metadata": {
    "collapsed": false
   },
   "outputs": [
    {
     "ename": "TypeError",
     "evalue": "talky_with() missing 1 required positional argument: 's'",
     "output_type": "error",
     "traceback": [
      "\u001b[0;31m---------------------------------------------------------------------------\u001b[0m",
      "\u001b[0;31mTypeError\u001b[0m                                 Traceback (most recent call last)",
      "\u001b[0;32m<ipython-input-186-ec148f1f9c3e>\u001b[0m in \u001b[0;36m<module>\u001b[0;34m()\u001b[0m\n\u001b[0;32m----> 1\u001b[0;31m \u001b[0mtalky_with\u001b[0m\u001b[0;34m(\u001b[0m\u001b[0;34m)\u001b[0m\u001b[0;34m\u001b[0m\u001b[0m\n\u001b[0m",
      "\u001b[0;31mTypeError\u001b[0m: talky_with() missing 1 required positional argument: 's'"
     ]
    }
   ],
   "source": [
    "talky_with()"
   ]
  },
  {
   "cell_type": "code",
   "execution_count": null,
   "metadata": {
    "collapsed": true
   },
   "outputs": [],
   "source": []
  }
 ],
 "metadata": {
  "kernelspec": {
   "display_name": "Python [conda env:py35]",
   "language": "python",
   "name": "conda-env-py35-py"
  },
  "language_info": {
   "codemirror_mode": {
    "name": "ipython",
    "version": 3
   },
   "file_extension": ".py",
   "mimetype": "text/x-python",
   "name": "python",
   "nbconvert_exporter": "python",
   "pygments_lexer": "ipython3",
   "version": "3.5.2"
  }
 },
 "nbformat": 4,
 "nbformat_minor": 2
}
