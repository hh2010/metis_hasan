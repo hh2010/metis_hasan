{
 "cells": [
  {
   "cell_type": "markdown",
   "metadata": {},
   "source": [
    "You are given documents as probability distributions over topics, and topics as probability distributions over words.\n",
    "\n",
    "Implement a function make_doc that takes a document (as topic_probs) and a number of words. The function should randomly generate a document by choosing a topic for each word using the document's topic probabilities and then choosing a particular word using that topic's word probabilities. The function should return a string containing all the generated document's words."
   ]
  },
  {
   "cell_type": "code",
   "execution_count": 1,
   "metadata": {
    "collapsed": true
   },
   "outputs": [],
   "source": [
    "import numpy as np"
   ]
  },
  {
   "cell_type": "code",
   "execution_count": 2,
   "metadata": {
    "collapsed": true
   },
   "outputs": [],
   "source": [
    "docs = [[0.98, 0.01, 0.01],\n",
    "        [0.01, 0.98, 0.01],\n",
    "        [0.01, 0.01, 0.98]]\n",
    "topics = [[ 0.4,      0.4,   0.01,        0.01,    0.01,       0.01,\n",
    "            0.1,     0.04,   0.01,        0.01],\n",
    "          [0.01,     0.01,    0.4,         0.4,    0.01,       0.01,\n",
    "            0.1,     0.04,   0.01,        0.01],\n",
    "          [0.02,     0.02,   0.01,        0.01,     0.4,        0.4,\n",
    "           0.02,      0.1,   0.01,        0.01]]\n",
    "words =  ['cat', 'kitten',  'dog',     'puppy',  'deep', 'learning',\n",
    "          'fur',  'image',  'GPU', 'asparagus']"
   ]
  },
  {
   "cell_type": "code",
   "execution_count": 11,
   "metadata": {
    "collapsed": false
   },
   "outputs": [
    {
     "name": "stdout",
     "output_type": "stream",
     "text": [
      "['kitten', 'image', 'kitten', 'kitten', 'image', 'GPU', 'kitten', 'fur', 'cat', 'fur']\n",
      "['puppy', 'dog', 'dog', 'dog', 'fur', 'learning', 'dog', 'puppy', 'dog', 'puppy']\n",
      "['learning', 'deep', 'deep', 'learning', 'deep', 'image', 'learning', 'learning', 'deep', 'deep']\n"
     ]
    }
   ],
   "source": [
    "def make_doc(topic_probs, n_words):\n",
    "    a = []\n",
    "    for i in range(n_words):\n",
    "        a.append(np.random.choice(words, p=topic_probs))\n",
    "    return a\n",
    "\n",
    "for doc in docs:\n",
    "    doc_list = [doc[0]*a+doc[1]*b+doc[2]*c for a,b,c in zip(topics[0],topics[1],topics[2])]\n",
    "    print(make_doc(topic_probs=doc_list, n_words=10))\n",
    "\n",
    "#  Example output:\n",
    "## cat learning kitten image kitten cat deep image cat kitten\n",
    "## puppy puppy learning dog puppy dog dog puppy image dog\n",
    "## deep learning deep image deep deep deep deep learning learning"
   ]
  },
  {
   "cell_type": "markdown",
   "metadata": {},
   "source": [
    "Extension:\n",
    "\n",
    "Update your make_doc function so that if topic_probs isn't specified, it will draw a random set of topic probabilities from a Dirichlet distribution."
   ]
  },
  {
   "cell_type": "code",
   "execution_count": 16,
   "metadata": {
    "collapsed": false
   },
   "outputs": [
    {
     "name": "stdout",
     "output_type": "stream",
     "text": [
      "['image', 'asparagus', 'asparagus', 'image', 'asparagus', 'kitten', 'learning', 'learning', 'asparagus', 'learning']\n"
     ]
    }
   ],
   "source": [
    "def make_doc_d(n_words, topic_probs=np.random.dirichlet([1]*len(words))):\n",
    "    a = []\n",
    "    for i in range(n_words):\n",
    "        a.append(np.random.choice(words, p=topic_probs))\n",
    "    return a\n",
    "\n",
    "print(make_doc_d(10))"
   ]
  },
  {
   "cell_type": "code",
   "execution_count": null,
   "metadata": {
    "collapsed": true
   },
   "outputs": [],
   "source": []
  }
 ],
 "metadata": {
  "kernelspec": {
   "display_name": "Python [conda env:py35]",
   "language": "python",
   "name": "conda-env-py35-py"
  },
  "language_info": {
   "codemirror_mode": {
    "name": "ipython",
    "version": 3
   },
   "file_extension": ".py",
   "mimetype": "text/x-python",
   "name": "python",
   "nbconvert_exporter": "python",
   "pygments_lexer": "ipython3",
   "version": "3.5.2"
  }
 },
 "nbformat": 4,
 "nbformat_minor": 2
}
