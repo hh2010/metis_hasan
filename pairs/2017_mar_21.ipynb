{
 "cells": [
  {
   "cell_type": "markdown",
   "metadata": {},
   "source": [
    "Part 1\n",
    "\n",
    "Write a function that will take two arguments, both lists of lists representing tables of data. The function will combine the two tables into one. Each of the inner lists represents a row of data, with the first element being the \"key\" for that row."
   ]
  },
  {
   "cell_type": "markdown",
   "metadata": {},
   "source": [
    "Input\n",
    "\n",
    "[[27, 'dog', 5],\n",
    " [19, 'cat', 9],\n",
    " [33, 'bat', 3]]\n",
    "\n",
    "[[14, 8, 'elf'],\n",
    " [33, 7, 'fat'],\n",
    " [27, 2, 'rat']]"
   ]
  },
  {
   "cell_type": "markdown",
   "metadata": {},
   "source": [
    "Output\n",
    "\n",
    "[[27, 'dog', 5, 2, 'rat'],\n",
    " [33, 'bat', 3, 7, 'fat']]"
   ]
  },
  {
   "cell_type": "code",
   "execution_count": 64,
   "metadata": {
    "collapsed": true
   },
   "outputs": [],
   "source": [
    "import random"
   ]
  },
  {
   "cell_type": "code",
   "execution_count": 65,
   "metadata": {
    "collapsed": false
   },
   "outputs": [],
   "source": [
    "def match_faster(l1, l2):\n",
    "    dct_l1 = {row[0]: row[1:] for row in l1}\n",
    "    dct_l2 = {row[0]: row[1:] for row in l2}\n",
    "    \n",
    "    dct_l1_keys = dct_l1.keys()\n",
    "    dct_l2_keys = dct_l2.keys()\n",
    "    \n",
    "    merged = []\n",
    "    for key in dct_l1_keys:\n",
    "        if key in dct_l2_keys:\n",
    "            entry = [key]\n",
    "            entry.extend(dct_l1[key])\n",
    "            entry.extend(dct_l2[key])\n",
    "            merged.append(entry)\n",
    "        else:\n",
    "            continue\n",
    "    \n",
    "    return merged"
   ]
  }
 ],
 "metadata": {
  "kernelspec": {
   "display_name": "Python [conda root]",
   "language": "python",
   "name": "conda-root-py"
  },
  "language_info": {
   "codemirror_mode": {
    "name": "ipython",
    "version": 2
   },
   "file_extension": ".py",
   "mimetype": "text/x-python",
   "name": "python",
   "nbconvert_exporter": "python",
   "pygments_lexer": "ipython2",
   "version": "2.7.13"
  }
 },
 "nbformat": 4,
 "nbformat_minor": 2
}
