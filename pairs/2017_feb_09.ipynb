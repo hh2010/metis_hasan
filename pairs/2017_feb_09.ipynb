{
 "cells": [
  {
   "cell_type": "markdown",
   "metadata": {},
   "source": [
    "D = 4\n",
    "N = 4\n",
    "(1 solution)\n",
    "FFFF \n",
    "\n",
    "D = 4\n",
    "N = 5\n",
    "(5 solutions)\n",
    "FFFFS\n",
    "FFFSF\n",
    "FFSFF\n",
    "FSFFF\n",
    "SFFFF\n",
    "\n",
    "D = 4\n",
    "N = 6\n",
    "(15 solutions)\n",
    "FFFFSS\n",
    "FFFSFS\n",
    "FFSFFS\n",
    "FSFFFS\n",
    "SFFFFS\n",
    "\n",
    "FFFSSF\n",
    "FFSSFF\n",
    "FSSFFF\n",
    "SSFFFF\n",
    "\n",
    "FFSFSF\n",
    "FSFSFF\n",
    "SFSFFF\n",
    "\n",
    "FSFFSF\n",
    "SFFSFF\n",
    "\n",
    "SFFFSF"
   ]
  },
  {
   "cell_type": "code",
   "execution_count": 4,
   "metadata": {
    "collapsed": true
   },
   "outputs": [],
   "source": [
    "from scipy.misc import comb"
   ]
  },
  {
   "cell_type": "code",
   "execution_count": 8,
   "metadata": {
    "collapsed": true
   },
   "outputs": [],
   "source": [
    "def Way(n,d):\n",
    "    return int(comb(n,d))"
   ]
  },
  {
   "cell_type": "code",
   "execution_count": 9,
   "metadata": {
    "collapsed": false
   },
   "outputs": [
    {
     "data": {
      "text/plain": [
       "5"
      ]
     },
     "execution_count": 9,
     "metadata": {},
     "output_type": "execute_result"
    }
   ],
   "source": [
    "def way(n,d):\n",
    "    n *= (n-1)"
   ]
  }
 ],
 "metadata": {
  "kernelspec": {
   "display_name": "Python [conda env:py35]",
   "language": "python",
   "name": "conda-env-py35-py"
  },
  "language_info": {
   "codemirror_mode": {
    "name": "ipython",
    "version": 3
   },
   "file_extension": ".py",
   "mimetype": "text/x-python",
   "name": "python",
   "nbconvert_exporter": "python",
   "pygments_lexer": "ipython3",
   "version": "3.5.2"
  }
 },
 "nbformat": 4,
 "nbformat_minor": 2
}
