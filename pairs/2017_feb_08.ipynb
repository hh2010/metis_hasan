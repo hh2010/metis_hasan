{
 "cells": [
  {
   "cell_type": "markdown",
   "metadata": {},
   "source": [
    "1) Given enough pennies (1 cent) and nickels (5 cents), how many ways can you make change for a given amount of cents? Your function will be def ways(cents)."
   ]
  },
  {
   "cell_type": "code",
   "execution_count": 10,
   "metadata": {
    "collapsed": false
   },
   "outputs": [],
   "source": [
    "def ways1(cents):\n",
    "    n = list(range(5, cents+1,5))\n",
    "    p = list(range(1, cents+1))\n",
    "    return str(len(n)+1)"
   ]
  },
  {
   "cell_type": "markdown",
   "metadata": {},
   "source": [
    "2) Given enough pennies (1 cent), nickels (5 cents) and dimes (10 cents), how many ways can you make change?"
   ]
  },
  {
   "cell_type": "code",
   "execution_count": 22,
   "metadata": {
    "collapsed": true
   },
   "outputs": [],
   "source": [
    "def ways2(cents):\n",
    "    dn = 0\n",
    "    d = list(range(10, cents+1, 10))\n",
    "    n = list(range(5, cents+1,5))\n",
    "    p = list(range(1, cents+1))\n",
    "    for i in d:\n",
    "        dn += int((cents - i) / 5)\n",
    "    return (dn + len(d) + len(n)+1)"
   ]
  },
  {
   "cell_type": "markdown",
   "metadata": {},
   "source": [
    "3) Given enough pennies (1 cent), nickels (5 cents), dimes (10 cents) and quarters (25 cents), how many ways can you make change?"
   ]
  },
  {
   "cell_type": "code",
   "execution_count": 40,
   "metadata": {
    "collapsed": true
   },
   "outputs": [],
   "source": [
    "def ways3(cents):\n",
    "    qdn = 0\n",
    "    qd = 0\n",
    "    qn = 0\n",
    "    dn = 0\n",
    "    q = list(range(25, cents+1, 25))\n",
    "    d = list(range(10, cents+1, 10))\n",
    "    n = list(range(5, cents+1,5))\n",
    "    p = list(range(1, cents+1))\n",
    "    for i in d:\n",
    "        dn += int((cents - i) / 5)\n",
    "    for i in q:\n",
    "        qd += int((cents - i) / 10)\n",
    "    for i in q:\n",
    "        qn += int((cents - i) / 5)\n",
    "    for i in q:\n",
    "        for j in n:\n",
    "            if (cents + i + j) <= q[-1]:\n",
    "                qdn += 1\n",
    "    return (qdn + qd + dn + len(q) + len(d) + len(n) + 1)"
   ]
  },
  {
   "cell_type": "code",
   "execution_count": 47,
   "metadata": {
    "collapsed": false
   },
   "outputs": [
    {
     "name": "stdout",
     "output_type": "stream",
     "text": [
      "36\n",
      "40\n"
     ]
    }
   ],
   "source": [
    "print(ways2(50))\n",
    "print(ways3(50))"
   ]
  },
  {
   "cell_type": "code",
   "execution_count": null,
   "metadata": {
    "collapsed": true
   },
   "outputs": [],
   "source": [
    "25, 50\n",
    "10, 20, 30, 40, 50\n",
    "5, 10, 15, 20, 25, 30, 35, 40, 45, 50"
   ]
  },
  {
   "cell_type": "code",
   "execution_count": 1,
   "metadata": {
    "collapsed": true
   },
   "outputs": [],
   "source": [
    "def ways(cents, coinTypes):\n",
    "    c = sorted(coinTypes, reverse=True)\n",
    "    if len(c) == 1 and cents%c[0] == 0:\n",
    "        return 1\n",
    "    elif len(c) > 1:\n",
    "        w = 0\n",
    "        n = cents//c[0] \n",
    "        for i in range(n+1):\n",
    "            w += ways((cents-c[0]*i), c[1:])\n",
    "        return w\n",
    "    else:\n",
    "        return 0  # if making change is not possible"
   ]
  },
  {
   "cell_type": "code",
   "execution_count": null,
   "metadata": {
    "collapsed": true
   },
   "outputs": [],
   "source": []
  }
 ],
 "metadata": {
  "kernelspec": {
   "display_name": "Python [conda env:py35]",
   "language": "python",
   "name": "conda-env-py35-py"
  },
  "language_info": {
   "codemirror_mode": {
    "name": "ipython",
    "version": 3
   },
   "file_extension": ".py",
   "mimetype": "text/x-python",
   "name": "python",
   "nbconvert_exporter": "python",
   "pygments_lexer": "ipython3",
   "version": "3.5.2"
  }
 },
 "nbformat": 4,
 "nbformat_minor": 2
}
