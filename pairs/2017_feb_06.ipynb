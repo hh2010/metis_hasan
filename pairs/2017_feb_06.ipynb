{
 "cells": [
  {
   "cell_type": "markdown",
   "metadata": {},
   "source": [
    "Pair Problem\n",
    "\n",
    "A version of this problem was faced at a whiteboard by a Metis student in an interview for a data scientist position on April 16, 2015.\n",
    "\n",
    "In programming languages, and especially in Lisps, there can be a lot of parentheses. The parentheses have to be \"balanced\" to be valid. For example, ()(()) is balanced, but ()()) is not balanced. Also, )((()) is not balanced.\n",
    "\n",
    "Write a function that takes a string and returns True if the string's parentheses are balanced, False if they are not.\n",
    "\n",
    "This is fairly easy. Once you are finished, see if you can come up with a second way to solve the problem.\n",
    "\n",
    "Here are examples to test your function with:\n",
    "\n",
    "(()()()()) should return True\n",
    "\n",
    "(((()))) should return True\n",
    "\n",
    "(()((())())) should return True\n",
    "\n",
    "((((((()) should return False\n",
    "\n",
    "())) should return False\n",
    "\n",
    "(()()))(() should return False"
   ]
  },
  {
   "cell_type": "code",
   "execution_count": 1,
   "metadata": {
    "collapsed": true
   },
   "outputs": [],
   "source": [
    "import copy"
   ]
  },
  {
   "cell_type": "code",
   "execution_count": 19,
   "metadata": {
    "collapsed": false
   },
   "outputs": [],
   "source": [
    "# try a recursive solution?\n",
    "\n",
    "def paren(s):\n",
    "    new = []\n",
    "    beg = 0\n",
    "    for i in list(range(len(s))):\n",
    "        if s[i] == \"(\":\n",
    "            beg = (s.find(\")\", beg+1))\n",
    "            new.append(s[i])\n",
    "            new.append(s[beg])\n",
    "            if beg <= i:\n",
    "                return False\n",
    "    return len(new) == len(s)"
   ]
  },
  {
   "cell_type": "code",
   "execution_count": 26,
   "metadata": {
    "collapsed": false
   },
   "outputs": [
    {
     "data": {
      "text/plain": [
       "False"
      ]
     },
     "execution_count": 26,
     "metadata": {},
     "output_type": "execute_result"
    }
   ],
   "source": [
    "paren(\"(()()))(() \")"
   ]
  },
  {
   "cell_type": "code",
   "execution_count": 9,
   "metadata": {
    "collapsed": false
   },
   "outputs": [
    {
     "data": {
      "text/plain": [
       "-1"
      ]
     },
     "execution_count": 9,
     "metadata": {},
     "output_type": "execute_result"
    }
   ],
   "source": [
    "s = \"(()()))(()\"\n",
    "s.find(\")\",10)"
   ]
  },
  {
   "cell_type": "code",
   "execution_count": 16,
   "metadata": {
    "collapsed": true
   },
   "outputs": [],
   "source": [
    "def paren2(s):\n",
    "    i = s.find(')')\n",
    "    if s == '':\n",
    "        return True\n",
    "    elif i < 1:\n",
    "        return False\n",
    "    else:\n",
    "        return paren2(s[:i-1]+s[i+1:])"
   ]
  },
  {
   "cell_type": "code",
   "execution_count": 35,
   "metadata": {
    "collapsed": false
   },
   "outputs": [
    {
     "data": {
      "text/plain": [
       "False"
      ]
     },
     "execution_count": 35,
     "metadata": {},
     "output_type": "execute_result"
    }
   ],
   "source": [
    "paren2(\"(()()))(()\")"
   ]
  },
  {
   "cell_type": "code",
   "execution_count": null,
   "metadata": {
    "collapsed": true
   },
   "outputs": [],
   "source": []
  }
 ],
 "metadata": {
  "kernelspec": {
   "display_name": "Python [conda env:py35]",
   "language": "python",
   "name": "conda-env-py35-py"
  },
  "language_info": {
   "codemirror_mode": {
    "name": "ipython",
    "version": 3
   },
   "file_extension": ".py",
   "mimetype": "text/x-python",
   "name": "python",
   "nbconvert_exporter": "python",
   "pygments_lexer": "ipython3",
   "version": "3.5.2"
  }
 },
 "nbformat": 4,
 "nbformat_minor": 2
}
