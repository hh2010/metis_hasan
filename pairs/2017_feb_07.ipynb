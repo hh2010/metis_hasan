{
 "cells": [
  {
   "cell_type": "markdown",
   "metadata": {},
   "source": [
    "**Pair Problem #1: FACTORIAL**\n",
    "\n",
    "Factorial(n) written as n! is the product of all the numbers up to n. 8! = 1 x 2 x 3 x 4 x 5 x 6 x 7 x 8 = 40320\n",
    "\n",
    "Write a function to calculate the factorial of a given number."
   ]
  },
  {
   "cell_type": "code",
   "execution_count": 9,
   "metadata": {
    "collapsed": false
   },
   "outputs": [],
   "source": [
    "def factorial(n):\n",
    "    prod = 1\n",
    "    for i in list(range(1,n+1)):\n",
    "        prod *= i\n",
    "    return prod"
   ]
  },
  {
   "cell_type": "code",
   "execution_count": 61,
   "metadata": {
    "collapsed": false
   },
   "outputs": [],
   "source": [
    "# recursive\n",
    "\n",
    "def factorial_r(n):\n",
    "    if n == 1:\n",
    "        return 1\n",
    "    else:\n",
    "        return n * factorial_r(n-1)"
   ]
  },
  {
   "cell_type": "code",
   "execution_count": 62,
   "metadata": {
    "collapsed": false
   },
   "outputs": [
    {
     "data": {
      "text/plain": [
       "120"
      ]
     },
     "execution_count": 62,
     "metadata": {},
     "output_type": "execute_result"
    }
   ],
   "source": [
    "factorial_r(5)"
   ]
  },
  {
   "cell_type": "markdown",
   "metadata": {},
   "source": [
    "**Pair Problem #2: FIBONACCI SERIES**\n",
    "\n",
    "Fibonacci series goes like this: 0 1 1 2 3 5 8 13 21 34\n",
    "\n",
    "You start with 0 and 1. Each of the following numbers are the sum of the previous two numbers in the series.\n",
    "\n",
    "Write a function, that given N, will return the Nth number of the Fibonacci series.\n",
    "\n",
    "Once done, can you rewrite this function using recursion."
   ]
  },
  {
   "cell_type": "code",
   "execution_count": 32,
   "metadata": {
    "collapsed": true
   },
   "outputs": [],
   "source": [
    "def fib(n):\n",
    "    errs = [0, 1]\n",
    "    if n in errs:\n",
    "        return print(\"Input needs to be >1\")\n",
    "    fiblist = [0, 1]\n",
    "    for i in list(range(n-2)):\n",
    "        fiblist.append(sum(fiblist[-2:]))\n",
    "    return fiblist[-1]"
   ]
  },
  {
   "cell_type": "code",
   "execution_count": 65,
   "metadata": {
    "collapsed": false
   },
   "outputs": [],
   "source": [
    "# recursive\n",
    "\n",
    "def fib_r(n):\n",
    "    if n == 0:\n",
    "        return 0\n",
    "    if n == 1:\n",
    "        return 1\n",
    "    else:\n",
    "        return fib_r(n-1) + fib_r(n-2)"
   ]
  },
  {
   "cell_type": "code",
   "execution_count": null,
   "metadata": {
    "collapsed": true
   },
   "outputs": [],
   "source": []
  }
 ],
 "metadata": {
  "kernelspec": {
   "display_name": "Python [conda env:py35]",
   "language": "python",
   "name": "conda-env-py35-py"
  },
  "language_info": {
   "codemirror_mode": {
    "name": "ipython",
    "version": 3
   },
   "file_extension": ".py",
   "mimetype": "text/x-python",
   "name": "python",
   "nbconvert_exporter": "python",
   "pygments_lexer": "ipython3",
   "version": "3.5.2"
  }
 },
 "nbformat": 4,
 "nbformat_minor": 2
}
