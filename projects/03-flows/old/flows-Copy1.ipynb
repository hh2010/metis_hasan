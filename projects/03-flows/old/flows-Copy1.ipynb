{
 "cells": [
  {
   "cell_type": "markdown",
   "metadata": {},
   "source": [
    "# Malware Classification Project\n",
    "## Project McNulty - Hasan Haq"
   ]
  },
  {
   "cell_type": "code",
   "execution_count": 1,
   "metadata": {
    "collapsed": true
   },
   "outputs": [],
   "source": [
    "import pandas as pd\n",
    "import numpy as np\n",
    "import pickle\n",
    "import matplotlib.pyplot as plt\n",
    "from tqdm import tqdm\n",
    "from sklearn.cross_validation import train_test_split\n",
    "from sklearn.neighbors import KNeighborsClassifier\n",
    "from sklearn.metrics import accuracy_score\n",
    "from sklearn.metrics import precision_score\n",
    "from sklearn.metrics import recall_score\n",
    "from sklearn.metrics import f1_score\n",
    "from sklearn.linear_model import LogisticRegression\n",
    "from sklearn.cross_validation import cross_val_score\n",
    "from sklearn.learning_curve import learning_curve\n",
    "from sklearn.naive_bayes import GaussianNB\n",
    "from sklearn.svm import SVC\n",
    "from sklearn.tree import DecisionTreeClassifier\n",
    "from sklearn.ensemble import RandomForestClassifier\n",
    "from sklearn.preprocessing import scale\n",
    "from sklearn.datasets import make_classification\n",
    "from sklearn.ensemble import ExtraTreesClassifier\n",
    "%matplotlib inline"
   ]
  },
  {
   "cell_type": "code",
   "execution_count": 2,
   "metadata": {
    "collapsed": true
   },
   "outputs": [],
   "source": [
    "# bin: TotAppByte? TotPkts? TotBytes? And the rest?\n",
    "\n",
    "# drop StartTime, SrcAddr, Sport, DstAddr, State? Proto?\n",
    "\n",
    "# make dummies: proto, dir, state, dport, TcpOpt, sHops, sTtl\n",
    "\n",
    "# NaNs\n",
    "\n",
    "# Do AUC curves\n",
    "\n",
    "# Does correlation matter here?\n",
    "\n",
    "# OneClassSVM instead of SVM\n",
    "\n",
    "# Nested Cross Val\n",
    "\n",
    "# Linear SVM"
   ]
  },
  {
   "cell_type": "code",
   "execution_count": 3,
   "metadata": {
    "collapsed": false
   },
   "outputs": [],
   "source": [
    "# df = pd.read_csv('43/flows.csv')"
   ]
  },
  {
   "cell_type": "code",
   "execution_count": 4,
   "metadata": {
    "collapsed": false
   },
   "outputs": [],
   "source": [
    "# labels = {'background': 'normal', 'normal': 'normal', 'botnet': 'botnet'}\n",
    "# new_label = []\n",
    "# for i in tqdm(df['Label']):\n",
    "#     if 'botnet' in i.lower():\n",
    "#         new_label.append('botnet')\n",
    "#     else:\n",
    "#         new_label.append('normal')"
   ]
  },
  {
   "cell_type": "code",
   "execution_count": 5,
   "metadata": {
    "collapsed": true
   },
   "outputs": [],
   "source": [
    "# df.drop(['Max', 'Min', 'Mean'], axis=1, inplace=True)"
   ]
  },
  {
   "cell_type": "code",
   "execution_count": 6,
   "metadata": {
    "collapsed": false
   },
   "outputs": [],
   "source": [
    "# Percent of botnet class\n",
    "# new_label.count(\"botnet\")/len(new_label)"
   ]
  },
  {
   "cell_type": "code",
   "execution_count": 7,
   "metadata": {
    "collapsed": true
   },
   "outputs": [],
   "source": [
    "# df['Label'] = new_label"
   ]
  },
  {
   "cell_type": "code",
   "execution_count": 8,
   "metadata": {
    "collapsed": true
   },
   "outputs": [],
   "source": [
    "# df_clean = df.copy(deep=True)\n",
    "\n",
    "# df_clean['Load'] = df['Load'].map(lambda x: 1 if x>0 else 0)\n",
    "# df_clean['sHops'] = df['sHops'].map(lambda x: 3 if x>2 else x)\n",
    "# df_clean['sTtl'].replace(to_replace=63.0, value=1, inplace=True)\n",
    "# df_clean['sTtl'].replace(to_replace=127.0, value=2, inplace=True)\n",
    "# df_clean['sTtl'].replace(to_replace=126.0, value=3, inplace=True)\n",
    "# df_clean['sTtl'].replace(to_replace=62.0, value=4, inplace=True)\n",
    "# df_clean['sTtl'] = df_clean['sTtl'].map(lambda x: 0 if x>4 else x)\n",
    "\n",
    "# ports = df[df['Label'] == \"botnet\"]['Dport'].unique()\n",
    "# states = df[df['Label'] == \"botnet\"]['State'].unique()\n",
    "# protos = df[df['Label'] == \"botnet\"]['Proto'].unique()\n",
    "\n",
    "# df_clean = df_clean[(df_clean['Dport'].isin(ports)) & (df_clean['State'].isin(states)) & (df_clean['Proto'].isin(protos))]"
   ]
  },
  {
   "cell_type": "code",
   "execution_count": 9,
   "metadata": {
    "collapsed": false
   },
   "outputs": [],
   "source": [
    "# df.to_pickle('flows.pkl')\n",
    "# df_clean.to_pickle('flows_clean.pkl')\n",
    "# df = pd.read_pickle('flows.pkl')\n",
    "df_clean = pd.read_pickle('flows_clean.pkl')"
   ]
  },
  {
   "cell_type": "code",
   "execution_count": null,
   "metadata": {
    "collapsed": true
   },
   "outputs": [],
   "source": []
  },
  {
   "cell_type": "code",
   "execution_count": 10,
   "metadata": {
    "collapsed": false
   },
   "outputs": [],
   "source": [
    "y = df_clean['Label']\n",
    "X = df_clean.drop(['StartTime', 'SrcAddr', 'Sport', 'DstAddr', 'Label'], axis=1)\n",
    "X = X.drop(['Proto', 'Dir', 'State', 'Dport', 'TcpOpt', 'sHops', 'sTtl', 'TotAppByte', 'SrcBytes', 'SrcJitter', 'PCRatio', 'Load', 'TotPkts', 'pLoss'], axis=1)\n",
    "# X_s = X.sample(len(y)x)"
   ]
  },
  {
   "cell_type": "code",
   "execution_count": 11,
   "metadata": {
    "collapsed": true
   },
   "outputs": [],
   "source": [
    "# X['sMaxPktSz'] = df_clean['sMaxPktSz'].fillna(df_clean['sMaxPktSz'].mean())\n",
    "# X['sMinPktSz'] = df_clean['sMinPktSz'].fillna(df_clean['sMinPktSz'].mean())\n",
    "# X['SIntPkt'] = df_clean['SIntPkt'].fillna(df_clean['SIntPkt'].mean())\n",
    "# X['SrcJitter'] = df_clean['SrcJitter'].fillna(df_clean['SrcJitter'].mean())\n",
    "\n",
    "X['sMaxPktSz'] = df_clean['sMaxPktSz'].fillna(0)\n",
    "X['sMinPktSz'] = df_clean['sMinPktSz'].fillna(0)\n",
    "X['SIntPkt'] = df_clean['SIntPkt'].fillna(0)"
   ]
  },
  {
   "cell_type": "code",
   "execution_count": 12,
   "metadata": {
    "collapsed": false
   },
   "outputs": [
    {
     "data": {
      "text/plain": [
       "Dur           False\n",
       "TotBytes      False\n",
       "sMaxPktSz     False\n",
       "sMinPktSz     False\n",
       "sMeanPktSz    False\n",
       "SIntPkt       False\n",
       "dtype: bool"
      ]
     },
     "execution_count": 12,
     "metadata": {},
     "output_type": "execute_result"
    }
   ],
   "source": [
    "pd.isnull(X).any()"
   ]
  },
  {
   "cell_type": "code",
   "execution_count": 13,
   "metadata": {
    "collapsed": false
   },
   "outputs": [
    {
     "name": "stdout",
     "output_type": "stream",
     "text": [
      "<class 'pandas.core.frame.DataFrame'>\n",
      "Int64Index: 901968 entries, 0 to 1808120\n",
      "Data columns (total 6 columns):\n",
      "Dur           901968 non-null float64\n",
      "TotBytes      901968 non-null int64\n",
      "sMaxPktSz     901968 non-null float64\n",
      "sMinPktSz     901968 non-null float64\n",
      "sMeanPktSz    901968 non-null float64\n",
      "SIntPkt       901968 non-null float64\n",
      "dtypes: float64(5), int64(1)\n",
      "memory usage: 48.2 MB\n"
     ]
    }
   ],
   "source": [
    "X.info()"
   ]
  },
  {
   "cell_type": "code",
   "execution_count": 14,
   "metadata": {
    "collapsed": false
   },
   "outputs": [],
   "source": [
    "# df['sMaxPktSz'].value_counts()\n",
    "# df['sMinPktSz'].fillna(value=0).count()\n",
    "# df['SIntPkt'].fillna(value=0).count()"
   ]
  },
  {
   "cell_type": "code",
   "execution_count": 15,
   "metadata": {
    "collapsed": false,
    "scrolled": true
   },
   "outputs": [
    {
     "name": "stderr",
     "output_type": "stream",
     "text": [
      "//anaconda/envs/py35/lib/python3.5/site-packages/sklearn/preprocessing/data.py:167: UserWarning: Numerical issues were encountered when centering the data and might not be solved. Dataset may contain too large values. You may need to prescale your features.\n",
      "  warnings.warn(\"Numerical issues were encountered \"\n"
     ]
    }
   ],
   "source": [
    "X_scaled = scale(X)"
   ]
  },
  {
   "cell_type": "code",
   "execution_count": 16,
   "metadata": {
    "collapsed": true
   },
   "outputs": [],
   "source": [
    "y_bin = [0 if i == 'normal' else 1 for i in y]"
   ]
  },
  {
   "cell_type": "code",
   "execution_count": 17,
   "metadata": {
    "collapsed": true
   },
   "outputs": [],
   "source": [
    "# Train test split\n",
    "\n",
    "X_train, X_test, y_train, y_test = train_test_split(X, y_bin, test_size=0.3, stratify=y_bin)"
   ]
  },
  {
   "cell_type": "code",
   "execution_count": 116,
   "metadata": {
    "collapsed": false
   },
   "outputs": [
    {
     "name": "stdout",
     "output_type": "stream",
     "text": [
      "[ 0.28016878  0.19844752  0.20912046  0.20348953  0.18748092  0.2804677\n",
      "  0.20021005  0.17272686  0.15904856  0.15423928]\n",
      "1 loop, best of 1: 2min 29s per loop\n"
     ]
    }
   ],
   "source": [
    "%%timeit -n1 -r1\n",
    "# Logistic Regression\n",
    "logreg = LogisticRegression(class_weight={0: 0.02})\n",
    "log_acc = cross_val_score(logreg, X, y_bin, cv=10, scoring='f1')\n",
    "print(log_acc)"
   ]
  },
  {
   "cell_type": "code",
   "execution_count": 14,
   "metadata": {
    "collapsed": false
   },
   "outputs": [
    {
     "name": "stdout",
     "output_type": "stream",
     "text": [
      "[ 0.34936039  0.34604206  0.36204588  0.32195976  0.31369916  0.44456191\n",
      "  0.33336857  0.33661053  0.25460637  0.28098032]\n",
      "1 loop, best of 1: 7.88 s per loop\n"
     ]
    }
   ],
   "source": [
    "%%timeit -n1 -r1\n",
    "# Gaussian Naive Bayes\n",
    "\n",
    "gauss = GaussianNB()\n",
    "gauss_acc = cross_val_score(gauss, X_scaled, y_bin, cv=10, scoring='f1')\n",
    "print(gauss_acc)"
   ]
  },
  {
   "cell_type": "code",
   "execution_count": null,
   "metadata": {
    "collapsed": false
   },
   "outputs": [],
   "source": [
    "# SVM\n",
    "svm = SVC(class_weight={0: 0.05},)\n",
    "svm_acc = cross_val_score(svm, X_scaled, y_bin, cv=10, scoring='f1')\n",
    "print(svm_acc)"
   ]
  },
  {
   "cell_type": "code",
   "execution_count": 13,
   "metadata": {
    "collapsed": false
   },
   "outputs": [
    {
     "name": "stdout",
     "output_type": "stream",
     "text": [
      "[ 0.83762955  0.86956522  0.93167106  0.93202063  0.90268051  0.91125434\n",
      "  0.89517138  0.87565507  0.89868242  0.87020369]\n",
      "1 loop, best of 1: 54.6 s per loop\n"
     ]
    }
   ],
   "source": [
    "%%timeit -n1 -r1\n",
    "# Decision Trees\n",
    "\n",
    "tree = DecisionTreeClassifier()\n",
    "tree_acc = cross_val_score(tree, X_scaled, y_bin, cv=10, scoring='f1')\n",
    "print(tree_acc)"
   ]
  },
  {
   "cell_type": "code",
   "execution_count": 19,
   "metadata": {
    "collapsed": false
   },
   "outputs": [
    {
     "name": "stdout",
     "output_type": "stream",
     "text": [
      "[ 0.92302309  0.91990206  0.90477876  0.90571328  0.91958042  0.91608392\n",
      "  0.91974878  0.92129304  0.91739895  0.92681235]\n",
      "1 loop, best of 1: 2min 26s per loop\n"
     ]
    }
   ],
   "source": [
    "%%timeit -n1 -r1\n",
    "# Random Forests\n",
    "# try depth to 5 or 6\n",
    "forest = RandomForestClassifier(class_weight={0:0.02})\n",
    "forest_acc = cross_val_score(forest, X_train, y_train, cv=10, scoring='f1')\n",
    "print(forest_acc)"
   ]
  },
  {
   "cell_type": "code",
   "execution_count": 27,
   "metadata": {
    "collapsed": false
   },
   "outputs": [
    {
     "name": "stdout",
     "output_type": "stream",
     "text": [
      "Feature ranking:\n",
      "1. feature 2 (0.332135)\n",
      "2. feature 3 (0.161768)\n",
      "3. feature 4 (0.144573)\n",
      "4. feature 0 (0.127583)\n",
      "5. feature 1 (0.127541)\n",
      "6. feature 5 (0.106401)\n"
     ]
    },
    {
     "data": {
      "image/png": "[encoded data removed]",
      "text/plain": [
       "<matplotlib.figure.Figure at 0x127d4cba8>"
      ]
     },
     "metadata": {},
     "output_type": "display_data"
    }
   ],
   "source": [
    "forest = RandomForestClassifier()\n",
    "forest.fit(X_train, y_train)\n",
    "importances = forest.feature_importances_\n",
    "std = np.std([tree.feature_importances_ for tree in forest.estimators_], axis=0)\n",
    "indices = np.argsort(importances)[::-1]\n",
    "\n",
    "# Print the feature ranking\n",
    "print(\"Feature ranking:\")\n",
    "\n",
    "for f in range(X_train.shape[1]):\n",
    "    print(\"%d. feature %d (%f)\" % (f + 1, indices[f], importances[indices[f]]))\n",
    "\n",
    "# Plot the feature importances of the forest\n",
    "plt.figure()\n",
    "plt.title(\"Feature importances\")\n",
    "plt.bar(range(X_train.shape[1]), importances[indices], color=\"r\", yerr=std[indices], align=\"center\")\n",
    "plt.xticks(range(X.shape[1]), indices)\n",
    "plt.xlim([-1, X_train.shape[1]])\n",
    "plt.show()"
   ]
  },
  {
   "cell_type": "markdown",
   "metadata": {},
   "source": [
    "# Out of Sample Testing"
   ]
  },
  {
   "cell_type": "markdown",
   "metadata": {},
   "source": [
    "## Stratified Sample"
   ]
  },
  {
   "cell_type": "code",
   "execution_count": null,
   "metadata": {
    "collapsed": true
   },
   "outputs": [],
   "source": [
    "# Random Forests\n",
    "forest = RandomForestClassifier(max_depth=5)\n",
    "forest.fit(X_train,y_train)\n",
    "ypred = forest.predict(X_test)\n",
    "recall_score(y_test, ypred)"
   ]
  },
  {
   "cell_type": "code",
   "execution_count": null,
   "metadata": {
    "collapsed": true
   },
   "outputs": [],
   "source": [
    "# Logistic Regression"
   ]
  },
  {
   "cell_type": "code",
   "execution_count": null,
   "metadata": {
    "collapsed": true
   },
   "outputs": [],
   "source": []
  },
  {
   "cell_type": "code",
   "execution_count": null,
   "metadata": {
    "collapsed": true
   },
   "outputs": [],
   "source": []
  },
  {
   "cell_type": "code",
   "execution_count": null,
   "metadata": {
    "collapsed": true
   },
   "outputs": [],
   "source": []
  },
  {
   "cell_type": "markdown",
   "metadata": {},
   "source": [
    "## 100% Botnet"
   ]
  },
  {
   "cell_type": "code",
   "execution_count": 74,
   "metadata": {
    "collapsed": false
   },
   "outputs": [],
   "source": [
    "df_test = pd.read_csv('01/botnet_test.csv')"
   ]
  },
  {
   "cell_type": "code",
   "execution_count": 75,
   "metadata": {
    "collapsed": false
   },
   "outputs": [],
   "source": [
    "df_test_clean = df_test.copy(deep=True)\n",
    "\n",
    "df_test_clean['Load'] = df_test['Load'].map(lambda x: 1 if x>0 else 0)\n",
    "df_test_clean['sHops'] = df_test['sHops'].map(lambda x: 3 if x>2 else x)\n",
    "df_test_clean['sTtl'].replace(to_replace=63.0, value=1, inplace=True)\n",
    "df_test_clean['sTtl'].replace(to_replace=127.0, value=2, inplace=True)\n",
    "df_test_clean['sTtl'].replace(to_replace=126.0, value=3, inplace=True)\n",
    "df_test_clean['sTtl'].replace(to_replace=62.0, value=4, inplace=True)\n",
    "df_test_clean['sTtl'] = df_test_clean['sTtl'].map(lambda x: 0 if x>4 else x)\n",
    "\n",
    "# ports = df_test[df_test['Label'] == \"botnet\"]['Dport'].unique()\n",
    "# states = df_test[df_test['Label'] == \"botnet\"]['State'].unique()\n",
    "# protos = df_test[df_test['Label'] == \"botnet\"]['Proto'].unique()\n",
    "\n",
    "# df_test_clean = df_test_clean[(df_clean['Dport'].isin(ports)) & (df_test_clean['State'].isin(states)) & (df_test_clean['Proto'].isin(protos))]"
   ]
  },
  {
   "cell_type": "code",
   "execution_count": 117,
   "metadata": {
    "collapsed": false
   },
   "outputs": [],
   "source": [
    "Xbot_test = df_test.drop(['StartTime', 'SrcAddr', 'Sport', 'DstAddr', 'Label'], axis=1)\n",
    "Xbot_test = Xbot_test.drop(['Proto', 'Dir', 'State', 'Dport', 'TcpOpt', 'sHops', 'sTtl', 'TotAppByte', 'SrcBytes', 'SrcJitter', 'PCRatio', 'Load', 'TotPkts', 'pLoss'], axis=1)\n",
    "ybot_test = [1 for x in range(len(Xbot_test))]"
   ]
  },
  {
   "cell_type": "code",
   "execution_count": 118,
   "metadata": {
    "collapsed": true
   },
   "outputs": [],
   "source": [
    "Xbot_test['sMaxPktSz'] = df_test['sMaxPktSz'].fillna(0)\n",
    "Xbot_test['sMinPktSz'] = df_test['sMinPktSz'].fillna(0)\n",
    "Xbot_test['SIntPkt'] = df_test['SIntPkt'].fillna(0)"
   ]
  },
  {
   "cell_type": "code",
   "execution_count": 84,
   "metadata": {
    "collapsed": false
   },
   "outputs": [
    {
     "data": {
      "text/plain": [
       "Dur           False\n",
       "TotBytes      False\n",
       "sMaxPktSz     False\n",
       "sMinPktSz     False\n",
       "sMeanPktSz    False\n",
       "SIntPkt       False\n",
       "dtype: bool"
      ]
     },
     "execution_count": 84,
     "metadata": {},
     "output_type": "execute_result"
    }
   ],
   "source": [
    "pd.isnull(Xbot_test).any()"
   ]
  },
  {
   "cell_type": "code",
   "execution_count": 85,
   "metadata": {
    "collapsed": false
   },
   "outputs": [
    {
     "name": "stdout",
     "output_type": "stream",
     "text": [
      "<class 'pandas.core.frame.DataFrame'>\n",
      "RangeIndex: 41324 entries, 0 to 41323\n",
      "Data columns (total 6 columns):\n",
      "Dur           41324 non-null float64\n",
      "TotBytes      41324 non-null int64\n",
      "sMaxPktSz     41324 non-null int64\n",
      "sMinPktSz     41324 non-null int64\n",
      "sMeanPktSz    41324 non-null float64\n",
      "SIntPkt       41324 non-null float64\n",
      "dtypes: float64(3), int64(3)\n",
      "memory usage: 1.9 MB\n"
     ]
    }
   ],
   "source": [
    "Xbot_test.info()"
   ]
  },
  {
   "cell_type": "code",
   "execution_count": null,
   "metadata": {
    "collapsed": false
   },
   "outputs": [],
   "source": [
    "forest = RandomForestClassifier(n_estimators=200, max_depth=5, class_weight={0:0.01})\n",
    "forest.fit(X,y_bin)\n",
    "# ypred_prob = forest.predict_proba(Xbot_test)\n",
    "ypred = forest.predict(Xbot_test)"
   ]
  },
  {
   "cell_type": "code",
   "execution_count": 120,
   "metadata": {
    "collapsed": false
   },
   "outputs": [
    {
     "data": {
      "text/plain": [
       "13216"
      ]
     },
     "execution_count": 120,
     "metadata": {},
     "output_type": "execute_result"
    }
   ],
   "source": [
    "sum(ypred)"
   ]
  },
  {
   "cell_type": "code",
   "execution_count": 121,
   "metadata": {
    "collapsed": false
   },
   "outputs": [
    {
     "name": "stdout",
     "output_type": "stream",
     "text": [
      "Accuracy:  0.319814151583\n",
      "Precision:  1.0\n",
      "Recall:  0.319814151583\n",
      "F1:  0.48463513018\n"
     ]
    }
   ],
   "source": [
    "print(\"Accuracy: \", accuracy_score(y_test, ypred))\n",
    "print(\"Precision: \", precision_score(y_test, ypred))\n",
    "print(\"Recall: \", recall_score(y_test, ypred))\n",
    "print(\"F1: \", f1_score(y_test, ypred))"
   ]
  },
  {
   "cell_type": "code",
   "execution_count": 49,
   "metadata": {
    "collapsed": false
   },
   "outputs": [
    {
     "ename": "TypeError",
     "evalue": "Cannot cast array data from dtype('float64') to dtype('int64') according to the rule 'safe'",
     "output_type": "error",
     "traceback": [
      "\u001b[0;31m---------------------------------------------------------------------------\u001b[0m",
      "\u001b[0;31mTypeError\u001b[0m                                 Traceback (most recent call last)",
      "\u001b[0;32m<ipython-input-49-f6fbdddef673>\u001b[0m in \u001b[0;36m<module>\u001b[0;34m()\u001b[0m\n\u001b[0;32m----> 1\u001b[0;31m \u001b[0mnp\u001b[0m\u001b[0;34m.\u001b[0m\u001b[0mbincount\u001b[0m\u001b[0;34m(\u001b[0m\u001b[0mypred\u001b[0m\u001b[0;34m[\u001b[0m\u001b[0;34m:\u001b[0m\u001b[0;34m,\u001b[0m\u001b[0;36m1\u001b[0m\u001b[0;34m]\u001b[0m\u001b[0;34m)\u001b[0m\u001b[0;34m\u001b[0m\u001b[0m\n\u001b[0m",
      "\u001b[0;31mTypeError\u001b[0m: Cannot cast array data from dtype('float64') to dtype('int64') according to the rule 'safe'"
     ]
    }
   ],
   "source": [
    "np.bincount(ypred[:,1],minlength"
   ]
  },
  {
   "cell_type": "code",
   "execution_count": 27,
   "metadata": {
    "collapsed": false
   },
   "outputs": [
    {
     "data": {
      "text/plain": [
       "6282"
      ]
     },
     "execution_count": 27,
     "metadata": {},
     "output_type": "execute_result"
    }
   ],
   "source": [
    "sum(y_test)"
   ]
  },
  {
   "cell_type": "code",
   "execution_count": 51,
   "metadata": {
    "collapsed": false
   },
   "outputs": [
    {
     "data": {
      "text/plain": [
       "False"
      ]
     },
     "execution_count": 51,
     "metadata": {},
     "output_type": "execute_result"
    }
   ],
   "source": [
    "np.nan in ypred"
   ]
  },
  {
   "cell_type": "code",
   "execution_count": 112,
   "metadata": {
    "collapsed": false
   },
   "outputs": [
    {
     "data": {
      "text/plain": [
       "30730"
      ]
     },
     "execution_count": 112,
     "metadata": {},
     "output_type": "execute_result"
    }
   ],
   "source": [
    "len(ypred_prob[:,1][ypred_prob[:,1]>.])"
   ]
  },
  {
   "cell_type": "code",
   "execution_count": null,
   "metadata": {
    "collapsed": true
   },
   "outputs": [],
   "source": [
    "len(X_test)"
   ]
  }
 ],
 "metadata": {
  "kernelspec": {
   "display_name": "Python [conda env:py35]",
   "language": "python",
   "name": "conda-env-py35-py"
  },
  "language_info": {
   "codemirror_mode": {
    "name": "ipython",
    "version": 3
   },
   "file_extension": ".py",
   "mimetype": "text/x-python",
   "name": "python",
   "nbconvert_exporter": "python",
   "pygments_lexer": "ipython3",
   "version": "3.5.2"
  }
 },
 "nbformat": 4,
 "nbformat_minor": 2
}
