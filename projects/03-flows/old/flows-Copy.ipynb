{
 "cells": [
  {
   "cell_type": "markdown",
   "metadata": {},
   "source": [
    "# Malware Classification Project\n",
    "## Project McNulty - Hasan Haq"
   ]
  },
  {
   "cell_type": "code",
   "execution_count": 310,
   "metadata": {
    "collapsed": true
   },
   "outputs": [],
   "source": [
    "import pandas as pd\n",
    "import numpy as np\n",
    "import pickle\n",
    "import matplotlib.pyplot as plt\n",
    "import math\n",
    "from tqdm import tqdm\n",
    "from sklearn.cross_validation import train_test_split\n",
    "from sklearn.neighbors import KNeighborsClassifier\n",
    "from sklearn.metrics import accuracy_score\n",
    "from sklearn.metrics import precision_score\n",
    "from sklearn.metrics import recall_score\n",
    "from sklearn.metrics import f1_score\n",
    "from sklearn.metrics import roc_curve, auc\n",
    "from sklearn.linear_model import LogisticRegression\n",
    "from sklearn.cross_validation import cross_val_score\n",
    "from sklearn.learning_curve import learning_curve\n",
    "from sklearn.naive_bayes import GaussianNB\n",
    "from sklearn.svm import SVC\n",
    "from sklearn.tree import DecisionTreeClassifier\n",
    "from sklearn.ensemble import RandomForestClassifier\n",
    "from sklearn.preprocessing import scale\n",
    "from sklearn.preprocessing import StandardScaler\n",
    "from sklearn.datasets import make_classification\n",
    "from sklearn.ensemble import ExtraTreesClassifier\n",
    "%matplotlib inline"
   ]
  },
  {
   "cell_type": "code",
   "execution_count": 115,
   "metadata": {
    "collapsed": true
   },
   "outputs": [],
   "source": [
    "# make dummies: proto, dir, state, dport, TcpOpt, sHops, sTtl\n",
    "\n",
    "# OneClassSVM instead of SVM\n",
    "\n",
    "# Nested Cross Val\n",
    "\n",
    "# Linear SVM"
   ]
  },
  {
   "cell_type": "code",
   "execution_count": 116,
   "metadata": {
    "collapsed": true
   },
   "outputs": [],
   "source": [
    "df = pd.read_csv('43/43_train.csv')"
   ]
  },
  {
   "cell_type": "code",
   "execution_count": 117,
   "metadata": {
    "collapsed": false
   },
   "outputs": [],
   "source": [
    "def label(df_in):\n",
    "    labels = {'background': 'normal', 'normal': 'normal', 'botnet': 'botnet'}\n",
    "    new_label = []\n",
    "    for i in tqdm(df_in['Label']):\n",
    "        if 'botnet' in i.lower():\n",
    "            new_label.append('botnet')\n",
    "        else:\n",
    "            new_label.append('normal')\n",
    "    df_in['Label'] = new_label\n",
    "    return df_in"
   ]
  },
  {
   "cell_type": "code",
   "execution_count": 118,
   "metadata": {
    "collapsed": false
   },
   "outputs": [
    {
     "name": "stderr",
     "output_type": "stream",
     "text": [
      "100%|██████████| 1808122/1808122 [00:01<00:00, 942470.99it/s] \n"
     ]
    }
   ],
   "source": [
    "df = df.drop(['SIntPkt'], axis=1)\n",
    "df = label(df)"
   ]
  },
  {
   "cell_type": "code",
   "execution_count": 420,
   "metadata": {
    "collapsed": true
   },
   "outputs": [],
   "source": [
    "def clean(df_in):\n",
    "    df_new = df_in.copy(deep=True)\n",
    "    \n",
    "    # Big assumptions here... so far all the test sets fit it...\n",
    "    #   Cuts total data from 1.8mm to 200k, and keeps all malware data\n",
    "    df_new = df_in.loc[df_in['sHops'] == 1]\n",
    "    df_new = df_in.loc[df_in['sTtl'] == 127]\n",
    "    df_new['Load'] = df_in['Load'].map(lambda x: 1 if x>0 else 0)\n",
    "\n",
    "    # Another assumption, that the ports, state and protocol that Neris uses here will be used in future test sets\n",
    "    #  Cuts it down even further, down to 150k\n",
    "    ports = df_in.loc[df_in['Label'] == \"botnet\"]['Dport'].unique()\n",
    "    states = df_in.loc[df_in['Label'] == \"botnet\"]['State'].unique()\n",
    "    protos = df_in.loc[df_in['Label'] == \"botnet\"]['Proto'].unique()\n",
    "\n",
    "    df_new = df_new.loc[(df_new['Dport'].isin(ports)) & (df_new['State'].isin(states)) & (df_new['Proto'].isin(protos))]\n",
    "    df_new['TotBytes'] = df_new['TotBytes'].astype('float64')\n",
    "    df_new['TotPkts'] = df_new['TotPkts'].astype('float64')\n",
    "    \n",
    "    # Clean up direction labels before dummying\n",
    "    df_new['Dir'] = df_new['Dir'].map(lambda x: \"<->\" if x==\"  <->\" else x)\n",
    "    df_new['Dir'] = df_new['Dir'].map(lambda x: \"->\" if x==\"   ->\" else x)\n",
    "    df_new['Dir'] = df_new['Dir'].map(lambda x: \"<->\" if x==\"  <?>\" else x)\n",
    "    df_new['Dir'] = df_new['Dir'].map(lambda x: \"<-\" if x==\"  <-\" else x)\n",
    "    df_new['Dir'] = df_new['Dir'].map(lambda x: \"->\" if x==\"   ?>\" else x)\n",
    "    print(pd.isnull(df_new).any())\n",
    "    return df_new\n",
    "\n",
    "def clean_for_orig(df_in):\n",
    "    _y = df_in['Label']\n",
    "    X = df_in.drop(['StartTime', 'SrcAddr', 'Sport', 'DstAddr', 'Label', 'sHops', 'sTtl'], axis=1) # Cols we def won't need\n",
    "    X = X[['sMaxPktSz', 'pLoss', 'Dur', 'sMeanPktSz', 'TotBytes', 'TotAppByte', 'State']]\n",
    "#     X = X.drop(['TcpOpt', 'SrcBytes', 'Load', 'SrcJitter', 'PCRatio', 'TotPkts'], axis=1) # Cols we might need\n",
    "    X_dum = pd.get_dummies(X, drop_first=True, columns=['State']) # Make dummies\n",
    "    X_new = X_dum[['sMaxPktSz', 'pLoss', 'State_REQ', 'Dur', 'sMeanPktSz', 'TotBytes', 'TotAppByte']] # Selected based on Rand Forest Feature Selection\n",
    "    X_new = X_new.fillna(X_new.mean())\n",
    "    print(pd.isnull(X_new).any())\n",
    "    return X_new, _y"
   ]
  },
  {
   "cell_type": "code",
   "execution_count": 421,
   "metadata": {
    "collapsed": false
   },
   "outputs": [
    {
     "name": "stderr",
     "output_type": "stream",
     "text": [
      "//anaconda/envs/py35/lib/python3.5/site-packages/ipykernel/__main__.py:8: SettingWithCopyWarning: \n",
      "A value is trying to be set on a copy of a slice from a DataFrame.\n",
      "Try using .loc[row_indexer,col_indexer] = value instead\n",
      "\n",
      "See the caveats in the documentation: http://pandas.pydata.org/pandas-docs/stable/indexing.html#indexing-view-versus-copy\n"
     ]
    },
    {
     "name": "stdout",
     "output_type": "stream",
     "text": [
      "StartTime     False\n",
      "Dur           False\n",
      "Proto         False\n",
      "SrcAddr       False\n",
      "Sport         False\n",
      "Dir           False\n",
      "DstAddr       False\n",
      "Dport         False\n",
      "State         False\n",
      "TotPkts       False\n",
      "TotBytes      False\n",
      "sMaxPktSz     False\n",
      "sMinPktSz     False\n",
      "sMeanPktSz    False\n",
      "SrcBytes      False\n",
      "TotAppByte    False\n",
      "TcpOpt         True\n",
      "sTtl          False\n",
      "sHops         False\n",
      "pLoss         False\n",
      "Load          False\n",
      "SrcJitter      True\n",
      "PCRatio       False\n",
      "Label         False\n",
      "dtype: bool\n",
      "<class 'pandas.core.frame.DataFrame'>\n",
      "Int64Index: 149459 entries, 8 to 1808116\n",
      "Data columns (total 24 columns):\n",
      "StartTime     149459 non-null object\n",
      "Dur           149459 non-null float64\n",
      "Proto         149459 non-null object\n",
      "SrcAddr       149459 non-null object\n",
      "Sport         149459 non-null object\n",
      "Dir           149459 non-null object\n",
      "DstAddr       149459 non-null object\n",
      "Dport         149459 non-null object\n",
      "State         149459 non-null object\n",
      "TotPkts       149459 non-null float64\n",
      "TotBytes      149459 non-null float64\n",
      "sMaxPktSz     149459 non-null float64\n",
      "sMinPktSz     149459 non-null float64\n",
      "sMeanPktSz    149459 non-null float64\n",
      "SrcBytes      149459 non-null int64\n",
      "TotAppByte    149459 non-null int64\n",
      "TcpOpt        83220 non-null object\n",
      "sTtl          149459 non-null float64\n",
      "sHops         149459 non-null float64\n",
      "pLoss         149459 non-null float64\n",
      "Load          149459 non-null int64\n",
      "SrcJitter     83461 non-null float64\n",
      "PCRatio       149459 non-null float64\n",
      "Label         149459 non-null object\n",
      "dtypes: float64(11), int64(3), object(10)\n",
      "memory usage: 28.5+ MB\n"
     ]
    }
   ],
   "source": [
    "df_clean = clean(df)\n",
    "df_clean.info()"
   ]
  },
  {
   "cell_type": "code",
   "execution_count": 423,
   "metadata": {
    "collapsed": false
   },
   "outputs": [
    {
     "name": "stdout",
     "output_type": "stream",
     "text": [
      "sMaxPktSz     False\n",
      "pLoss         False\n",
      "State_REQ     False\n",
      "Dur           False\n",
      "sMeanPktSz    False\n",
      "TotBytes      False\n",
      "TotAppByte    False\n",
      "dtype: bool\n"
     ]
    }
   ],
   "source": [
    "X_for, y = clean_for_orig(df_clean)"
   ]
  },
  {
   "cell_type": "code",
   "execution_count": 241,
   "metadata": {
    "collapsed": false
   },
   "outputs": [],
   "source": [
    "# df.to_pickle('flows.pkl')\n",
    "# df_clean.to_pickle('flows_clean.pkl')\n",
    "# df = pd.read_pickle('flows.pkl')\n",
    "# df_clean = pd.read_pickle('flows_clean.pkl')"
   ]
  },
  {
   "cell_type": "code",
   "execution_count": 242,
   "metadata": {
    "collapsed": false
   },
   "outputs": [
    {
     "name": "stdout",
     "output_type": "stream",
     "text": [
      "<class 'pandas.core.frame.DataFrame'>\n",
      "Int64Index: 149459 entries, 8 to 1808116\n",
      "Data columns (total 6 columns):\n",
      "sMaxPktSz     149459 non-null float64\n",
      "pLoss         149459 non-null float64\n",
      "State_REQ     149459 non-null float64\n",
      "Dur           149459 non-null float64\n",
      "sMeanPktSz    149459 non-null float64\n",
      "TotBytes      149459 non-null float64\n",
      "dtypes: float64(6)\n",
      "memory usage: 8.0 MB\n"
     ]
    }
   ],
   "source": [
    "X_for.info()"
   ]
  },
  {
   "cell_type": "code",
   "execution_count": 424,
   "metadata": {
    "collapsed": true
   },
   "outputs": [],
   "source": [
    "y_bin = [0 if i == 'normal' else 1 for i in y]"
   ]
  },
  {
   "cell_type": "code",
   "execution_count": 425,
   "metadata": {
    "collapsed": false
   },
   "outputs": [],
   "source": [
    "# Train test split\n",
    "X_train, X_test, y_train, y_test = train_test_split(X_for, y_bin, test_size=0.3, stratify=y_bin)"
   ]
  },
  {
   "cell_type": "code",
   "execution_count": 426,
   "metadata": {
    "collapsed": false
   },
   "outputs": [],
   "source": [
    "# Standardize the data\n",
    "std_scale = StandardScaler().fit(X_train)\n",
    "X_train_std = std_scale.transform(X_train)\n",
    "X_test_std = std_scale.transform(X_test)"
   ]
  },
  {
   "cell_type": "code",
   "execution_count": 344,
   "metadata": {
    "collapsed": false
   },
   "outputs": [
    {
     "name": "stdout",
     "output_type": "stream",
     "text": [
      "[ 0.95486111  0.94846074  0.94568245  0.94203402  0.94322536  0.94342242\n",
      "  0.94918769  0.95751295  0.94725957  0.94459834]\n",
      "1 loop, best of 1: 6.97 s per loop\n"
     ]
    }
   ],
   "source": [
    "%%timeit -n1 -r1\n",
    "# KNN\n",
    "knn = KNeighborsClassifier()\n",
    "knn.fit(X_train, y_train)\n",
    "knn_score = cross_val_score(knn, X_train, y_train, cv=10, scoring=\"f1\")\n",
    "print(knn_score)"
   ]
  },
  {
   "cell_type": "code",
   "execution_count": 428,
   "metadata": {
    "collapsed": false
   },
   "outputs": [
    {
     "name": "stdout",
     "output_type": "stream",
     "text": [
      "[ 0.82945441  0.73552686  0.8214826   0.77809331  0.82884903  0.75615764\n",
      "  0.75324675  0.82464097  0.82041588  0.82583622]\n",
      "1 loop, best of 1: 24.2 s per loop\n"
     ]
    }
   ],
   "source": [
    "%%timeit -n1 -r1\n",
    "# Logistic Regression\n",
    "logreg = LogisticRegression()\n",
    "log_acc = cross_val_score(logreg, X_train, y_train, cv=10, scoring=\"f1\")\n",
    "print(log_acc)"
   ]
  },
  {
   "cell_type": "code",
   "execution_count": 162,
   "metadata": {
    "collapsed": false
   },
   "outputs": [
    {
     "name": "stdout",
     "output_type": "stream",
     "text": [
      "[ 0.26011614  0.26020736  0.26516432  0.26268602  0.2618369   0.26027775\n",
      "  0.26128266  0.26495009  0.26186971  0.26240741]\n",
      "1 loop, best of 1: 1.39 s per loop\n"
     ]
    }
   ],
   "source": [
    "%%timeit -n1 -r1\n",
    "# Gaussian Naive Bayes\n",
    "gauss = GaussianNB()\n",
    "gauss_acc = cross_val_score(gauss, X_train, y_train, cv=10, scoring='f1')\n",
    "print(gauss_acc)"
   ]
  },
  {
   "cell_type": "code",
   "execution_count": 247,
   "metadata": {
    "collapsed": false,
    "scrolled": true
   },
   "outputs": [
    {
     "name": "stdout",
     "output_type": "stream",
     "text": [
      "[ 0.96510816  0.96409899  0.95887522  0.95893296  0.95831874  0.95997191\n",
      "  0.9584932   0.96794425  0.96293706  0.95896177]\n",
      "1 loop, best of 1: 15 s per loop\n"
     ]
    }
   ],
   "source": [
    "%%timeit -n1 -r1\n",
    "# Random Forests\n",
    "forest = RandomForestClassifier()\n",
    "forest_acc = cross_val_score(forest, X_train, y_train, cv=10, scoring='f1')\n",
    "print(forest_acc)"
   ]
  },
  {
   "cell_type": "code",
   "execution_count": 205,
   "metadata": {
    "collapsed": false
   },
   "outputs": [
    {
     "data": {
      "text/plain": [
       "Index(['Dur', 'TotBytes'], dtype='object')"
      ]
     },
     "execution_count": 205,
     "metadata": {},
     "output_type": "execute_result"
    }
   ],
   "source": [
    "X_train.columns[[3,5 ]]"
   ]
  },
  {
   "cell_type": "code",
   "execution_count": 427,
   "metadata": {
    "collapsed": false
   },
   "outputs": [
    {
     "name": "stdout",
     "output_type": "stream",
     "text": [
      "Feature ranking:\n",
      "1. feature 1 (0.353124)\n",
      "2. feature 0 (0.227481)\n",
      "3. feature 4 (0.162839)\n",
      "4. feature 3 (0.073679)\n",
      "5. feature 5 (0.063076)\n",
      "6. feature 6 (0.059958)\n",
      "7. feature 2 (0.059844)\n"
     ]
    },
    {
     "data": {
      "image/png": "[encoded data removed]",
      "text/plain": [
       "<matplotlib.figure.Figure at 0x155c16f28>"
      ]
     },
     "metadata": {},
     "output_type": "display_data"
    },
    {
     "name": "stdout",
     "output_type": "stream",
     "text": [
      "1 loop, best of 1: 2.27 s per loop\n"
     ]
    }
   ],
   "source": [
    "%%timeit -n1 -r1\n",
    "forest = RandomForestClassifier()\n",
    "forest.fit(X_train, y_train)\n",
    "importances = forest.feature_importances_\n",
    "std = np.std([tree.feature_importances_ for tree in forest.estimators_], axis=0)\n",
    "indices = np.argsort(importances)[::-1]\n",
    "\n",
    "labs = []\n",
    "for _ in indices:\n",
    "    labs.append(X_train.columns[_])\n",
    "\n",
    "# Print the feature ranking\n",
    "print(\"Feature ranking:\")\n",
    "\n",
    "for f in range(X_train.shape[1]):\n",
    "    print(\"%d. feature %d (%f)\" % (f + 1, indices[f], importances[indices[f]]))\n",
    "    \n",
    "# Plot the feature importances of the forest\n",
    "fig = plt.figure()\n",
    "fig.set_size_inches(12, 6, forward=True)\n",
    "plt.title(\"Feature importances\")\n",
    "plt.bar(range(X_train.shape[1]), importances[indices], color=\"r\", yerr=std[indices], align=\"center\")\n",
    "plt.xticks(range(X_train.shape[1]), labs)\n",
    "plt.xlim([-1, X_train.shape[1]])\n",
    "plt.show()"
   ]
  },
  {
   "cell_type": "code",
   "execution_count": 321,
   "metadata": {
    "collapsed": false
   },
   "outputs": [],
   "source": [
    "n_classes = 2\n",
    "\n",
    "classifier = LogisticRegression()\n",
    "y_score = classifier.fit(X_train, y_train).decision_function(X_test)\n",
    "\n",
    "fpr, tpr, _ = roc_curve(y_test, y_score)\n",
    "roc_auc = auc(fpr, tpr)"
   ]
  },
  {
   "cell_type": "code",
   "execution_count": 324,
   "metadata": {
    "collapsed": false
   },
   "outputs": [
    {
     "data": {
      "image/png": "[encoded data removed]",
      "text/plain": [
       "<matplotlib.figure.Figure at 0x1811efe80>"
      ]
     },
     "metadata": {},
     "output_type": "display_data"
    }
   ],
   "source": [
    "plt.figure()\n",
    "plt.plot(fpr, tpr, color='darkorange',\n",
    "         lw=2, label='ROC curve (area = %0.2f)' % roc_auc)\n",
    "plt.plot([0, 1], [0, 1], color='navy', lw=2, linestyle='--')\n",
    "plt.xlim([0.0, 1.0])\n",
    "plt.ylim([0.0, 1.05])\n",
    "plt.xlabel('False Positive Rate')\n",
    "plt.ylabel('True Positive Rate')\n",
    "plt.title('Receiver operating characteristic example')\n",
    "plt.legend(loc=\"lower right\")\n",
    "plt.show()"
   ]
  },
  {
   "cell_type": "markdown",
   "metadata": {},
   "source": [
    "# Out of Sample Testing"
   ]
  },
  {
   "cell_type": "markdown",
   "metadata": {},
   "source": [
    "## Stratified Sample"
   ]
  },
  {
   "cell_type": "markdown",
   "metadata": {},
   "source": [
    "### Random Forests"
   ]
  },
  {
   "cell_type": "code",
   "execution_count": 308,
   "metadata": {
    "collapsed": false
   },
   "outputs": [],
   "source": [
    "forest = RandomForestClassifier()\n",
    "forest.fit(X_train,y_train)\n",
    "ypred_for = forest.predict(X_test)"
   ]
  },
  {
   "cell_type": "code",
   "execution_count": 309,
   "metadata": {
    "collapsed": false
   },
   "outputs": [
    {
     "name": "stdout",
     "output_type": "stream",
     "text": [
      "accuracy:  0.989740844819\n",
      "precision:  0.984843437708\n",
      "recall:  0.941260744986\n",
      "f1 score:  0.962559010256\n"
     ]
    }
   ],
   "source": [
    "print(\"accuracy: \", accuracy_score(y_test, ypred_for))\n",
    "print(\"precision: \", precision_score(y_test, ypred_for))\n",
    "print(\"recall: \", recall_score(y_test, ypred_for))\n",
    "print(\"f1 score: \", f1_score(y_test, ypred_for))"
   ]
  },
  {
   "cell_type": "markdown",
   "metadata": {},
   "source": [
    "###  Logistic Regression"
   ]
  },
  {
   "cell_type": "code",
   "execution_count": 342,
   "metadata": {
    "collapsed": false
   },
   "outputs": [],
   "source": [
    "logreg = LogisticRegression(class_weight={1: 20})\n",
    "logreg.fit(X_train,y_train)\n",
    "ypred_log = logreg.predict(X_test)"
   ]
  },
  {
   "cell_type": "code",
   "execution_count": 343,
   "metadata": {
    "collapsed": false
   },
   "outputs": [
    {
     "name": "stdout",
     "output_type": "stream",
     "text": [
      "accuracy:  0.759757348677\n",
      "precision:  0.355534105534\n",
      "recall:  0.879496975486\n",
      "f1 score:  0.506369718633\n"
     ]
    }
   ],
   "source": [
    "print(\"accuracy: \", accuracy_score(y_test, ypred_log))\n",
    "print(\"precision: \", precision_score(y_test, ypred_log))\n",
    "print(\"recall: \", recall_score(y_test, ypred_log))\n",
    "print(\"f1 score: \", f1_score(y_test, ypred_log))"
   ]
  },
  {
   "cell_type": "markdown",
   "metadata": {},
   "source": [
    "### KNN"
   ]
  },
  {
   "cell_type": "code",
   "execution_count": 375,
   "metadata": {
    "collapsed": true
   },
   "outputs": [],
   "source": [
    "knn = KNeighborsClassifier()\n",
    "knn.fit(std_scale.transform(X_for), y_bin)\n",
    "ypred_knn = knn.predict(std_scale.transform(X_test))"
   ]
  },
  {
   "cell_type": "code",
   "execution_count": 376,
   "metadata": {
    "collapsed": false
   },
   "outputs": [
    {
     "name": "stdout",
     "output_type": "stream",
     "text": [
      "accuracy:  0.987577501227\n",
      "precision:  0.973845389836\n",
      "recall:  0.936485195798\n",
      "f1 score:  0.95479996754\n"
     ]
    }
   ],
   "source": [
    "print(\"accuracy: \", accuracy_score(y_test, ypred_knn))\n",
    "print(\"precision: \", precision_score(y_test, ypred_knn))\n",
    "print(\"recall: \", recall_score(y_test, ypred_knn))\n",
    "print(\"f1 score: \", f1_score(y_test, ypred_knn))"
   ]
  },
  {
   "cell_type": "markdown",
   "metadata": {},
   "source": [
    "## New Sample"
   ]
  },
  {
   "cell_type": "code",
   "execution_count": 167,
   "metadata": {
    "collapsed": false
   },
   "outputs": [],
   "source": [
    "df_50 = pd.read_csv('50/test_50.csv')"
   ]
  },
  {
   "cell_type": "code",
   "execution_count": 168,
   "metadata": {
    "collapsed": false
   },
   "outputs": [
    {
     "name": "stderr",
     "output_type": "stream",
     "text": [
      "100%|██████████| 2087508/2087508 [00:02<00:00, 832400.44it/s]\n"
     ]
    }
   ],
   "source": [
    "df_50 = label(df_50)"
   ]
  },
  {
   "cell_type": "code",
   "execution_count": 429,
   "metadata": {
    "collapsed": true
   },
   "outputs": [],
   "source": [
    "def clean_bot(df_in):\n",
    "    df_in = df_in.drop(['SIntPkt'], axis=1)\n",
    "    df_new = df_in.copy(deep=True)\n",
    "    \n",
    "    df_new = df_in.loc[df_in['sHops'] == 1]\n",
    "    df_new = df_in.loc[df_in['sTtl'] == 127]\n",
    "    df_new['Load'] = df_in['Load'].map(lambda x: 1 if x>0 else 0)\n",
    "\n",
    "    df_new['TotBytes'] = df_new['TotBytes'].astype('float64')\n",
    "    df_new['TotPkts'] = df_new['TotPkts'].astype('float64')\n",
    "    print(pd.isnull(df_new).any())\n",
    "    return df_new\n",
    "\n",
    "def clean_for_bot(df_in):\n",
    "    df_in = df_in.dropna(subset=['sMaxPktSz'])\n",
    "    _y = df_in['Label']\n",
    "    X = df_in.drop(['StartTime', 'SrcAddr', 'Sport', 'DstAddr', 'Label', 'sHops', 'sTtl'], axis=1) # Cols we def won't need\n",
    "    X = X.drop(['Dir', 'TcpOpt', 'SrcBytes', 'Load', 'SrcJitter', 'PCRatio', 'TotPkts'], axis=1) # Cols we might need\n",
    "    X_dum = pd.get_dummies(X, drop_first=True, columns=['Proto', 'Dport', 'State']) # Make dummies\n",
    "    X_new = X_dum[['sMaxPktSz', 'pLoss', 'State_REQ', 'Dur', 'sMeanPktSz', 'TotBytes', 'TotAppByte']] # Selected based on Rand Forest Feature Selection\n",
    "    X_new = X_new.fillna(X_new.mean())\n",
    "    print(pd.isnull(X_new).any())\n",
    "    return X_new, _y"
   ]
  },
  {
   "cell_type": "code",
   "execution_count": 251,
   "metadata": {
    "collapsed": false
   },
   "outputs": [
    {
     "data": {
      "text/plain": [
       "normal    1902521\n",
       "botnet     184987\n",
       "Name: Label, dtype: int64"
      ]
     },
     "execution_count": 251,
     "metadata": {},
     "output_type": "execute_result"
    }
   ],
   "source": [
    "df_50['Label'].value_counts()"
   ]
  },
  {
   "cell_type": "code",
   "execution_count": 252,
   "metadata": {
    "collapsed": false
   },
   "outputs": [
    {
     "data": {
      "text/plain": [
       "botnet    184987\n",
       "normal    151455\n",
       "Name: Label, dtype: int64"
      ]
     },
     "execution_count": 252,
     "metadata": {},
     "output_type": "execute_result"
    }
   ],
   "source": [
    "df_50_clean['Label'].value_counts()"
   ]
  },
  {
   "cell_type": "code",
   "execution_count": 430,
   "metadata": {
    "collapsed": false
   },
   "outputs": [
    {
     "name": "stderr",
     "output_type": "stream",
     "text": [
      "//anaconda/envs/py35/lib/python3.5/site-packages/ipykernel/__main__.py:8: SettingWithCopyWarning: \n",
      "A value is trying to be set on a copy of a slice from a DataFrame.\n",
      "Try using .loc[row_indexer,col_indexer] = value instead\n",
      "\n",
      "See the caveats in the documentation: http://pandas.pydata.org/pandas-docs/stable/indexing.html#indexing-view-versus-copy\n"
     ]
    },
    {
     "name": "stdout",
     "output_type": "stream",
     "text": [
      "StartTime     False\n",
      "Dur           False\n",
      "Proto         False\n",
      "SrcAddr       False\n",
      "Sport         False\n",
      "Dir           False\n",
      "DstAddr       False\n",
      "Dport         False\n",
      "State         False\n",
      "TotPkts       False\n",
      "TotBytes      False\n",
      "sMaxPktSz      True\n",
      "sMinPktSz      True\n",
      "sMeanPktSz    False\n",
      "SrcBytes      False\n",
      "TotAppByte    False\n",
      "TcpOpt         True\n",
      "sTtl          False\n",
      "sHops         False\n",
      "pLoss         False\n",
      "Load          False\n",
      "SrcJitter      True\n",
      "PCRatio       False\n",
      "Label         False\n",
      "dtype: bool\n"
     ]
    }
   ],
   "source": [
    "df_50_clean = clean(df_50)"
   ]
  },
  {
   "cell_type": "code",
   "execution_count": 431,
   "metadata": {
    "collapsed": false
   },
   "outputs": [
    {
     "name": "stdout",
     "output_type": "stream",
     "text": [
      "sMaxPktSz     False\n",
      "pLoss         False\n",
      "State_REQ     False\n",
      "Dur           False\n",
      "sMeanPktSz    False\n",
      "TotBytes      False\n",
      "TotAppByte    False\n",
      "dtype: bool\n"
     ]
    }
   ],
   "source": [
    "X_50, y_50 = clean_for_bot(df_50_clean)"
   ]
  },
  {
   "cell_type": "code",
   "execution_count": 432,
   "metadata": {
    "collapsed": true
   },
   "outputs": [],
   "source": [
    "y50_bin = [0 if i == 'normal' else 1 for i in y_50]"
   ]
  },
  {
   "cell_type": "code",
   "execution_count": 256,
   "metadata": {
    "collapsed": false
   },
   "outputs": [
    {
     "data": {
      "text/plain": [
       "0.5498365236000475"
      ]
     },
     "execution_count": 256,
     "metadata": {},
     "output_type": "execute_result"
    }
   ],
   "source": [
    "sum(y50_bin)/len(y50_bin)"
   ]
  },
  {
   "cell_type": "code",
   "execution_count": 194,
   "metadata": {
    "collapsed": false
   },
   "outputs": [
    {
     "data": {
      "text/plain": [
       "Index(['sMaxPktSz', 'pLoss', 'State_REQ', 'Dur', 'sMeanPktSz', 'TotBytes'], dtype='object')"
      ]
     },
     "execution_count": 194,
     "metadata": {},
     "output_type": "execute_result"
    }
   ],
   "source": [
    "X_50.columns"
   ]
  },
  {
   "cell_type": "code",
   "execution_count": 195,
   "metadata": {
    "collapsed": false
   },
   "outputs": [
    {
     "data": {
      "text/plain": [
       "Index(['sMaxPktSz', 'pLoss', 'State_REQ', 'Dur', 'sMeanPktSz', 'TotBytes'], dtype='object')"
      ]
     },
     "execution_count": 195,
     "metadata": {},
     "output_type": "execute_result"
    }
   ],
   "source": [
    "X_for.columns"
   ]
  },
  {
   "cell_type": "markdown",
   "metadata": {},
   "source": [
    "### Random Forests "
   ]
  },
  {
   "cell_type": "code",
   "execution_count": 435,
   "metadata": {
    "collapsed": false
   },
   "outputs": [],
   "source": [
    "forest_50 = RandomForestClassifier()\n",
    "forest_50.fit(X_for,y_bin)\n",
    "# ypred_prob = forest.predict_proba(X_50)\n",
    "ypred_50 = forest_50.predict(X_50)"
   ]
  },
  {
   "cell_type": "code",
   "execution_count": 436,
   "metadata": {
    "collapsed": false
   },
   "outputs": [
    {
     "name": "stdout",
     "output_type": "stream",
     "text": [
      "Accuracy:  0.639861490905\n",
      "Precision:  0.988712938005\n",
      "Recall:  0.348992091336\n",
      "F1:  0.515888014767\n"
     ]
    }
   ],
   "source": [
    "print(\"Accuracy: \", accuracy_score(y50_bin, ypred_50))\n",
    "print(\"Precision: \", precision_score(y50_bin, ypred_50))\n",
    "print(\"Recall: \", recall_score(y50_bin, ypred_50))\n",
    "print(\"F1: \", f1_score(y50_bin, ypred_50))"
   ]
  },
  {
   "cell_type": "markdown",
   "metadata": {},
   "source": [
    "### Logistic Regression "
   ]
  },
  {
   "cell_type": "code",
   "execution_count": 433,
   "metadata": {
    "collapsed": false
   },
   "outputs": [],
   "source": [
    "logreg_50 = LogisticRegression(class_weight={1: 50})\n",
    "logreg_50.fit(std_scale.transform(X_for),y_bin)\n",
    "ypred_50_log = logreg_50.predict(std_scale.transform(X_50))"
   ]
  },
  {
   "cell_type": "code",
   "execution_count": 434,
   "metadata": {
    "collapsed": false
   },
   "outputs": [
    {
     "name": "stdout",
     "output_type": "stream",
     "text": [
      "Accuracy:  0.569483414576\n",
      "Precision:  0.561514321265\n",
      "Recall:  0.990453383211\n",
      "F1:  0.716707902637\n"
     ]
    }
   ],
   "source": [
    "print(\"Accuracy: \", accuracy_score(y50_bin, ypred_50_log))\n",
    "print(\"Precision: \", precision_score(y50_bin, ypred_50_log))\n",
    "print(\"Recall: \", recall_score(y50_bin, ypred_50_log))\n",
    "print(\"F1: \", f1_score(y50_bin, ypred_50_log))"
   ]
  },
  {
   "cell_type": "markdown",
   "metadata": {},
   "source": [
    "### KNN"
   ]
  },
  {
   "cell_type": "code",
   "execution_count": 437,
   "metadata": {
    "collapsed": true
   },
   "outputs": [],
   "source": [
    "# KNN\n",
    "knn_50 = KNeighborsClassifier(weights=\"distance\")\n",
    "knn_50.fit(std_scale.transform(X_for), y_bin)\n",
    "ypred_50_knn = knn_50.predict(std_scale.transform(X_50))"
   ]
  },
  {
   "cell_type": "code",
   "execution_count": 438,
   "metadata": {
    "collapsed": false
   },
   "outputs": [
    {
     "name": "stdout",
     "output_type": "stream",
     "text": [
      "Accuracy:  0.648183925811\n",
      "Precision:  0.966932996916\n",
      "Recall:  0.372896473806\n",
      "F1:  0.538226562165\n"
     ]
    }
   ],
   "source": [
    "print(\"Accuracy: \", accuracy_score(y50_bin, ypred_50_knn))\n",
    "print(\"Precision: \", precision_score(y50_bin, ypred_50_knn))\n",
    "print(\"Recall: \", recall_score(y50_bin, ypred_50_knn))\n",
    "print(\"F1: \", f1_score(y50_bin, ypred_50_knn))"
   ]
  },
  {
   "cell_type": "code",
   "execution_count": null,
   "metadata": {
    "collapsed": true
   },
   "outputs": [],
   "source": []
  }
 ],
 "metadata": {
  "kernelspec": {
   "display_name": "Python [conda env:py35]",
   "language": "python",
   "name": "conda-env-py35-py"
  },
  "language_info": {
   "codemirror_mode": {
    "name": "ipython",
    "version": 3
   },
   "file_extension": ".py",
   "mimetype": "text/x-python",
   "name": "python",
   "nbconvert_exporter": "python",
   "pygments_lexer": "ipython3",
   "version": "3.5.2"
  }
 },
 "nbformat": 4,
 "nbformat_minor": 2
}
