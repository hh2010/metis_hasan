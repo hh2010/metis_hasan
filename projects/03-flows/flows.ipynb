{
 "cells": [
  {
   "cell_type": "markdown",
   "metadata": {},
   "source": [
    "# Malware Classification Project\n",
    "## Project McNulty - Hasan Haq"
   ]
  },
  {
   "cell_type": "code",
   "execution_count": 1,
   "metadata": {
    "collapsed": true
   },
   "outputs": [],
   "source": [
    "import pandas as pd\n",
    "import numpy as np\n",
    "import pickle\n",
    "import matplotlib.pyplot as plt\n",
    "import math\n",
    "from tqdm import tqdm\n",
    "from sklearn.cross_validation import train_test_split\n",
    "from sklearn.neighbors import KNeighborsClassifier\n",
    "from sklearn.metrics import accuracy_score\n",
    "from sklearn.metrics import precision_score\n",
    "from sklearn.metrics import recall_score\n",
    "from sklearn.metrics import f1_score\n",
    "from sklearn.metrics import roc_curve, auc\n",
    "from sklearn.linear_model import LogisticRegression\n",
    "from sklearn.cross_validation import cross_val_score\n",
    "from sklearn.learning_curve import learning_curve\n",
    "from sklearn.naive_bayes import GaussianNB\n",
    "from sklearn.svm import SVC\n",
    "from sklearn.svm import LinearSVC\n",
    "from sklearn.tree import DecisionTreeClassifier\n",
    "from sklearn.ensemble import RandomForestClassifier\n",
    "from sklearn.preprocessing import scale\n",
    "from sklearn.preprocessing import StandardScaler\n",
    "from sklearn.datasets import make_classification, make_moons, make_circles\n",
    "from sklearn.ensemble import ExtraTreesClassifier\n",
    "from matplotlib.colors import ListedColormap\n",
    "from matplotlib.colorbar import ColorbarBase\n",
    "%matplotlib inline"
   ]
  },
  {
   "cell_type": "markdown",
   "metadata": {},
   "source": [
    "### Read the data and clean it up"
   ]
  },
  {
   "cell_type": "code",
   "execution_count": 2,
   "metadata": {
    "collapsed": true
   },
   "outputs": [],
   "source": [
    "df = pd.read_csv('43/43_train.csv')"
   ]
  },
  {
   "cell_type": "code",
   "execution_count": 3,
   "metadata": {
    "collapsed": false
   },
   "outputs": [],
   "source": [
    "def label(df_in):\n",
    "    labels = {'background': 'normal', 'normal': 'normal', 'botnet': 'botnet'}\n",
    "    new_label = []\n",
    "    for i in tqdm(df_in['Label']):\n",
    "        if 'botnet' in i.lower():\n",
    "            new_label.append('botnet')\n",
    "        else:\n",
    "            new_label.append('normal')\n",
    "    df_in['Label'] = new_label\n",
    "    return df_in"
   ]
  },
  {
   "cell_type": "code",
   "execution_count": 4,
   "metadata": {
    "collapsed": false
   },
   "outputs": [
    {
     "name": "stderr",
     "output_type": "stream",
     "text": [
      "100%|██████████| 1808122/1808122 [00:01<00:00, 1066955.10it/s]\n"
     ]
    }
   ],
   "source": [
    "df = df.drop(['SIntPkt'], axis=1)\n",
    "df = label(df)"
   ]
  },
  {
   "cell_type": "code",
   "execution_count": 8,
   "metadata": {
    "collapsed": true
   },
   "outputs": [],
   "source": [
    "def clean(df_in):\n",
    "    df_new = df_in.copy(deep=True)\n",
    "    \n",
    "    # Big assumptions here... so far all the test sets fit it...\n",
    "    #   Cuts total data from 1.8mm to 200k, and keeps all malware data\n",
    "    df_new = df_in.loc[df_in['sHops'] == 1]\n",
    "    df_new = df_in.loc[df_in['sTtl'] == 127]\n",
    "    df_new['Load'] = df_in['Load'].map(lambda x: 1 if x>0 else 0)\n",
    "\n",
    "    # Another assumption, that the ports, state and protocol that Neris uses here will be used in future test sets\n",
    "    #  Cuts it down even further, down to 150k\n",
    "    ports = df_in.loc[df_in['Label'] == \"botnet\"]['Dport'].unique()\n",
    "    states = df_in.loc[df_in['Label'] == \"botnet\"]['State'].unique()\n",
    "    protos = df_in.loc[df_in['Label'] == \"botnet\"]['Proto'].unique()\n",
    "\n",
    "    df_new = df_new.loc[(df_new['Dport'].isin(ports)) & (df_new['State'].isin(states)) & (df_new['Proto'].isin(protos))]\n",
    "    df_new['TotBytes'] = df_new['TotBytes'].astype('float64')\n",
    "    df_new['TotPkts'] = df_new['TotPkts'].astype('float64')\n",
    "    \n",
    "    # Clean up direction labels before dummying\n",
    "    df_new['Dir'] = df_new['Dir'].map(lambda x: \"<->\" if x==\"  <->\" else x)\n",
    "    df_new['Dir'] = df_new['Dir'].map(lambda x: \"->\" if x==\"   ->\" else x)\n",
    "    df_new['Dir'] = df_new['Dir'].map(lambda x: \"<->\" if x==\"  <?>\" else x)\n",
    "    df_new['Dir'] = df_new['Dir'].map(lambda x: \"<-\" if x==\"  <-\" else x)\n",
    "    df_new['Dir'] = df_new['Dir'].map(lambda x: \"->\" if x==\"   ?>\" else x)\n",
    "    print(pd.isnull(df_new).any())\n",
    "    return df_new\n",
    "\n",
    "def clean_for_orig(df_in):\n",
    "    _y = df_in['Label']\n",
    "    X = df_in.drop(['StartTime', 'SrcAddr', 'Sport', 'DstAddr', 'Label'], axis=1) # Cols we def won't need\n",
    "    X = X[['sMaxPktSz', 'pLoss', 'Dur', 'sMeanPktSz', 'TotBytes', 'TotAppByte', 'State']]\n",
    "#     X = X.drop(['TcpOpt', 'SrcBytes', 'Load', 'SrcJitter', 'PCRatio', 'TotPkts'], axis=1) # Cols we might need\n",
    "    X_dum = pd.get_dummies(X, drop_first=True, columns=['State']) # Make dummies\n",
    "    X_new = X_dum[['sMaxPktSz', 'pLoss', 'State_REQ', 'Dur', 'sMeanPktSz', 'TotBytes', 'TotAppByte']] # Selected based on Rand Forest Feature Selection\n",
    "    X_new = X_new.fillna(X_new.mean())\n",
    "    print(pd.isnull(X_new).any())\n",
    "    return X_new, _y"
   ]
  },
  {
   "cell_type": "code",
   "execution_count": 9,
   "metadata": {
    "collapsed": false,
    "scrolled": true
   },
   "outputs": [
    {
     "name": "stderr",
     "output_type": "stream",
     "text": [
      "//anaconda/envs/py35/lib/python3.5/site-packages/ipykernel/__main__.py:8: SettingWithCopyWarning: \n",
      "A value is trying to be set on a copy of a slice from a DataFrame.\n",
      "Try using .loc[row_indexer,col_indexer] = value instead\n",
      "\n",
      "See the caveats in the documentation: http://pandas.pydata.org/pandas-docs/stable/indexing.html#indexing-view-versus-copy\n"
     ]
    },
    {
     "name": "stdout",
     "output_type": "stream",
     "text": [
      "StartTime     False\n",
      "Dur           False\n",
      "Proto         False\n",
      "SrcAddr       False\n",
      "Sport         False\n",
      "Dir           False\n",
      "DstAddr       False\n",
      "Dport         False\n",
      "State         False\n",
      "TotPkts       False\n",
      "TotBytes      False\n",
      "sMaxPktSz     False\n",
      "sMinPktSz     False\n",
      "sMeanPktSz    False\n",
      "SrcBytes      False\n",
      "TotAppByte    False\n",
      "TcpOpt         True\n",
      "sTtl          False\n",
      "sHops         False\n",
      "pLoss         False\n",
      "Load          False\n",
      "SrcJitter      True\n",
      "PCRatio       False\n",
      "Label         False\n",
      "dtype: bool\n",
      "<class 'pandas.core.frame.DataFrame'>\n",
      "Int64Index: 149459 entries, 8 to 1808116\n",
      "Data columns (total 24 columns):\n",
      "StartTime     149459 non-null object\n",
      "Dur           149459 non-null float64\n",
      "Proto         149459 non-null object\n",
      "SrcAddr       149459 non-null object\n",
      "Sport         149459 non-null object\n",
      "Dir           149459 non-null object\n",
      "DstAddr       149459 non-null object\n",
      "Dport         149459 non-null object\n",
      "State         149459 non-null object\n",
      "TotPkts       149459 non-null float64\n",
      "TotBytes      149459 non-null float64\n",
      "sMaxPktSz     149459 non-null float64\n",
      "sMinPktSz     149459 non-null float64\n",
      "sMeanPktSz    149459 non-null float64\n",
      "SrcBytes      149459 non-null int64\n",
      "TotAppByte    149459 non-null int64\n",
      "TcpOpt        83220 non-null object\n",
      "sTtl          149459 non-null float64\n",
      "sHops         149459 non-null float64\n",
      "pLoss         149459 non-null float64\n",
      "Load          149459 non-null int64\n",
      "SrcJitter     83461 non-null float64\n",
      "PCRatio       149459 non-null float64\n",
      "Label         149459 non-null object\n",
      "dtypes: float64(11), int64(3), object(10)\n",
      "memory usage: 28.5+ MB\n"
     ]
    }
   ],
   "source": [
    "df_clean = clean(df)\n",
    "df_clean.info()"
   ]
  },
  {
   "cell_type": "code",
   "execution_count": 10,
   "metadata": {
    "collapsed": false
   },
   "outputs": [
    {
     "name": "stdout",
     "output_type": "stream",
     "text": [
      "sMaxPktSz     False\n",
      "pLoss         False\n",
      "State_REQ     False\n",
      "Dur           False\n",
      "sMeanPktSz    False\n",
      "TotBytes      False\n",
      "TotAppByte    False\n",
      "dtype: bool\n"
     ]
    }
   ],
   "source": [
    "X_for, y = clean_for_orig(df_clean)"
   ]
  },
  {
   "cell_type": "code",
   "execution_count": 8,
   "metadata": {
    "collapsed": false,
    "scrolled": true
   },
   "outputs": [
    {
     "name": "stdout",
     "output_type": "stream",
     "text": [
      "<class 'pandas.core.frame.DataFrame'>\n",
      "Int64Index: 901968 entries, 0 to 1808120\n",
      "Data columns (total 9 columns):\n",
      "sMaxPktSz     901968 non-null float64\n",
      "pLoss         901968 non-null float64\n",
      "State_REQ     901968 non-null float64\n",
      "Dur           901968 non-null float64\n",
      "sMeanPktSz    901968 non-null float64\n",
      "TotBytes      901968 non-null float64\n",
      "TotAppByte    901968 non-null int64\n",
      "sHops         901968 non-null float64\n",
      "sTtl          901968 non-null float64\n",
      "dtypes: float64(8), int64(1)\n",
      "memory usage: 68.8 MB\n"
     ]
    }
   ],
   "source": [
    "X_for.info()"
   ]
  },
  {
   "cell_type": "markdown",
   "metadata": {},
   "source": [
    "### Train-Test-Split for Cross Validation on Train Set"
   ]
  },
  {
   "cell_type": "code",
   "execution_count": 11,
   "metadata": {
    "collapsed": true
   },
   "outputs": [],
   "source": [
    "y_bin = [0 if i == 'normal' else 1 for i in y]"
   ]
  },
  {
   "cell_type": "code",
   "execution_count": 12,
   "metadata": {
    "collapsed": false
   },
   "outputs": [
    {
     "data": {
      "text/plain": [
       "20941"
      ]
     },
     "execution_count": 12,
     "metadata": {},
     "output_type": "execute_result"
    }
   ],
   "source": [
    "sum(y_bin)"
   ]
  },
  {
   "cell_type": "code",
   "execution_count": 13,
   "metadata": {
    "collapsed": false
   },
   "outputs": [],
   "source": [
    "X_train, X_test, y_train, y_test = train_test_split(X_for, y_bin, test_size=0.3, stratify=y_bin)"
   ]
  },
  {
   "cell_type": "markdown",
   "metadata": {},
   "source": [
    "### Standardize the Data"
   ]
  },
  {
   "cell_type": "code",
   "execution_count": 14,
   "metadata": {
    "collapsed": false
   },
   "outputs": [],
   "source": [
    "std_scale = StandardScaler().fit(X_train)\n",
    "X_train_std = std_scale.transform(X_train)\n",
    "X_test_std = std_scale.transform(X_test)"
   ]
  },
  {
   "cell_type": "markdown",
   "metadata": {},
   "source": [
    "### Cross-Validation with Classification Algorithms"
   ]
  },
  {
   "cell_type": "code",
   "execution_count": 91,
   "metadata": {
    "collapsed": true
   },
   "outputs": [],
   "source": [
    "def find_k(x_train,y_train,x_test,y_test):\n",
    "    KNNscores=[]\n",
    "    for n in range(1,30):\n",
    "        neigh = KNeighborsClassifier(n_neighbors=n)\n",
    "        neigh.fit(x_train,y_train)\n",
    "        KNNscores.append(recall_score(y_test,neigh.predict(x_test)))\n",
    "    return KNNscores.index(max(KNNscores))+1"
   ]
  },
  {
   "cell_type": "code",
   "execution_count": 93,
   "metadata": {
    "collapsed": false
   },
   "outputs": [
    {
     "data": {
      "text/plain": [
       "1"
      ]
     },
     "execution_count": 93,
     "metadata": {},
     "output_type": "execute_result"
    }
   ],
   "source": [
    "find_k(X_train_std,y_train,X_test_std,y_test)"
   ]
  },
  {
   "cell_type": "code",
   "execution_count": 90,
   "metadata": {
    "collapsed": false
   },
   "outputs": [
    {
     "name": "stdout",
     "output_type": "stream",
     "text": [
      "[ 0.93366093  0.93492789  0.93380282  0.92917847  0.93323963  0.92607004\n",
      "  0.9376541   0.92578262  0.92905048  0.92258749]\n",
      "1 loop, best of 1: 9.45 s per loop\n"
     ]
    }
   ],
   "source": [
    "%%timeit -n1 -r1\n",
    "# KNN\n",
    "knn = KNeighborsClassifier()\n",
    "knn.fit(X_train, y_train)\n",
    "knn_score = cross_val_score(knn, X_train_std, y_train, cv=10, scoring=\"f1\")\n",
    "print(knn_score)"
   ]
  },
  {
   "cell_type": "code",
   "execution_count": 190,
   "metadata": {
    "collapsed": false
   },
   "outputs": [
    {
     "name": "stdout",
     "output_type": "stream",
     "text": [
      "[ 0.83996937  0.8416185   0.83962992  0.83493651  0.83594646  0.83301196\n",
      "  0.83608445  0.83384853  0.83903189  0.82699767]\n",
      "1 loop, best of 1: 3min 27s per loop\n"
     ]
    }
   ],
   "source": [
    "%%timeit -n1 -r1\n",
    "# LinearSVM\n",
    "svm = LinearSVC()\n",
    "svm_acc = cross_val_score(svm, X_train_std, y_train, cv=10, scoring=\"f1\")\n",
    "print(svm_acc)"
   ]
  },
  {
   "cell_type": "code",
   "execution_count": 428,
   "metadata": {
    "collapsed": false
   },
   "outputs": [
    {
     "name": "stdout",
     "output_type": "stream",
     "text": [
      "[ 0.82945441  0.73552686  0.8214826   0.77809331  0.82884903  0.75615764\n",
      "  0.75324675  0.82464097  0.82041588  0.82583622]\n",
      "1 loop, best of 1: 24.2 s per loop\n"
     ]
    }
   ],
   "source": [
    "%%timeit -n1 -r1\n",
    "# Logistic Regression\n",
    "logreg = LogisticRegression()\n",
    "log_acc = cross_val_score(logreg, X_train_std, y_train, cv=10, scoring=\"f1\")\n",
    "print(log_acc)"
   ]
  },
  {
   "cell_type": "code",
   "execution_count": 162,
   "metadata": {
    "collapsed": false
   },
   "outputs": [
    {
     "name": "stdout",
     "output_type": "stream",
     "text": [
      "[ 0.26011614  0.26020736  0.26516432  0.26268602  0.2618369   0.26027775\n",
      "  0.26128266  0.26495009  0.26186971  0.26240741]\n",
      "1 loop, best of 1: 1.39 s per loop\n"
     ]
    }
   ],
   "source": [
    "%%timeit -n1 -r1\n",
    "# Gaussian Naive Bayes\n",
    "gauss = GaussianNB()\n",
    "gauss_acc = cross_val_score(gauss, X_train, y_train, cv=10, scoring='f1')\n",
    "print(gauss_acc)"
   ]
  },
  {
   "cell_type": "code",
   "execution_count": 247,
   "metadata": {
    "collapsed": false,
    "scrolled": true
   },
   "outputs": [
    {
     "name": "stdout",
     "output_type": "stream",
     "text": [
      "[ 0.96510816  0.96409899  0.95887522  0.95893296  0.95831874  0.95997191\n",
      "  0.9584932   0.96794425  0.96293706  0.95896177]\n",
      "1 loop, best of 1: 15 s per loop\n"
     ]
    }
   ],
   "source": [
    "%%timeit -n1 -r1\n",
    "# Random Forests\n",
    "forest = RandomForestClassifier()\n",
    "forest_acc = cross_val_score(forest, X_train, y_train, cv=10, scoring='f1')\n",
    "print(forest_acc)"
   ]
  },
  {
   "cell_type": "markdown",
   "metadata": {},
   "source": [
    "### Begin Charts"
   ]
  },
  {
   "cell_type": "code",
   "execution_count": 16,
   "metadata": {
    "collapsed": false
   },
   "outputs": [],
   "source": [
    "def fig_format(x, y):\n",
    "    fig = plt.figure()\n",
    "    fig.set_size_inches(x, y, forward=True)\n",
    "    plt.tick_params(\n",
    "        axis='x',          # changes apply to the x-axis\n",
    "        which='both',      # both major and minor ticks are affected\n",
    "        bottom='off',      # ticks along the bottom edge are off\n",
    "        top='off',         # ticks along the top edge are off\n",
    "        labelcolor='white',\n",
    "        labelsize=12,\n",
    "        labelbottom='on') # labels along the bottom edge are off\n",
    "    plt.tick_params(\n",
    "        axis='y',          # changes apply to the x-axis\n",
    "        which='both',      # both major and minor ticks are affected\n",
    "        left='off',      # ticks along the bottom edge are off\n",
    "        labelcolor='white',\n",
    "        labelsize=12,\n",
    "        right='off')         # ticks along the top edge are off\n",
    "    plt.gca().spines['top'].set_visible(False)\n",
    "    plt.gca().spines['right'].set_visible(False)\n",
    "    fig.patch.set_alpha(0.0)\n",
    "    return fig\n",
    "\n",
    "def ax_format(fig, ylabel, xlabel=None):\n",
    "    ax = fig.add_subplot(111)\n",
    "    ax.patch.set_alpha(0.0)\n",
    "    ax.spines['bottom'].set_color('white')\n",
    "    ax.spines['left'].set_color('white')\n",
    "    ax.set_ylabel(ylabel, color='white', weight='bold', size=12)\n",
    "    if xlabel != None:\n",
    "        ax.set_xlabel(xlabel, color='white', weight='bold', size=12)\n",
    "    return ax"
   ]
  },
  {
   "cell_type": "markdown",
   "metadata": {},
   "source": [
    "### Hexbin Data Plot"
   ]
  },
  {
   "cell_type": "code",
   "execution_count": null,
   "metadata": {
    "collapsed": true
   },
   "outputs": [],
   "source": [
    "df_hex = df_clean[(df_clean['TotBytes']<=500) & (df_clean['sMaxPktSz']<=200)]"
   ]
  },
  {
   "cell_type": "code",
   "execution_count": 272,
   "metadata": {
    "collapsed": false,
    "scrolled": false
   },
   "outputs": [
    {
     "data": {
      "image/png": "[encoded data removed]",
      "text/plain": [
       "<matplotlib.figure.Figure at 0x14f70de80>"
      ]
     },
     "metadata": {},
     "output_type": "display_data"
    }
   ],
   "source": [
    "fig = fig_format(8, 6)\n",
    "ax = ax_format(fig, 'TotBytes', 'sMaxPktSz')\n",
    "\n",
    "hexplot = ax.hexbin(df_hex['TotBytes'], df_hex['sMaxPktSz'], reduce_C_function='mean', cmap='Reds', gridsize=25, bins='log')\n",
    "plt.ylim([60, 120])\n",
    "plt.xlim([100, 400])\n",
    "cb = fig.colorbar(hexplot, ax=ax)\n",
    "cb.set_label('log10(N)', color='white', weight='bold')\n",
    "cbytick_obj = plt.getp(cb.ax.axes, 'yticklabels')\n",
    "plt.setp(cbytick_obj, color='white', weight='bold');"
   ]
  },
  {
   "cell_type": "markdown",
   "metadata": {},
   "source": [
    "### Random Forests: Feature Importances"
   ]
  },
  {
   "cell_type": "code",
   "execution_count": 17,
   "metadata": {
    "collapsed": false
   },
   "outputs": [
    {
     "name": "stdout",
     "output_type": "stream",
     "text": [
      "Feature ranking:\n",
      "1. feature 0 (0.350444)\n",
      "2. feature 1 (0.180584)\n",
      "3. feature 2 (0.119448)\n",
      "4. feature 6 (0.108997)\n",
      "5. feature 4 (0.102018)\n",
      "6. feature 3 (0.080533)\n",
      "7. feature 5 (0.057977)\n",
      "1 loop, best of 1: 2.28 s per loop\n"
     ]
    },
    {
     "data": {
      "image/png": "[encoded data removed]",
      "text/plain": [
       "<matplotlib.figure.Figure at 0x109b83978>"
      ]
     },
     "metadata": {},
     "output_type": "display_data"
    }
   ],
   "source": [
    "%%timeit -n1 -r1\n",
    "forest = RandomForestClassifier(random_state=100)\n",
    "forest.fit(X_train, y_train)\n",
    "importances = forest.feature_importances_\n",
    "std = np.std([tree.feature_importances_ for tree in forest.estimators_], axis=0)\n",
    "indices = np.argsort(importances)[::-1]\n",
    "\n",
    "labs = []\n",
    "for _ in indices:\n",
    "    labs.append(X_train.columns[_])\n",
    "\n",
    "# Print the feature ranking\n",
    "print(\"Feature ranking:\")\n",
    "\n",
    "for f in range(X_train.shape[1]):\n",
    "    print(\"%d. feature %d (%f)\" % (f + 1, indices[f], importances[indices[f]]))\n",
    "    \n",
    "# Plot the feature importances of the forest\n",
    "\n",
    "fig = fig_format(12, 4)\n",
    "ax = ax_format(fig, \"Feature Importance\")\n",
    "ax.bar(range(X_train.shape[1]), importances[indices], align=\"center\", color=plt.cm.Reds(np.linspace(0,1,7)))\n",
    "plt.xticks(range(X_train.shape[1]), labs)\n",
    "# plt.ylim([0, .5])\n",
    "# plt.title(\"Feature importances\")\n",
    "# plt.xlim([-1, X_train.shape[1]])"
   ]
  },
  {
   "cell_type": "markdown",
   "metadata": {},
   "source": [
    "### ROC Curve"
   ]
  },
  {
   "cell_type": "code",
   "execution_count": 100,
   "metadata": {
    "collapsed": false,
    "scrolled": true
   },
   "outputs": [
    {
     "data": {
      "image/png": "[encoded data removed]",
      "text/plain": [
       "<matplotlib.figure.Figure at 0x157e8b240>"
      ]
     },
     "metadata": {},
     "output_type": "display_data"
    }
   ],
   "source": [
    "n_classes = 2\n",
    "\n",
    "# Logistic\n",
    "log_class = LogisticRegression(class_weight={1:20})\n",
    "y_log = log_class.fit(X_train_std, y_train).predict_proba(X_test_std)[:,1]\n",
    "\n",
    "fpr_log, tpr_log, _ = roc_curve(y_test, y_log)\n",
    "roc_log = auc(fpr_log, tpr_log)\n",
    "\n",
    "# Random Forest\n",
    "for_class = RandomForestClassifier()\n",
    "y_for = for_class.fit(X_train, y_train).predict_proba(X_test)[:,1]\n",
    "\n",
    "fpr_for, tpr_for, _ = roc_curve(y_test, y_for)\n",
    "roc_for = auc(fpr_for, tpr_for)\n",
    "\n",
    "# KNN\n",
    "knn_class = KNeighborsClassifier()\n",
    "y_knn = knn_class.fit(X_train_std, y_train).predict_proba(X_test_std)[:,1]\n",
    "\n",
    "fpr_knn, tpr_knn, _ = roc_curve(y_test, y_knn)\n",
    "roc_knn = auc(fpr_knn, tpr_knn)\n",
    "\n",
    "# GaussianNB\n",
    "nb_class = GaussianNB()\n",
    "y_nb = nb_class.fit(X_train_std, y_train).predict_proba(X_test_std)[:,1]\n",
    "\n",
    "fpr_nb, tpr_nb, _ = roc_curve(y_test, y_nb)\n",
    "roc_nb = auc(fpr_nb, tpr_nb)\n",
    "\n",
    "# Plot the graphs\n",
    "fig = fig_format(12, 6)\n",
    "ax = ax_format(fig, 'True Positive Rate', 'False Positive Rate')\n",
    "ax.plot(fpr_for, tpr_for, color='darkorange',\n",
    "         lw=2, label='Random Forest (area = %0.2f)' % roc_for)\n",
    "ax.plot(fpr_knn, tpr_knn, color='purple',\n",
    "         lw=2, label='KNN (area = %0.2f)' % roc_knn)\n",
    "ax.plot(fpr_log, tpr_log, color='red',\n",
    "         lw=2, label='Logistic Regression (area = %0.2f)' % roc_log)\n",
    "ax.plot(fpr_nb, tpr_nb, color='green',\n",
    "         lw=2, label='Naive Bayes (area = %0.2f)' % roc_nb)\n",
    "ax.plot([0, 1], [0, 1], color='navy', lw=2, linestyle='--')\n",
    "plt.xlim([-.01, 1.0])\n",
    "plt.ylim([0.0, 1.05])\n",
    "plt.legend(loc=\"lower right\")\n",
    "plt.show()"
   ]
  },
  {
   "cell_type": "markdown",
   "metadata": {},
   "source": [
    "### KNN Two Dimensional Graph"
   ]
  },
  {
   "cell_type": "code",
   "execution_count": null,
   "metadata": {
    "collapsed": true
   },
   "outputs": [],
   "source": [
    "# h = .02  # step size in the mesh\n",
    "\n",
    "# classifiers = KNeighborsClassifier()\n",
    "\n",
    "# X, y = make_classification(n_features=2, n_redundant=0, n_informative=2,\n",
    "#                            random_state=1, n_clusters_per_class=1)\n",
    "# rng = np.random.RandomState(2)\n",
    "# X += 2 * rng.uniform(size=X.shape)\n",
    "# linearly_separable = (X, y)\n",
    "\n",
    "# datasets = [make_moons(noise=0.3, random_state=0),\n",
    "#             make_circles(noise=0.2, factor=0.5, random_state=1),\n",
    "#             linearly_separable]\n",
    "\n",
    "# figure = plt.figure(figsize=(27, 9))\n",
    "# i = 1\n",
    "# # iterate over datasets\n",
    "# for ds_cnt, ds in enumerate(datasets):\n",
    "#     # preprocess dataset, split into training and test part\n",
    "#     X, y = ds\n",
    "#     X = StandardScaler().fit_transform(X)\n",
    "#     X_train, X_test, y_train, y_test = \\\n",
    "#         train_test_split(X, y, test_size=.4, random_state=42)\n",
    "\n",
    "#     x_min, x_max = X[:, 0].min() - .5, X[:, 0].max() + .5\n",
    "#     y_min, y_max = X[:, 1].min() - .5, X[:, 1].max() + .5\n",
    "#     xx, yy = np.meshgrid(np.arange(x_min, x_max, h),\n",
    "#                          np.arange(y_min, y_max, h))\n",
    "\n",
    "#     # just plot the dataset first\n",
    "#     cm = plt.cm.RdBu\n",
    "#     cm_bright = ListedColormap(['#FF0000', '#0000FF'])\n",
    "#     ax = plt.subplot(len(datasets), len(classifiers) + 1, i)\n",
    "#     if ds_cnt == 0:\n",
    "#         ax.set_title(\"Input data\")\n",
    "#     # Plot the training points\n",
    "#     ax.scatter(X_train[:, 0], X_train[:, 1], c=y_train, cmap=cm_bright)\n",
    "#     # and testing points\n",
    "#     ax.scatter(X_test[:, 0], X_test[:, 1], c=y_test, cmap=cm_bright, alpha=0.6)\n",
    "#     ax.set_xlim(xx.min(), xx.max())\n",
    "#     ax.set_ylim(yy.min(), yy.max())\n",
    "#     ax.set_xticks(())\n",
    "#     ax.set_yticks(())\n",
    "#     i += 1\n",
    "\n",
    "#     # iterate over classifiers\n",
    "#     for name, clf in zip(names, classifiers):\n",
    "#         ax = plt.subplot(len(datasets), len(classifiers) + 1, i)\n",
    "#         clf.fit(X_train, y_train)\n",
    "#         score = clf.score(X_test, y_test)\n",
    "\n",
    "#         # Plot the decision boundary. For that, we will assign a color to each\n",
    "#         # point in the mesh [x_min, x_max]x[y_min, y_max].\n",
    "#         if hasattr(clf, \"decision_function\"):\n",
    "#             Z = clf.decision_function(np.c_[xx.ravel(), yy.ravel()])\n",
    "#         else:\n",
    "#             Z = clf.predict_proba(np.c_[xx.ravel(), yy.ravel()])[:, 1]\n",
    "\n",
    "#         # Put the result into a color plot\n",
    "#         Z = Z.reshape(xx.shape)\n",
    "#         ax.contourf(xx, yy, Z, cmap=cm, alpha=.8)\n",
    "\n",
    "#         # Plot also the training points\n",
    "#         ax.scatter(X_train[:, 0], X_train[:, 1], c=y_train, cmap=cm_bright)\n",
    "#         # and testing points\n",
    "#         ax.scatter(X_test[:, 0], X_test[:, 1], c=y_test, cmap=cm_bright,\n",
    "#                    alpha=0.6)\n",
    "\n",
    "#         ax.set_xlim(xx.min(), xx.max())\n",
    "#         ax.set_ylim(yy.min(), yy.max())\n",
    "#         ax.set_xticks(())\n",
    "#         ax.set_yticks(())\n",
    "#         if ds_cnt == 0:\n",
    "#             ax.set_title(name)\n",
    "#         ax.text(xx.max() - .3, yy.min() + .3, ('%.2f' % score).lstrip('0'),\n",
    "#                 size=15, horizontalalignment='right')\n",
    "#         i += 1\n",
    "\n",
    "# plt.tight_layout()\n",
    "# plt.show()"
   ]
  },
  {
   "cell_type": "markdown",
   "metadata": {},
   "source": [
    "## Test Set (Cross Validation)"
   ]
  },
  {
   "cell_type": "markdown",
   "metadata": {},
   "source": [
    "### Random Forests"
   ]
  },
  {
   "cell_type": "code",
   "execution_count": 14,
   "metadata": {
    "collapsed": false
   },
   "outputs": [],
   "source": [
    "forest = RandomForestClassifier()\n",
    "forest.fit(X_train,y_train)\n",
    "ypred_for = forest.predict(X_test)"
   ]
  },
  {
   "cell_type": "code",
   "execution_count": 15,
   "metadata": {
    "collapsed": false
   },
   "outputs": [
    {
     "name": "stdout",
     "output_type": "stream",
     "text": [
      "accuracy:  0.998362842814\n",
      "precision:  0.988292356581\n",
      "recall:  0.940624005094\n",
      "f1 score:  0.963869178697\n"
     ]
    }
   ],
   "source": [
    "print(\"accuracy: \", accuracy_score(y_test, ypred_for))\n",
    "print(\"precision: \", precision_score(y_test, ypred_for))\n",
    "print(\"recall: \", recall_score(y_test, ypred_for))\n",
    "print(\"f1 score: \", f1_score(y_test, ypred_for))"
   ]
  },
  {
   "cell_type": "markdown",
   "metadata": {},
   "source": [
    "###  Logistic Regression"
   ]
  },
  {
   "cell_type": "code",
   "execution_count": 306,
   "metadata": {
    "collapsed": false
   },
   "outputs": [],
   "source": [
    "logreg = LogisticRegression(class_weight={1: 20})\n",
    "logreg.fit(X_train,y_train)\n",
    "ypred_log = logreg.predict(X_test)"
   ]
  },
  {
   "cell_type": "code",
   "execution_count": 307,
   "metadata": {
    "collapsed": false,
    "scrolled": true
   },
   "outputs": [
    {
     "name": "stdout",
     "output_type": "stream",
     "text": [
      "accuracy:  0.764820018734\n",
      "precision:  0.364846870839\n",
      "recall:  0.915950334288\n",
      "f1 score:  0.521833764114\n"
     ]
    }
   ],
   "source": [
    "print(\"accuracy: \", accuracy_score(y_test, ypred_log))\n",
    "print(\"precision: \", precision_score(y_test, ypred_log))\n",
    "print(\"recall: \", recall_score(y_test, ypred_log))\n",
    "print(\"f1 score: \", f1_score(y_test, ypred_log))"
   ]
  },
  {
   "cell_type": "markdown",
   "metadata": {},
   "source": [
    "### KNN"
   ]
  },
  {
   "cell_type": "code",
   "execution_count": 375,
   "metadata": {
    "collapsed": true
   },
   "outputs": [],
   "source": [
    "knn = KNeighborsClassifier()\n",
    "knn.fit(std_scale.transform(X_for), y_bin)\n",
    "ypred_knn = knn.predict(std_scale.transform(X_test))"
   ]
  },
  {
   "cell_type": "code",
   "execution_count": 376,
   "metadata": {
    "collapsed": false
   },
   "outputs": [
    {
     "name": "stdout",
     "output_type": "stream",
     "text": [
      "accuracy:  0.987577501227\n",
      "precision:  0.973845389836\n",
      "recall:  0.936485195798\n",
      "f1 score:  0.95479996754\n"
     ]
    }
   ],
   "source": [
    "print(\"accuracy: \", accuracy_score(y_test, ypred_knn))\n",
    "print(\"precision: \", precision_score(y_test, ypred_knn))\n",
    "print(\"recall: \", recall_score(y_test, ypred_knn))\n",
    "print(\"f1 score: \", f1_score(y_test, ypred_knn))"
   ]
  },
  {
   "cell_type": "markdown",
   "metadata": {},
   "source": [
    "## New Sample"
   ]
  },
  {
   "cell_type": "markdown",
   "metadata": {},
   "source": [
    "### Read the data and clean it up"
   ]
  },
  {
   "cell_type": "code",
   "execution_count": 18,
   "metadata": {
    "collapsed": false
   },
   "outputs": [],
   "source": [
    "df_50 = pd.read_csv('50/test_50.csv')"
   ]
  },
  {
   "cell_type": "code",
   "execution_count": 19,
   "metadata": {
    "collapsed": false
   },
   "outputs": [
    {
     "name": "stderr",
     "output_type": "stream",
     "text": [
      "100%|██████████| 2087508/2087508 [00:02<00:00, 791915.69it/s]\n"
     ]
    }
   ],
   "source": [
    "df_50 = label(df_50)"
   ]
  },
  {
   "cell_type": "code",
   "execution_count": 20,
   "metadata": {
    "collapsed": true
   },
   "outputs": [],
   "source": [
    "def clean_bot(df_in):\n",
    "    df_in = df_in.drop(['SIntPkt'], axis=1)\n",
    "    df_new = df_in.copy(deep=True)\n",
    "    \n",
    "    df_new = df_in.loc[df_in['sHops'] == 1]\n",
    "    df_new = df_in.loc[df_in['sTtl'] == 127]\n",
    "    df_new['Load'] = df_in['Load'].map(lambda x: 1 if x>0 else 0)\n",
    "\n",
    "    df_new['TotBytes'] = df_new['TotBytes'].astype('float64')\n",
    "    df_new['TotPkts'] = df_new['TotPkts'].astype('float64')\n",
    "    print(pd.isnull(df_new).any())\n",
    "    return df_new\n",
    "\n",
    "def clean_for_bot(df_in):\n",
    "    df_in = df_in.dropna(subset=['sMaxPktSz'])\n",
    "    _y = df_in['Label']\n",
    "    X = df_in.drop(['StartTime', 'SrcAddr', 'Sport', 'DstAddr', 'Label'], axis=1) # Cols we def won't need\n",
    "    X = X.drop(['Dir', 'TcpOpt', 'SrcBytes', 'Load', 'SrcJitter', 'PCRatio', 'TotPkts'], axis=1) # Cols we might need\n",
    "    X_dum = pd.get_dummies(X, drop_first=True, columns=['Proto', 'Dport', 'State']) # Make dummies\n",
    "    X_new = X_dum[['sMaxPktSz', 'pLoss', 'State_REQ', 'Dur', 'sMeanPktSz', 'TotBytes', 'TotAppByte']] # Selected based on Rand Forest Feature Selection\n",
    "    X_new = X_new.fillna(X_new.mean())\n",
    "    print(pd.isnull(X_new).any())\n",
    "    return X_new, _y"
   ]
  },
  {
   "cell_type": "code",
   "execution_count": 16,
   "metadata": {
    "collapsed": false
   },
   "outputs": [
    {
     "data": {
      "text/plain": [
       "normal    1902521\n",
       "botnet     184987\n",
       "Name: Label, dtype: int64"
      ]
     },
     "execution_count": 16,
     "metadata": {},
     "output_type": "execute_result"
    }
   ],
   "source": [
    "df_50['Label'].value_counts()"
   ]
  },
  {
   "cell_type": "code",
   "execution_count": 21,
   "metadata": {
    "collapsed": false,
    "scrolled": false
   },
   "outputs": [
    {
     "name": "stderr",
     "output_type": "stream",
     "text": [
      "//anaconda/envs/py35/lib/python3.5/site-packages/ipykernel/__main__.py:8: SettingWithCopyWarning: \n",
      "A value is trying to be set on a copy of a slice from a DataFrame.\n",
      "Try using .loc[row_indexer,col_indexer] = value instead\n",
      "\n",
      "See the caveats in the documentation: http://pandas.pydata.org/pandas-docs/stable/indexing.html#indexing-view-versus-copy\n"
     ]
    },
    {
     "name": "stdout",
     "output_type": "stream",
     "text": [
      "StartTime     False\n",
      "Dur           False\n",
      "Proto         False\n",
      "SrcAddr       False\n",
      "Sport         False\n",
      "Dir           False\n",
      "DstAddr       False\n",
      "Dport         False\n",
      "State         False\n",
      "TotPkts       False\n",
      "TotBytes      False\n",
      "sMaxPktSz      True\n",
      "sMinPktSz      True\n",
      "sMeanPktSz    False\n",
      "SrcBytes      False\n",
      "TotAppByte    False\n",
      "TcpOpt         True\n",
      "sTtl          False\n",
      "sHops         False\n",
      "pLoss         False\n",
      "Load          False\n",
      "SrcJitter      True\n",
      "PCRatio       False\n",
      "Label         False\n",
      "dtype: bool\n"
     ]
    }
   ],
   "source": [
    "df_50_clean = clean(df_50)"
   ]
  },
  {
   "cell_type": "code",
   "execution_count": 21,
   "metadata": {
    "collapsed": false
   },
   "outputs": [
    {
     "data": {
      "text/plain": [
       "normal    1097959\n",
       "botnet     184987\n",
       "Name: Label, dtype: int64"
      ]
     },
     "execution_count": 21,
     "metadata": {},
     "output_type": "execute_result"
    }
   ],
   "source": [
    "df_50_clean['Label'].value_counts()"
   ]
  },
  {
   "cell_type": "code",
   "execution_count": 22,
   "metadata": {
    "collapsed": false
   },
   "outputs": [
    {
     "name": "stdout",
     "output_type": "stream",
     "text": [
      "sMaxPktSz     False\n",
      "pLoss         False\n",
      "State_REQ     False\n",
      "Dur           False\n",
      "sMeanPktSz    False\n",
      "TotBytes      False\n",
      "TotAppByte    False\n",
      "dtype: bool\n"
     ]
    }
   ],
   "source": [
    "X_50, y_50 = clean_for_bot(df_50_clean)"
   ]
  },
  {
   "cell_type": "code",
   "execution_count": 23,
   "metadata": {
    "collapsed": false
   },
   "outputs": [
    {
     "data": {
      "text/plain": [
       "336440"
      ]
     },
     "execution_count": 23,
     "metadata": {},
     "output_type": "execute_result"
    }
   ],
   "source": [
    "len(X_50)"
   ]
  },
  {
   "cell_type": "code",
   "execution_count": 22,
   "metadata": {
    "collapsed": false
   },
   "outputs": [],
   "source": [
    "y50_bin = [0 if i == 'normal' else 1 for i in y_50]"
   ]
  },
  {
   "cell_type": "code",
   "execution_count": 27,
   "metadata": {
    "collapsed": false
   },
   "outputs": [
    {
     "data": {
      "text/plain": [
       "0.1442328534070194"
      ]
     },
     "execution_count": 27,
     "metadata": {},
     "output_type": "execute_result"
    }
   ],
   "source": [
    "sum(y50_bin)/len(y50_bin)"
   ]
  },
  {
   "cell_type": "code",
   "execution_count": 26,
   "metadata": {
    "collapsed": false
   },
   "outputs": [
    {
     "data": {
      "text/plain": [
       "Index(['sMaxPktSz', 'pLoss', 'State_REQ', 'Dur', 'sMeanPktSz', 'TotBytes',\n",
       "       'TotAppByte', 'sHops', 'sTtl'],\n",
       "      dtype='object')"
      ]
     },
     "execution_count": 26,
     "metadata": {},
     "output_type": "execute_result"
    }
   ],
   "source": [
    "X_50.columns"
   ]
  },
  {
   "cell_type": "code",
   "execution_count": 27,
   "metadata": {
    "collapsed": false
   },
   "outputs": [
    {
     "data": {
      "text/plain": [
       "Index(['sMaxPktSz', 'pLoss', 'State_REQ', 'Dur', 'sMeanPktSz', 'TotBytes',\n",
       "       'TotAppByte', 'sHops', 'sTtl'],\n",
       "      dtype='object')"
      ]
     },
     "execution_count": 27,
     "metadata": {},
     "output_type": "execute_result"
    }
   ],
   "source": [
    "X_for.columns"
   ]
  },
  {
   "cell_type": "markdown",
   "metadata": {},
   "source": [
    "### Random Forests "
   ]
  },
  {
   "cell_type": "code",
   "execution_count": 28,
   "metadata": {
    "collapsed": false
   },
   "outputs": [],
   "source": [
    "forest_50 = RandomForestClassifier()\n",
    "forest_50.fit(X_for,y_bin)\n",
    "# ypred_prob = forest.predict_proba(X_50)\n",
    "ypred_50 = forest_50.predict(X_50)"
   ]
  },
  {
   "cell_type": "code",
   "execution_count": 29,
   "metadata": {
    "collapsed": false
   },
   "outputs": [
    {
     "name": "stdout",
     "output_type": "stream",
     "text": [
      "Accuracy:  0.906235819355\n",
      "Precision:  0.991152591244\n",
      "Recall:  0.353062647646\n",
      "F1:  0.520659114644\n"
     ]
    }
   ],
   "source": [
    "print(\"Accuracy: \", accuracy_score(y50_bin, ypred_50))\n",
    "print(\"Precision: \", precision_score(y50_bin, ypred_50))\n",
    "print(\"Recall: \", recall_score(y50_bin, ypred_50))\n",
    "print(\"F1: \", f1_score(y50_bin, ypred_50))"
   ]
  },
  {
   "cell_type": "markdown",
   "metadata": {},
   "source": [
    "### Logistic Regression "
   ]
  },
  {
   "cell_type": "code",
   "execution_count": 29,
   "metadata": {
    "collapsed": false
   },
   "outputs": [],
   "source": [
    "logreg_50 = LogisticRegression(class_weight={1: 50})\n",
    "logreg_50.fit(std_scale.transform(X_for),y_bin)\n",
    "ypred_50_log = logreg_50.predict(std_scale.transform(X_50))"
   ]
  },
  {
   "cell_type": "code",
   "execution_count": null,
   "metadata": {
    "collapsed": false
   },
   "outputs": [
    {
     "name": "stdout",
     "output_type": "stream",
     "text": [
      "Accuracy:  0.884229797015\n",
      "Precision:  0.555320161361\n",
      "Recall:  0.990469600567\n",
      "F1:  0.711646243179\n"
     ]
    }
   ],
   "source": [
    "print(\"Accuracy: \", accuracy_score(y50_bin, ypred_50_log))\n",
    "print(\"Precision: \", precision_score(y50_bin, ypred_50_log))\n",
    "print(\"Recall: \", recall_score(y50_bin, ypred_50_log))\n",
    "print(\"F1: \", f1_score(y50_bin, ypred_50_log))"
   ]
  },
  {
   "cell_type": "markdown",
   "metadata": {},
   "source": [
    "### KNN"
   ]
  },
  {
   "cell_type": "code",
   "execution_count": null,
   "metadata": {
    "collapsed": false
   },
   "outputs": [],
   "source": [
    "# KNN\n",
    "knn_50 = KNeighborsClassifier(weights=\"distance\")\n",
    "knn_50.fit(std_scale.transform(X_for), y_bin)\n",
    "ypred_50_knn = knn_50.predict(std_scale.transform(X_50))"
   ]
  },
  {
   "cell_type": "code",
   "execution_count": null,
   "metadata": {
    "collapsed": false
   },
   "outputs": [],
   "source": [
    "print(\"Accuracy: \", accuracy_score(y50_bin, ypred_50_knn))\n",
    "print(\"Precision: \", precision_score(y50_bin, ypred_50_knn))\n",
    "print(\"Recall: \", recall_score(y50_bin, ypred_50_knn))\n",
    "print(\"F1: \", f1_score(y50_bin, ypred_50_knn))"
   ]
  },
  {
   "cell_type": "markdown",
   "metadata": {
    "collapsed": true
   },
   "source": [
    "### LinearSVC"
   ]
  },
  {
   "cell_type": "code",
   "execution_count": null,
   "metadata": {
    "collapsed": false
   },
   "outputs": [],
   "source": [
    "linsvc_50 = LinearSVC(class_weight={1:50})\n",
    "linsvc_50.fit(std_scale.transform(X_for), y_bin)\n",
    "ypred_50_linsvc = linsvc_50.predict(std_scale.transform(X_50))"
   ]
  },
  {
   "cell_type": "code",
   "execution_count": null,
   "metadata": {
    "collapsed": false
   },
   "outputs": [],
   "source": [
    "print(\"Accuracy: \", accuracy_score(y50_bin, ypred_50_linsvc))\n",
    "print(\"Precision: \", precision_score(y50_bin, ypred_50_linsvc))\n",
    "print(\"Recall: \", recall_score(y50_bin, ypred_50_linsvc))\n",
    "print(\"F1: \", f1_score(y50_bin, ypred_50_linsvc))"
   ]
  },
  {
   "cell_type": "markdown",
   "metadata": {
    "collapsed": true
   },
   "source": [
    "### Pickle"
   ]
  },
  {
   "cell_type": "code",
   "execution_count": 354,
   "metadata": {
    "collapsed": false
   },
   "outputs": [],
   "source": [
    "with open('live/knn.pkl', 'wb') as f:\n",
    "    pickle.dump(knn_50, f, protocol=pickle.HIGHEST_PROTOCOL)"
   ]
  },
  {
   "cell_type": "code",
   "execution_count": 34,
   "metadata": {
    "collapsed": true
   },
   "outputs": [],
   "source": [
    "with open('live/forest.pkl', 'wb') as f:\n",
    "    pickle.dump(forest_50, f, protocol=pickle.HIGHEST_PROTOCOL)"
   ]
  },
  {
   "cell_type": "code",
   "execution_count": 35,
   "metadata": {
    "collapsed": true
   },
   "outputs": [],
   "source": [
    "with open('live/logit.pkl', 'wb') as f:\n",
    "    pickle.dump(logreg_50, f, protocol=pickle.HIGHEST_PROTOCOL)"
   ]
  },
  {
   "cell_type": "code",
   "execution_count": 357,
   "metadata": {
    "collapsed": true
   },
   "outputs": [],
   "source": [
    "with open('live/svc.pkl', 'wb') as f:\n",
    "    pickle.dump(linsvc_50, f, protocol=pickle.HIGHEST_PROTOCOL)"
   ]
  },
  {
   "cell_type": "code",
   "execution_count": 24,
   "metadata": {
    "collapsed": true
   },
   "outputs": [],
   "source": [
    "with open('live/scale.pkl', 'wb') as f:\n",
    "    pickle.dump(std_scale, f, protocol=pickle.HIGHEST_PROTOCOL)"
   ]
  },
  {
   "cell_type": "code",
   "execution_count": 349,
   "metadata": {
    "collapsed": true
   },
   "outputs": [
    {
     "data": {
      "text/html": [
       "<div>\n",
       "<table border=\"1\" class=\"dataframe\">\n",
       "  <thead>\n",
       "    <tr style=\"text-align: right;\">\n",
       "      <th></th>\n",
       "      <th>sMaxPktSz</th>\n",
       "      <th>pLoss</th>\n",
       "      <th>State_REQ</th>\n",
       "      <th>Dur</th>\n",
       "      <th>sMeanPktSz</th>\n",
       "      <th>TotBytes</th>\n",
       "      <th>TotAppByte</th>\n",
       "    </tr>\n",
       "  </thead>\n",
       "  <tbody>\n",
       "    <tr>\n",
       "      <th>1115822</th>\n",
       "      <td>749.0</td>\n",
       "      <td>0.000000</td>\n",
       "      <td>0.0</td>\n",
       "      <td>0.308284</td>\n",
       "      <td>175.833328</td>\n",
       "      <td>1803.0</td>\n",
       "      <td>1207</td>\n",
       "    </tr>\n",
       "    <tr>\n",
       "      <th>143000</th>\n",
       "      <td>81.0</td>\n",
       "      <td>0.000000</td>\n",
       "      <td>0.0</td>\n",
       "      <td>0.004517</td>\n",
       "      <td>81.000000</td>\n",
       "      <td>565.0</td>\n",
       "      <td>481</td>\n",
       "    </tr>\n",
       "    <tr>\n",
       "      <th>1329484</th>\n",
       "      <td>84.0</td>\n",
       "      <td>0.000000</td>\n",
       "      <td>0.0</td>\n",
       "      <td>0.000444</td>\n",
       "      <td>84.000000</td>\n",
       "      <td>261.0</td>\n",
       "      <td>177</td>\n",
       "    </tr>\n",
       "    <tr>\n",
       "      <th>1612367</th>\n",
       "      <td>419.0</td>\n",
       "      <td>0.000000</td>\n",
       "      <td>0.0</td>\n",
       "      <td>0.005326</td>\n",
       "      <td>105.125000</td>\n",
       "      <td>8738.0</td>\n",
       "      <td>7703</td>\n",
       "    </tr>\n",
       "    <tr>\n",
       "      <th>1502994</th>\n",
       "      <td>767.0</td>\n",
       "      <td>0.000000</td>\n",
       "      <td>0.0</td>\n",
       "      <td>0.453184</td>\n",
       "      <td>283.571442</td>\n",
       "      <td>2941.0</td>\n",
       "      <td>2369</td>\n",
       "    </tr>\n",
       "    <tr>\n",
       "      <th>505998</th>\n",
       "      <td>1514.0</td>\n",
       "      <td>0.000000</td>\n",
       "      <td>0.0</td>\n",
       "      <td>0.400014</td>\n",
       "      <td>434.166656</td>\n",
       "      <td>3574.0</td>\n",
       "      <td>2920</td>\n",
       "    </tr>\n",
       "    <tr>\n",
       "      <th>1724554</th>\n",
       "      <td>75.0</td>\n",
       "      <td>0.000000</td>\n",
       "      <td>0.0</td>\n",
       "      <td>0.000256</td>\n",
       "      <td>75.000000</td>\n",
       "      <td>227.0</td>\n",
       "      <td>143</td>\n",
       "    </tr>\n",
       "    <tr>\n",
       "      <th>1733549</th>\n",
       "      <td>76.0</td>\n",
       "      <td>0.000000</td>\n",
       "      <td>0.0</td>\n",
       "      <td>0.022369</td>\n",
       "      <td>76.000000</td>\n",
       "      <td>201.0</td>\n",
       "      <td>117</td>\n",
       "    </tr>\n",
       "    <tr>\n",
       "      <th>1597023</th>\n",
       "      <td>73.0</td>\n",
       "      <td>0.000000</td>\n",
       "      <td>0.0</td>\n",
       "      <td>0.000302</td>\n",
       "      <td>73.000000</td>\n",
       "      <td>309.0</td>\n",
       "      <td>225</td>\n",
       "    </tr>\n",
       "    <tr>\n",
       "      <th>305304</th>\n",
       "      <td>76.0</td>\n",
       "      <td>0.000000</td>\n",
       "      <td>0.0</td>\n",
       "      <td>0.000208</td>\n",
       "      <td>76.000000</td>\n",
       "      <td>209.0</td>\n",
       "      <td>125</td>\n",
       "    </tr>\n",
       "    <tr>\n",
       "      <th>1376812</th>\n",
       "      <td>1454.0</td>\n",
       "      <td>0.000000</td>\n",
       "      <td>0.0</td>\n",
       "      <td>0.068074</td>\n",
       "      <td>319.571442</td>\n",
       "      <td>3316.0</td>\n",
       "      <td>2482</td>\n",
       "    </tr>\n",
       "    <tr>\n",
       "      <th>1758914</th>\n",
       "      <td>78.0</td>\n",
       "      <td>0.000000</td>\n",
       "      <td>0.0</td>\n",
       "      <td>0.000380</td>\n",
       "      <td>78.000000</td>\n",
       "      <td>396.0</td>\n",
       "      <td>312</td>\n",
       "    </tr>\n",
       "    <tr>\n",
       "      <th>1381148</th>\n",
       "      <td>77.0</td>\n",
       "      <td>0.000000</td>\n",
       "      <td>0.0</td>\n",
       "      <td>0.000352</td>\n",
       "      <td>77.000000</td>\n",
       "      <td>208.0</td>\n",
       "      <td>124</td>\n",
       "    </tr>\n",
       "    <tr>\n",
       "      <th>1609763</th>\n",
       "      <td>84.0</td>\n",
       "      <td>0.000000</td>\n",
       "      <td>0.0</td>\n",
       "      <td>0.010433</td>\n",
       "      <td>84.000000</td>\n",
       "      <td>604.0</td>\n",
       "      <td>520</td>\n",
       "    </tr>\n",
       "    <tr>\n",
       "      <th>1339049</th>\n",
       "      <td>70.0</td>\n",
       "      <td>0.000000</td>\n",
       "      <td>0.0</td>\n",
       "      <td>0.000320</td>\n",
       "      <td>70.000000</td>\n",
       "      <td>192.0</td>\n",
       "      <td>108</td>\n",
       "    </tr>\n",
       "    <tr>\n",
       "      <th>1088934</th>\n",
       "      <td>79.0</td>\n",
       "      <td>0.000000</td>\n",
       "      <td>0.0</td>\n",
       "      <td>0.000366</td>\n",
       "      <td>79.000000</td>\n",
       "      <td>296.0</td>\n",
       "      <td>212</td>\n",
       "    </tr>\n",
       "    <tr>\n",
       "      <th>1690616</th>\n",
       "      <td>552.0</td>\n",
       "      <td>0.000000</td>\n",
       "      <td>0.0</td>\n",
       "      <td>0.006670</td>\n",
       "      <td>158.800003</td>\n",
       "      <td>1846.0</td>\n",
       "      <td>1314</td>\n",
       "    </tr>\n",
       "    <tr>\n",
       "      <th>1337900</th>\n",
       "      <td>99.0</td>\n",
       "      <td>0.000000</td>\n",
       "      <td>0.0</td>\n",
       "      <td>0.135308</td>\n",
       "      <td>99.000000</td>\n",
       "      <td>251.0</td>\n",
       "      <td>167</td>\n",
       "    </tr>\n",
       "    <tr>\n",
       "      <th>1266282</th>\n",
       "      <td>75.0</td>\n",
       "      <td>0.000000</td>\n",
       "      <td>0.0</td>\n",
       "      <td>0.001917</td>\n",
       "      <td>75.000000</td>\n",
       "      <td>255.0</td>\n",
       "      <td>171</td>\n",
       "    </tr>\n",
       "    <tr>\n",
       "      <th>1401689</th>\n",
       "      <td>768.0</td>\n",
       "      <td>0.000000</td>\n",
       "      <td>0.0</td>\n",
       "      <td>0.004939</td>\n",
       "      <td>184.428574</td>\n",
       "      <td>2184.0</td>\n",
       "      <td>1370</td>\n",
       "    </tr>\n",
       "    <tr>\n",
       "      <th>463378</th>\n",
       "      <td>62.0</td>\n",
       "      <td>40.000000</td>\n",
       "      <td>1.0</td>\n",
       "      <td>8.906201</td>\n",
       "      <td>62.000000</td>\n",
       "      <td>186.0</td>\n",
       "      <td>0</td>\n",
       "    </tr>\n",
       "    <tr>\n",
       "      <th>1414099</th>\n",
       "      <td>79.0</td>\n",
       "      <td>0.000000</td>\n",
       "      <td>0.0</td>\n",
       "      <td>0.000388</td>\n",
       "      <td>79.000000</td>\n",
       "      <td>261.0</td>\n",
       "      <td>177</td>\n",
       "    </tr>\n",
       "    <tr>\n",
       "      <th>939999</th>\n",
       "      <td>62.0</td>\n",
       "      <td>40.000000</td>\n",
       "      <td>1.0</td>\n",
       "      <td>8.995070</td>\n",
       "      <td>62.000000</td>\n",
       "      <td>186.0</td>\n",
       "      <td>0</td>\n",
       "    </tr>\n",
       "    <tr>\n",
       "      <th>1578314</th>\n",
       "      <td>70.0</td>\n",
       "      <td>0.000000</td>\n",
       "      <td>0.0</td>\n",
       "      <td>0.000234</td>\n",
       "      <td>70.000000</td>\n",
       "      <td>232.0</td>\n",
       "      <td>148</td>\n",
       "    </tr>\n",
       "    <tr>\n",
       "      <th>1676523</th>\n",
       "      <td>799.0</td>\n",
       "      <td>4.000000</td>\n",
       "      <td>0.0</td>\n",
       "      <td>327.514557</td>\n",
       "      <td>157.199997</td>\n",
       "      <td>9885.0</td>\n",
       "      <td>8481</td>\n",
       "    </tr>\n",
       "    <tr>\n",
       "      <th>1047062</th>\n",
       "      <td>80.0</td>\n",
       "      <td>0.000000</td>\n",
       "      <td>0.0</td>\n",
       "      <td>0.000298</td>\n",
       "      <td>80.000000</td>\n",
       "      <td>305.0</td>\n",
       "      <td>221</td>\n",
       "    </tr>\n",
       "    <tr>\n",
       "      <th>913646</th>\n",
       "      <td>865.0</td>\n",
       "      <td>0.000000</td>\n",
       "      <td>0.0</td>\n",
       "      <td>7.688509</td>\n",
       "      <td>139.000000</td>\n",
       "      <td>18526.0</td>\n",
       "      <td>16750</td>\n",
       "    </tr>\n",
       "    <tr>\n",
       "      <th>1743583</th>\n",
       "      <td>943.0</td>\n",
       "      <td>0.000000</td>\n",
       "      <td>0.0</td>\n",
       "      <td>0.004124</td>\n",
       "      <td>237.800003</td>\n",
       "      <td>2201.0</td>\n",
       "      <td>1665</td>\n",
       "    </tr>\n",
       "    <tr>\n",
       "      <th>1469753</th>\n",
       "      <td>75.0</td>\n",
       "      <td>0.000000</td>\n",
       "      <td>0.0</td>\n",
       "      <td>0.126914</td>\n",
       "      <td>75.000000</td>\n",
       "      <td>263.0</td>\n",
       "      <td>179</td>\n",
       "    </tr>\n",
       "    <tr>\n",
       "      <th>1266490</th>\n",
       "      <td>556.0</td>\n",
       "      <td>2.564103</td>\n",
       "      <td>0.0</td>\n",
       "      <td>17.541264</td>\n",
       "      <td>214.562500</td>\n",
       "      <td>28198.0</td>\n",
       "      <td>26044</td>\n",
       "    </tr>\n",
       "    <tr>\n",
       "      <th>...</th>\n",
       "      <td>...</td>\n",
       "      <td>...</td>\n",
       "      <td>...</td>\n",
       "      <td>...</td>\n",
       "      <td>...</td>\n",
       "      <td>...</td>\n",
       "      <td>...</td>\n",
       "    </tr>\n",
       "    <tr>\n",
       "      <th>483064</th>\n",
       "      <td>62.0</td>\n",
       "      <td>40.000000</td>\n",
       "      <td>1.0</td>\n",
       "      <td>9.001107</td>\n",
       "      <td>62.000000</td>\n",
       "      <td>186.0</td>\n",
       "      <td>0</td>\n",
       "    </tr>\n",
       "    <tr>\n",
       "      <th>1721235</th>\n",
       "      <td>164.0</td>\n",
       "      <td>0.000000</td>\n",
       "      <td>0.0</td>\n",
       "      <td>0.206431</td>\n",
       "      <td>68.599998</td>\n",
       "      <td>29710.0</td>\n",
       "      <td>27552</td>\n",
       "    </tr>\n",
       "    <tr>\n",
       "      <th>1735235</th>\n",
       "      <td>62.0</td>\n",
       "      <td>25.000000</td>\n",
       "      <td>0.0</td>\n",
       "      <td>1.031776</td>\n",
       "      <td>62.000000</td>\n",
       "      <td>366.0</td>\n",
       "      <td>0</td>\n",
       "    </tr>\n",
       "    <tr>\n",
       "      <th>454936</th>\n",
       "      <td>62.0</td>\n",
       "      <td>40.000000</td>\n",
       "      <td>1.0</td>\n",
       "      <td>8.925285</td>\n",
       "      <td>62.000000</td>\n",
       "      <td>186.0</td>\n",
       "      <td>0</td>\n",
       "    </tr>\n",
       "    <tr>\n",
       "      <th>538276</th>\n",
       "      <td>77.0</td>\n",
       "      <td>0.000000</td>\n",
       "      <td>0.0</td>\n",
       "      <td>0.153894</td>\n",
       "      <td>77.000000</td>\n",
       "      <td>326.0</td>\n",
       "      <td>242</td>\n",
       "    </tr>\n",
       "    <tr>\n",
       "      <th>350956</th>\n",
       "      <td>71.0</td>\n",
       "      <td>0.000000</td>\n",
       "      <td>0.0</td>\n",
       "      <td>0.000539</td>\n",
       "      <td>71.000000</td>\n",
       "      <td>340.0</td>\n",
       "      <td>256</td>\n",
       "    </tr>\n",
       "    <tr>\n",
       "      <th>320269</th>\n",
       "      <td>74.0</td>\n",
       "      <td>0.000000</td>\n",
       "      <td>0.0</td>\n",
       "      <td>0.121689</td>\n",
       "      <td>74.000000</td>\n",
       "      <td>196.0</td>\n",
       "      <td>112</td>\n",
       "    </tr>\n",
       "    <tr>\n",
       "      <th>895478</th>\n",
       "      <td>84.0</td>\n",
       "      <td>0.000000</td>\n",
       "      <td>0.0</td>\n",
       "      <td>0.000338</td>\n",
       "      <td>84.000000</td>\n",
       "      <td>261.0</td>\n",
       "      <td>177</td>\n",
       "    </tr>\n",
       "    <tr>\n",
       "      <th>868794</th>\n",
       "      <td>66.0</td>\n",
       "      <td>0.000000</td>\n",
       "      <td>0.0</td>\n",
       "      <td>0.579128</td>\n",
       "      <td>61.500000</td>\n",
       "      <td>428.0</td>\n",
       "      <td>0</td>\n",
       "    </tr>\n",
       "    <tr>\n",
       "      <th>335328</th>\n",
       "      <td>87.0</td>\n",
       "      <td>0.000000</td>\n",
       "      <td>0.0</td>\n",
       "      <td>0.000477</td>\n",
       "      <td>87.000000</td>\n",
       "      <td>293.0</td>\n",
       "      <td>209</td>\n",
       "    </tr>\n",
       "    <tr>\n",
       "      <th>1532003</th>\n",
       "      <td>62.0</td>\n",
       "      <td>40.000000</td>\n",
       "      <td>1.0</td>\n",
       "      <td>9.030483</td>\n",
       "      <td>62.000000</td>\n",
       "      <td>186.0</td>\n",
       "      <td>0</td>\n",
       "    </tr>\n",
       "    <tr>\n",
       "      <th>1486256</th>\n",
       "      <td>66.0</td>\n",
       "      <td>0.000000</td>\n",
       "      <td>0.0</td>\n",
       "      <td>1.940233</td>\n",
       "      <td>61.500000</td>\n",
       "      <td>428.0</td>\n",
       "      <td>0</td>\n",
       "    </tr>\n",
       "    <tr>\n",
       "      <th>717907</th>\n",
       "      <td>75.0</td>\n",
       "      <td>0.000000</td>\n",
       "      <td>0.0</td>\n",
       "      <td>0.000263</td>\n",
       "      <td>75.000000</td>\n",
       "      <td>200.0</td>\n",
       "      <td>116</td>\n",
       "    </tr>\n",
       "    <tr>\n",
       "      <th>1594489</th>\n",
       "      <td>799.0</td>\n",
       "      <td>0.000000</td>\n",
       "      <td>0.0</td>\n",
       "      <td>0.410102</td>\n",
       "      <td>113.214287</td>\n",
       "      <td>29008.0</td>\n",
       "      <td>26906</td>\n",
       "    </tr>\n",
       "    <tr>\n",
       "      <th>1670420</th>\n",
       "      <td>73.0</td>\n",
       "      <td>0.000000</td>\n",
       "      <td>0.0</td>\n",
       "      <td>0.000403</td>\n",
       "      <td>73.000000</td>\n",
       "      <td>256.0</td>\n",
       "      <td>172</td>\n",
       "    </tr>\n",
       "    <tr>\n",
       "      <th>962725</th>\n",
       "      <td>1514.0</td>\n",
       "      <td>0.000000</td>\n",
       "      <td>0.0</td>\n",
       "      <td>0.738682</td>\n",
       "      <td>173.298843</td>\n",
       "      <td>446946.0</td>\n",
       "      <td>425934</td>\n",
       "    </tr>\n",
       "    <tr>\n",
       "      <th>543410</th>\n",
       "      <td>71.0</td>\n",
       "      <td>0.000000</td>\n",
       "      <td>0.0</td>\n",
       "      <td>0.000387</td>\n",
       "      <td>71.000000</td>\n",
       "      <td>259.0</td>\n",
       "      <td>175</td>\n",
       "    </tr>\n",
       "    <tr>\n",
       "      <th>1396554</th>\n",
       "      <td>86.0</td>\n",
       "      <td>0.000000</td>\n",
       "      <td>0.0</td>\n",
       "      <td>0.000031</td>\n",
       "      <td>86.000000</td>\n",
       "      <td>254.0</td>\n",
       "      <td>170</td>\n",
       "    </tr>\n",
       "    <tr>\n",
       "      <th>370826</th>\n",
       "      <td>164.0</td>\n",
       "      <td>0.000000</td>\n",
       "      <td>0.0</td>\n",
       "      <td>0.448027</td>\n",
       "      <td>69.923080</td>\n",
       "      <td>27452.0</td>\n",
       "      <td>25468</td>\n",
       "    </tr>\n",
       "    <tr>\n",
       "      <th>1054601</th>\n",
       "      <td>62.0</td>\n",
       "      <td>40.000000</td>\n",
       "      <td>1.0</td>\n",
       "      <td>8.957978</td>\n",
       "      <td>62.000000</td>\n",
       "      <td>186.0</td>\n",
       "      <td>0</td>\n",
       "    </tr>\n",
       "    <tr>\n",
       "      <th>1541143</th>\n",
       "      <td>85.0</td>\n",
       "      <td>0.000000</td>\n",
       "      <td>0.0</td>\n",
       "      <td>0.000446</td>\n",
       "      <td>85.000000</td>\n",
       "      <td>314.0</td>\n",
       "      <td>230</td>\n",
       "    </tr>\n",
       "    <tr>\n",
       "      <th>692050</th>\n",
       "      <td>67.0</td>\n",
       "      <td>0.000000</td>\n",
       "      <td>0.0</td>\n",
       "      <td>0.000456</td>\n",
       "      <td>67.000000</td>\n",
       "      <td>223.0</td>\n",
       "      <td>139</td>\n",
       "    </tr>\n",
       "    <tr>\n",
       "      <th>875785</th>\n",
       "      <td>76.0</td>\n",
       "      <td>0.000000</td>\n",
       "      <td>0.0</td>\n",
       "      <td>0.000387</td>\n",
       "      <td>76.000000</td>\n",
       "      <td>275.0</td>\n",
       "      <td>191</td>\n",
       "    </tr>\n",
       "    <tr>\n",
       "      <th>1177909</th>\n",
       "      <td>77.0</td>\n",
       "      <td>0.000000</td>\n",
       "      <td>0.0</td>\n",
       "      <td>0.000273</td>\n",
       "      <td>77.000000</td>\n",
       "      <td>239.0</td>\n",
       "      <td>155</td>\n",
       "    </tr>\n",
       "    <tr>\n",
       "      <th>1240991</th>\n",
       "      <td>477.0</td>\n",
       "      <td>0.000000</td>\n",
       "      <td>0.0</td>\n",
       "      <td>5.686331</td>\n",
       "      <td>130.500000</td>\n",
       "      <td>1513.0</td>\n",
       "      <td>913</td>\n",
       "    </tr>\n",
       "    <tr>\n",
       "      <th>1437072</th>\n",
       "      <td>1307.0</td>\n",
       "      <td>0.000000</td>\n",
       "      <td>0.0</td>\n",
       "      <td>0.120131</td>\n",
       "      <td>199.222229</td>\n",
       "      <td>32432.0</td>\n",
       "      <td>30470</td>\n",
       "    </tr>\n",
       "    <tr>\n",
       "      <th>1470857</th>\n",
       "      <td>80.0</td>\n",
       "      <td>0.000000</td>\n",
       "      <td>0.0</td>\n",
       "      <td>0.000289</td>\n",
       "      <td>80.000000</td>\n",
       "      <td>238.0</td>\n",
       "      <td>154</td>\n",
       "    </tr>\n",
       "    <tr>\n",
       "      <th>549022</th>\n",
       "      <td>62.0</td>\n",
       "      <td>40.000000</td>\n",
       "      <td>1.0</td>\n",
       "      <td>9.033459</td>\n",
       "      <td>62.000000</td>\n",
       "      <td>186.0</td>\n",
       "      <td>0</td>\n",
       "    </tr>\n",
       "    <tr>\n",
       "      <th>1459863</th>\n",
       "      <td>80.0</td>\n",
       "      <td>0.000000</td>\n",
       "      <td>0.0</td>\n",
       "      <td>0.000374</td>\n",
       "      <td>80.000000</td>\n",
       "      <td>262.0</td>\n",
       "      <td>178</td>\n",
       "    </tr>\n",
       "    <tr>\n",
       "      <th>1534410</th>\n",
       "      <td>76.0</td>\n",
       "      <td>0.000000</td>\n",
       "      <td>0.0</td>\n",
       "      <td>0.000207</td>\n",
       "      <td>76.000000</td>\n",
       "      <td>256.0</td>\n",
       "      <td>172</td>\n",
       "    </tr>\n",
       "  </tbody>\n",
       "</table>\n",
       "<p>104621 rows × 7 columns</p>\n",
       "</div>"
      ],
      "text/plain": [
       "         sMaxPktSz      pLoss  State_REQ         Dur  sMeanPktSz  TotBytes  \\\n",
       "1115822      749.0   0.000000        0.0    0.308284  175.833328    1803.0   \n",
       "143000        81.0   0.000000        0.0    0.004517   81.000000     565.0   \n",
       "1329484       84.0   0.000000        0.0    0.000444   84.000000     261.0   \n",
       "1612367      419.0   0.000000        0.0    0.005326  105.125000    8738.0   \n",
       "1502994      767.0   0.000000        0.0    0.453184  283.571442    2941.0   \n",
       "505998      1514.0   0.000000        0.0    0.400014  434.166656    3574.0   \n",
       "1724554       75.0   0.000000        0.0    0.000256   75.000000     227.0   \n",
       "1733549       76.0   0.000000        0.0    0.022369   76.000000     201.0   \n",
       "1597023       73.0   0.000000        0.0    0.000302   73.000000     309.0   \n",
       "305304        76.0   0.000000        0.0    0.000208   76.000000     209.0   \n",
       "1376812     1454.0   0.000000        0.0    0.068074  319.571442    3316.0   \n",
       "1758914       78.0   0.000000        0.0    0.000380   78.000000     396.0   \n",
       "1381148       77.0   0.000000        0.0    0.000352   77.000000     208.0   \n",
       "1609763       84.0   0.000000        0.0    0.010433   84.000000     604.0   \n",
       "1339049       70.0   0.000000        0.0    0.000320   70.000000     192.0   \n",
       "1088934       79.0   0.000000        0.0    0.000366   79.000000     296.0   \n",
       "1690616      552.0   0.000000        0.0    0.006670  158.800003    1846.0   \n",
       "1337900       99.0   0.000000        0.0    0.135308   99.000000     251.0   \n",
       "1266282       75.0   0.000000        0.0    0.001917   75.000000     255.0   \n",
       "1401689      768.0   0.000000        0.0    0.004939  184.428574    2184.0   \n",
       "463378        62.0  40.000000        1.0    8.906201   62.000000     186.0   \n",
       "1414099       79.0   0.000000        0.0    0.000388   79.000000     261.0   \n",
       "939999        62.0  40.000000        1.0    8.995070   62.000000     186.0   \n",
       "1578314       70.0   0.000000        0.0    0.000234   70.000000     232.0   \n",
       "1676523      799.0   4.000000        0.0  327.514557  157.199997    9885.0   \n",
       "1047062       80.0   0.000000        0.0    0.000298   80.000000     305.0   \n",
       "913646       865.0   0.000000        0.0    7.688509  139.000000   18526.0   \n",
       "1743583      943.0   0.000000        0.0    0.004124  237.800003    2201.0   \n",
       "1469753       75.0   0.000000        0.0    0.126914   75.000000     263.0   \n",
       "1266490      556.0   2.564103        0.0   17.541264  214.562500   28198.0   \n",
       "...            ...        ...        ...         ...         ...       ...   \n",
       "483064        62.0  40.000000        1.0    9.001107   62.000000     186.0   \n",
       "1721235      164.0   0.000000        0.0    0.206431   68.599998   29710.0   \n",
       "1735235       62.0  25.000000        0.0    1.031776   62.000000     366.0   \n",
       "454936        62.0  40.000000        1.0    8.925285   62.000000     186.0   \n",
       "538276        77.0   0.000000        0.0    0.153894   77.000000     326.0   \n",
       "350956        71.0   0.000000        0.0    0.000539   71.000000     340.0   \n",
       "320269        74.0   0.000000        0.0    0.121689   74.000000     196.0   \n",
       "895478        84.0   0.000000        0.0    0.000338   84.000000     261.0   \n",
       "868794        66.0   0.000000        0.0    0.579128   61.500000     428.0   \n",
       "335328        87.0   0.000000        0.0    0.000477   87.000000     293.0   \n",
       "1532003       62.0  40.000000        1.0    9.030483   62.000000     186.0   \n",
       "1486256       66.0   0.000000        0.0    1.940233   61.500000     428.0   \n",
       "717907        75.0   0.000000        0.0    0.000263   75.000000     200.0   \n",
       "1594489      799.0   0.000000        0.0    0.410102  113.214287   29008.0   \n",
       "1670420       73.0   0.000000        0.0    0.000403   73.000000     256.0   \n",
       "962725      1514.0   0.000000        0.0    0.738682  173.298843  446946.0   \n",
       "543410        71.0   0.000000        0.0    0.000387   71.000000     259.0   \n",
       "1396554       86.0   0.000000        0.0    0.000031   86.000000     254.0   \n",
       "370826       164.0   0.000000        0.0    0.448027   69.923080   27452.0   \n",
       "1054601       62.0  40.000000        1.0    8.957978   62.000000     186.0   \n",
       "1541143       85.0   0.000000        0.0    0.000446   85.000000     314.0   \n",
       "692050        67.0   0.000000        0.0    0.000456   67.000000     223.0   \n",
       "875785        76.0   0.000000        0.0    0.000387   76.000000     275.0   \n",
       "1177909       77.0   0.000000        0.0    0.000273   77.000000     239.0   \n",
       "1240991      477.0   0.000000        0.0    5.686331  130.500000    1513.0   \n",
       "1437072     1307.0   0.000000        0.0    0.120131  199.222229   32432.0   \n",
       "1470857       80.0   0.000000        0.0    0.000289   80.000000     238.0   \n",
       "549022        62.0  40.000000        1.0    9.033459   62.000000     186.0   \n",
       "1459863       80.0   0.000000        0.0    0.000374   80.000000     262.0   \n",
       "1534410       76.0   0.000000        0.0    0.000207   76.000000     256.0   \n",
       "\n",
       "         TotAppByte  \n",
       "1115822        1207  \n",
       "143000          481  \n",
       "1329484         177  \n",
       "1612367        7703  \n",
       "1502994        2369  \n",
       "505998         2920  \n",
       "1724554         143  \n",
       "1733549         117  \n",
       "1597023         225  \n",
       "305304          125  \n",
       "1376812        2482  \n",
       "1758914         312  \n",
       "1381148         124  \n",
       "1609763         520  \n",
       "1339049         108  \n",
       "1088934         212  \n",
       "1690616        1314  \n",
       "1337900         167  \n",
       "1266282         171  \n",
       "1401689        1370  \n",
       "463378            0  \n",
       "1414099         177  \n",
       "939999            0  \n",
       "1578314         148  \n",
       "1676523        8481  \n",
       "1047062         221  \n",
       "913646        16750  \n",
       "1743583        1665  \n",
       "1469753         179  \n",
       "1266490       26044  \n",
       "...             ...  \n",
       "483064            0  \n",
       "1721235       27552  \n",
       "1735235           0  \n",
       "454936            0  \n",
       "538276          242  \n",
       "350956          256  \n",
       "320269          112  \n",
       "895478          177  \n",
       "868794            0  \n",
       "335328          209  \n",
       "1532003           0  \n",
       "1486256           0  \n",
       "717907          116  \n",
       "1594489       26906  \n",
       "1670420         172  \n",
       "962725       425934  \n",
       "543410          175  \n",
       "1396554         170  \n",
       "370826        25468  \n",
       "1054601           0  \n",
       "1541143         230  \n",
       "692050          139  \n",
       "875785          191  \n",
       "1177909         155  \n",
       "1240991         913  \n",
       "1437072       30470  \n",
       "1470857         154  \n",
       "549022            0  \n",
       "1459863         178  \n",
       "1534410         172  \n",
       "\n",
       "[104621 rows x 7 columns]"
      ]
     },
     "execution_count": 349,
     "metadata": {},
     "output_type": "execute_result"
    }
   ],
   "source": [
    "X_train"
   ]
  },
  {
   "cell_type": "code",
   "execution_count": 350,
   "metadata": {
    "collapsed": true
   },
   "outputs": [
    {
     "data": {
      "text/html": [
       "<div>\n",
       "<table border=\"1\" class=\"dataframe\">\n",
       "  <thead>\n",
       "    <tr style=\"text-align: right;\">\n",
       "      <th></th>\n",
       "      <th>sMaxPktSz</th>\n",
       "      <th>pLoss</th>\n",
       "      <th>State_REQ</th>\n",
       "      <th>Dur</th>\n",
       "      <th>sMeanPktSz</th>\n",
       "      <th>TotBytes</th>\n",
       "      <th>TotAppByte</th>\n",
       "    </tr>\n",
       "  </thead>\n",
       "  <tbody>\n",
       "    <tr>\n",
       "      <th>502209</th>\n",
       "      <td>72.0</td>\n",
       "      <td>0.000000</td>\n",
       "      <td>0.0</td>\n",
       "      <td>0.102912</td>\n",
       "      <td>72.000000</td>\n",
       "      <td>345.0</td>\n",
       "      <td>261</td>\n",
       "    </tr>\n",
       "    <tr>\n",
       "      <th>319571</th>\n",
       "      <td>70.0</td>\n",
       "      <td>0.000000</td>\n",
       "      <td>0.0</td>\n",
       "      <td>0.002252</td>\n",
       "      <td>70.000000</td>\n",
       "      <td>215.0</td>\n",
       "      <td>131</td>\n",
       "    </tr>\n",
       "    <tr>\n",
       "      <th>21136</th>\n",
       "      <td>846.0</td>\n",
       "      <td>0.000000</td>\n",
       "      <td>0.0</td>\n",
       "      <td>6.314375</td>\n",
       "      <td>145.733337</td>\n",
       "      <td>19537.0</td>\n",
       "      <td>17593</td>\n",
       "    </tr>\n",
       "    <tr>\n",
       "      <th>1433253</th>\n",
       "      <td>74.0</td>\n",
       "      <td>0.000000</td>\n",
       "      <td>0.0</td>\n",
       "      <td>0.131715</td>\n",
       "      <td>74.000000</td>\n",
       "      <td>490.0</td>\n",
       "      <td>406</td>\n",
       "    </tr>\n",
       "    <tr>\n",
       "      <th>660605</th>\n",
       "      <td>679.0</td>\n",
       "      <td>0.000000</td>\n",
       "      <td>0.0</td>\n",
       "      <td>5.822789</td>\n",
       "      <td>214.625000</td>\n",
       "      <td>7711.0</td>\n",
       "      <td>6775</td>\n",
       "    </tr>\n",
       "    <tr>\n",
       "      <th>1767710</th>\n",
       "      <td>654.0</td>\n",
       "      <td>0.000000</td>\n",
       "      <td>0.0</td>\n",
       "      <td>1.899540</td>\n",
       "      <td>133.791672</td>\n",
       "      <td>65538.0</td>\n",
       "      <td>61716</td>\n",
       "    </tr>\n",
       "    <tr>\n",
       "      <th>52913</th>\n",
       "      <td>72.0</td>\n",
       "      <td>0.000000</td>\n",
       "      <td>0.0</td>\n",
       "      <td>0.020633</td>\n",
       "      <td>72.000000</td>\n",
       "      <td>390.0</td>\n",
       "      <td>306</td>\n",
       "    </tr>\n",
       "    <tr>\n",
       "      <th>1473505</th>\n",
       "      <td>1173.0</td>\n",
       "      <td>4.166667</td>\n",
       "      <td>0.0</td>\n",
       "      <td>3.052510</td>\n",
       "      <td>172.500000</td>\n",
       "      <td>15283.0</td>\n",
       "      <td>13951</td>\n",
       "    </tr>\n",
       "    <tr>\n",
       "      <th>1549966</th>\n",
       "      <td>72.0</td>\n",
       "      <td>0.000000</td>\n",
       "      <td>0.0</td>\n",
       "      <td>0.000496</td>\n",
       "      <td>72.000000</td>\n",
       "      <td>236.0</td>\n",
       "      <td>152</td>\n",
       "    </tr>\n",
       "    <tr>\n",
       "      <th>465747</th>\n",
       "      <td>62.0</td>\n",
       "      <td>45.454545</td>\n",
       "      <td>1.0</td>\n",
       "      <td>136.017487</td>\n",
       "      <td>62.000000</td>\n",
       "      <td>372.0</td>\n",
       "      <td>0</td>\n",
       "    </tr>\n",
       "    <tr>\n",
       "      <th>1575917</th>\n",
       "      <td>1484.0</td>\n",
       "      <td>0.000000</td>\n",
       "      <td>0.0</td>\n",
       "      <td>120.798592</td>\n",
       "      <td>278.555542</td>\n",
       "      <td>3370.0</td>\n",
       "      <td>2502</td>\n",
       "    </tr>\n",
       "    <tr>\n",
       "      <th>1265631</th>\n",
       "      <td>62.0</td>\n",
       "      <td>40.000000</td>\n",
       "      <td>1.0</td>\n",
       "      <td>8.958136</td>\n",
       "      <td>62.000000</td>\n",
       "      <td>186.0</td>\n",
       "      <td>0</td>\n",
       "    </tr>\n",
       "    <tr>\n",
       "      <th>1029079</th>\n",
       "      <td>81.0</td>\n",
       "      <td>0.000000</td>\n",
       "      <td>0.0</td>\n",
       "      <td>0.003747</td>\n",
       "      <td>81.000000</td>\n",
       "      <td>475.0</td>\n",
       "      <td>391</td>\n",
       "    </tr>\n",
       "    <tr>\n",
       "      <th>1412854</th>\n",
       "      <td>72.0</td>\n",
       "      <td>0.000000</td>\n",
       "      <td>0.0</td>\n",
       "      <td>0.000559</td>\n",
       "      <td>72.000000</td>\n",
       "      <td>261.0</td>\n",
       "      <td>177</td>\n",
       "    </tr>\n",
       "    <tr>\n",
       "      <th>1089906</th>\n",
       "      <td>1484.0</td>\n",
       "      <td>0.000000</td>\n",
       "      <td>0.0</td>\n",
       "      <td>600.017883</td>\n",
       "      <td>458.250000</td>\n",
       "      <td>4749.0</td>\n",
       "      <td>3927</td>\n",
       "    </tr>\n",
       "    <tr>\n",
       "      <th>710875</th>\n",
       "      <td>120.0</td>\n",
       "      <td>0.000000</td>\n",
       "      <td>0.0</td>\n",
       "      <td>0.002958</td>\n",
       "      <td>120.000000</td>\n",
       "      <td>297.0</td>\n",
       "      <td>213</td>\n",
       "    </tr>\n",
       "    <tr>\n",
       "      <th>1659467</th>\n",
       "      <td>79.0</td>\n",
       "      <td>0.000000</td>\n",
       "      <td>0.0</td>\n",
       "      <td>0.000304</td>\n",
       "      <td>79.000000</td>\n",
       "      <td>293.0</td>\n",
       "      <td>209</td>\n",
       "    </tr>\n",
       "    <tr>\n",
       "      <th>696041</th>\n",
       "      <td>76.0</td>\n",
       "      <td>0.000000</td>\n",
       "      <td>0.0</td>\n",
       "      <td>0.000393</td>\n",
       "      <td>76.000000</td>\n",
       "      <td>197.0</td>\n",
       "      <td>113</td>\n",
       "    </tr>\n",
       "    <tr>\n",
       "      <th>1653431</th>\n",
       "      <td>75.0</td>\n",
       "      <td>0.000000</td>\n",
       "      <td>0.0</td>\n",
       "      <td>0.010239</td>\n",
       "      <td>75.000000</td>\n",
       "      <td>309.0</td>\n",
       "      <td>225</td>\n",
       "    </tr>\n",
       "    <tr>\n",
       "      <th>1412193</th>\n",
       "      <td>91.0</td>\n",
       "      <td>0.000000</td>\n",
       "      <td>0.0</td>\n",
       "      <td>0.000413</td>\n",
       "      <td>91.000000</td>\n",
       "      <td>182.0</td>\n",
       "      <td>98</td>\n",
       "    </tr>\n",
       "    <tr>\n",
       "      <th>941790</th>\n",
       "      <td>66.0</td>\n",
       "      <td>0.000000</td>\n",
       "      <td>0.0</td>\n",
       "      <td>14.331602</td>\n",
       "      <td>61.500000</td>\n",
       "      <td>372.0</td>\n",
       "      <td>0</td>\n",
       "    </tr>\n",
       "    <tr>\n",
       "      <th>1062243</th>\n",
       "      <td>77.0</td>\n",
       "      <td>0.000000</td>\n",
       "      <td>0.0</td>\n",
       "      <td>0.000369</td>\n",
       "      <td>77.000000</td>\n",
       "      <td>383.0</td>\n",
       "      <td>299</td>\n",
       "    </tr>\n",
       "    <tr>\n",
       "      <th>248927</th>\n",
       "      <td>1481.0</td>\n",
       "      <td>0.000000</td>\n",
       "      <td>0.0</td>\n",
       "      <td>115.008720</td>\n",
       "      <td>239.399994</td>\n",
       "      <td>5282.0</td>\n",
       "      <td>4298</td>\n",
       "    </tr>\n",
       "    <tr>\n",
       "      <th>454644</th>\n",
       "      <td>62.0</td>\n",
       "      <td>25.000000</td>\n",
       "      <td>0.0</td>\n",
       "      <td>3396.345947</td>\n",
       "      <td>61.142857</td>\n",
       "      <td>550.0</td>\n",
       "      <td>0</td>\n",
       "    </tr>\n",
       "    <tr>\n",
       "      <th>1720055</th>\n",
       "      <td>69.0</td>\n",
       "      <td>0.000000</td>\n",
       "      <td>0.0</td>\n",
       "      <td>0.003100</td>\n",
       "      <td>69.000000</td>\n",
       "      <td>248.0</td>\n",
       "      <td>164</td>\n",
       "    </tr>\n",
       "    <tr>\n",
       "      <th>1250914</th>\n",
       "      <td>62.0</td>\n",
       "      <td>40.000000</td>\n",
       "      <td>1.0</td>\n",
       "      <td>9.033084</td>\n",
       "      <td>62.000000</td>\n",
       "      <td>186.0</td>\n",
       "      <td>0</td>\n",
       "    </tr>\n",
       "    <tr>\n",
       "      <th>1642708</th>\n",
       "      <td>75.0</td>\n",
       "      <td>0.000000</td>\n",
       "      <td>0.0</td>\n",
       "      <td>0.000444</td>\n",
       "      <td>75.000000</td>\n",
       "      <td>377.0</td>\n",
       "      <td>293</td>\n",
       "    </tr>\n",
       "    <tr>\n",
       "      <th>804627</th>\n",
       "      <td>74.0</td>\n",
       "      <td>0.000000</td>\n",
       "      <td>0.0</td>\n",
       "      <td>0.000071</td>\n",
       "      <td>74.000000</td>\n",
       "      <td>233.0</td>\n",
       "      <td>149</td>\n",
       "    </tr>\n",
       "    <tr>\n",
       "      <th>390320</th>\n",
       "      <td>72.0</td>\n",
       "      <td>0.000000</td>\n",
       "      <td>0.0</td>\n",
       "      <td>0.004436</td>\n",
       "      <td>72.000000</td>\n",
       "      <td>234.0</td>\n",
       "      <td>150</td>\n",
       "    </tr>\n",
       "    <tr>\n",
       "      <th>575168</th>\n",
       "      <td>72.0</td>\n",
       "      <td>0.000000</td>\n",
       "      <td>0.0</td>\n",
       "      <td>0.064192</td>\n",
       "      <td>72.000000</td>\n",
       "      <td>382.0</td>\n",
       "      <td>298</td>\n",
       "    </tr>\n",
       "    <tr>\n",
       "      <th>...</th>\n",
       "      <td>...</td>\n",
       "      <td>...</td>\n",
       "      <td>...</td>\n",
       "      <td>...</td>\n",
       "      <td>...</td>\n",
       "      <td>...</td>\n",
       "      <td>...</td>\n",
       "    </tr>\n",
       "    <tr>\n",
       "      <th>493121</th>\n",
       "      <td>66.0</td>\n",
       "      <td>33.333333</td>\n",
       "      <td>0.0</td>\n",
       "      <td>23.072021</td>\n",
       "      <td>66.000000</td>\n",
       "      <td>390.0</td>\n",
       "      <td>0</td>\n",
       "    </tr>\n",
       "    <tr>\n",
       "      <th>1708084</th>\n",
       "      <td>72.0</td>\n",
       "      <td>0.000000</td>\n",
       "      <td>0.0</td>\n",
       "      <td>0.000204</td>\n",
       "      <td>72.000000</td>\n",
       "      <td>201.0</td>\n",
       "      <td>117</td>\n",
       "    </tr>\n",
       "    <tr>\n",
       "      <th>199030</th>\n",
       "      <td>675.0</td>\n",
       "      <td>0.000000</td>\n",
       "      <td>0.0</td>\n",
       "      <td>25.155586</td>\n",
       "      <td>321.000000</td>\n",
       "      <td>16779.0</td>\n",
       "      <td>14807</td>\n",
       "    </tr>\n",
       "    <tr>\n",
       "      <th>1519042</th>\n",
       "      <td>164.0</td>\n",
       "      <td>0.000000</td>\n",
       "      <td>0.0</td>\n",
       "      <td>0.206820</td>\n",
       "      <td>68.599998</td>\n",
       "      <td>31107.0</td>\n",
       "      <td>28895</td>\n",
       "    </tr>\n",
       "    <tr>\n",
       "      <th>1098683</th>\n",
       "      <td>164.0</td>\n",
       "      <td>0.000000</td>\n",
       "      <td>0.0</td>\n",
       "      <td>0.205464</td>\n",
       "      <td>68.599998</td>\n",
       "      <td>28743.0</td>\n",
       "      <td>26585</td>\n",
       "    </tr>\n",
       "    <tr>\n",
       "      <th>1355386</th>\n",
       "      <td>164.0</td>\n",
       "      <td>0.000000</td>\n",
       "      <td>0.0</td>\n",
       "      <td>0.206227</td>\n",
       "      <td>69.214287</td>\n",
       "      <td>28353.0</td>\n",
       "      <td>26309</td>\n",
       "    </tr>\n",
       "    <tr>\n",
       "      <th>1509320</th>\n",
       "      <td>164.0</td>\n",
       "      <td>0.000000</td>\n",
       "      <td>0.0</td>\n",
       "      <td>0.206658</td>\n",
       "      <td>68.599998</td>\n",
       "      <td>31190.0</td>\n",
       "      <td>28978</td>\n",
       "    </tr>\n",
       "    <tr>\n",
       "      <th>1407433</th>\n",
       "      <td>62.0</td>\n",
       "      <td>40.000000</td>\n",
       "      <td>1.0</td>\n",
       "      <td>9.023773</td>\n",
       "      <td>62.000000</td>\n",
       "      <td>186.0</td>\n",
       "      <td>0</td>\n",
       "    </tr>\n",
       "    <tr>\n",
       "      <th>697795</th>\n",
       "      <td>886.0</td>\n",
       "      <td>0.000000</td>\n",
       "      <td>0.0</td>\n",
       "      <td>1.043202</td>\n",
       "      <td>99.619049</td>\n",
       "      <td>50007.0</td>\n",
       "      <td>46833</td>\n",
       "    </tr>\n",
       "    <tr>\n",
       "      <th>1554721</th>\n",
       "      <td>431.0</td>\n",
       "      <td>0.000000</td>\n",
       "      <td>0.0</td>\n",
       "      <td>0.111970</td>\n",
       "      <td>122.166664</td>\n",
       "      <td>4750.0</td>\n",
       "      <td>3990</td>\n",
       "    </tr>\n",
       "    <tr>\n",
       "      <th>1513228</th>\n",
       "      <td>95.0</td>\n",
       "      <td>0.000000</td>\n",
       "      <td>0.0</td>\n",
       "      <td>0.000330</td>\n",
       "      <td>95.000000</td>\n",
       "      <td>243.0</td>\n",
       "      <td>159</td>\n",
       "    </tr>\n",
       "    <tr>\n",
       "      <th>478934</th>\n",
       "      <td>73.0</td>\n",
       "      <td>0.000000</td>\n",
       "      <td>0.0</td>\n",
       "      <td>0.000414</td>\n",
       "      <td>73.000000</td>\n",
       "      <td>362.0</td>\n",
       "      <td>278</td>\n",
       "    </tr>\n",
       "    <tr>\n",
       "      <th>440094</th>\n",
       "      <td>62.0</td>\n",
       "      <td>45.454545</td>\n",
       "      <td>1.0</td>\n",
       "      <td>282.184509</td>\n",
       "      <td>62.000000</td>\n",
       "      <td>372.0</td>\n",
       "      <td>0</td>\n",
       "    </tr>\n",
       "    <tr>\n",
       "      <th>888951</th>\n",
       "      <td>165.0</td>\n",
       "      <td>0.000000</td>\n",
       "      <td>0.0</td>\n",
       "      <td>0.232430</td>\n",
       "      <td>67.705879</td>\n",
       "      <td>37552.0</td>\n",
       "      <td>35004</td>\n",
       "    </tr>\n",
       "    <tr>\n",
       "      <th>323825</th>\n",
       "      <td>79.0</td>\n",
       "      <td>0.000000</td>\n",
       "      <td>0.0</td>\n",
       "      <td>0.000311</td>\n",
       "      <td>79.000000</td>\n",
       "      <td>239.0</td>\n",
       "      <td>155</td>\n",
       "    </tr>\n",
       "    <tr>\n",
       "      <th>1646477</th>\n",
       "      <td>576.0</td>\n",
       "      <td>0.000000</td>\n",
       "      <td>0.0</td>\n",
       "      <td>0.062457</td>\n",
       "      <td>168.105270</td>\n",
       "      <td>36079.0</td>\n",
       "      <td>33375</td>\n",
       "    </tr>\n",
       "    <tr>\n",
       "      <th>926684</th>\n",
       "      <td>563.0</td>\n",
       "      <td>0.000000</td>\n",
       "      <td>0.0</td>\n",
       "      <td>64.377937</td>\n",
       "      <td>161.800003</td>\n",
       "      <td>1167.0</td>\n",
       "      <td>687</td>\n",
       "    </tr>\n",
       "    <tr>\n",
       "      <th>677963</th>\n",
       "      <td>77.0</td>\n",
       "      <td>0.000000</td>\n",
       "      <td>0.0</td>\n",
       "      <td>0.018747</td>\n",
       "      <td>77.000000</td>\n",
       "      <td>240.0</td>\n",
       "      <td>156</td>\n",
       "    </tr>\n",
       "    <tr>\n",
       "      <th>1531031</th>\n",
       "      <td>1109.0</td>\n",
       "      <td>0.000000</td>\n",
       "      <td>0.0</td>\n",
       "      <td>0.250943</td>\n",
       "      <td>141.153839</td>\n",
       "      <td>22727.0</td>\n",
       "      <td>21125</td>\n",
       "    </tr>\n",
       "    <tr>\n",
       "      <th>1638832</th>\n",
       "      <td>62.0</td>\n",
       "      <td>0.000000</td>\n",
       "      <td>0.0</td>\n",
       "      <td>22.321787</td>\n",
       "      <td>60.400002</td>\n",
       "      <td>544.0</td>\n",
       "      <td>5</td>\n",
       "    </tr>\n",
       "    <tr>\n",
       "      <th>1587995</th>\n",
       "      <td>80.0</td>\n",
       "      <td>0.000000</td>\n",
       "      <td>0.0</td>\n",
       "      <td>0.021382</td>\n",
       "      <td>80.000000</td>\n",
       "      <td>479.0</td>\n",
       "      <td>395</td>\n",
       "    </tr>\n",
       "    <tr>\n",
       "      <th>1204540</th>\n",
       "      <td>62.0</td>\n",
       "      <td>40.000000</td>\n",
       "      <td>1.0</td>\n",
       "      <td>9.006873</td>\n",
       "      <td>62.000000</td>\n",
       "      <td>186.0</td>\n",
       "      <td>0</td>\n",
       "    </tr>\n",
       "    <tr>\n",
       "      <th>471572</th>\n",
       "      <td>62.0</td>\n",
       "      <td>40.000000</td>\n",
       "      <td>1.0</td>\n",
       "      <td>8.916133</td>\n",
       "      <td>62.000000</td>\n",
       "      <td>186.0</td>\n",
       "      <td>0</td>\n",
       "    </tr>\n",
       "    <tr>\n",
       "      <th>1491495</th>\n",
       "      <td>590.0</td>\n",
       "      <td>0.000000</td>\n",
       "      <td>0.0</td>\n",
       "      <td>1.959117</td>\n",
       "      <td>167.199997</td>\n",
       "      <td>1459.0</td>\n",
       "      <td>865</td>\n",
       "    </tr>\n",
       "    <tr>\n",
       "      <th>504504</th>\n",
       "      <td>782.0</td>\n",
       "      <td>0.000000</td>\n",
       "      <td>0.0</td>\n",
       "      <td>5.008647</td>\n",
       "      <td>180.666672</td>\n",
       "      <td>1596.0</td>\n",
       "      <td>944</td>\n",
       "    </tr>\n",
       "    <tr>\n",
       "      <th>1318934</th>\n",
       "      <td>79.0</td>\n",
       "      <td>0.000000</td>\n",
       "      <td>0.0</td>\n",
       "      <td>0.000335</td>\n",
       "      <td>79.000000</td>\n",
       "      <td>267.0</td>\n",
       "      <td>183</td>\n",
       "    </tr>\n",
       "    <tr>\n",
       "      <th>138428</th>\n",
       "      <td>77.0</td>\n",
       "      <td>0.000000</td>\n",
       "      <td>0.0</td>\n",
       "      <td>0.000299</td>\n",
       "      <td>77.000000</td>\n",
       "      <td>312.0</td>\n",
       "      <td>228</td>\n",
       "    </tr>\n",
       "    <tr>\n",
       "      <th>417123</th>\n",
       "      <td>75.0</td>\n",
       "      <td>0.000000</td>\n",
       "      <td>0.0</td>\n",
       "      <td>0.039146</td>\n",
       "      <td>75.000000</td>\n",
       "      <td>396.0</td>\n",
       "      <td>312</td>\n",
       "    </tr>\n",
       "    <tr>\n",
       "      <th>1549776</th>\n",
       "      <td>1373.0</td>\n",
       "      <td>0.000000</td>\n",
       "      <td>0.0</td>\n",
       "      <td>0.025519</td>\n",
       "      <td>161.461533</td>\n",
       "      <td>40939.0</td>\n",
       "      <td>38639</td>\n",
       "    </tr>\n",
       "    <tr>\n",
       "      <th>1594500</th>\n",
       "      <td>66.0</td>\n",
       "      <td>0.000000</td>\n",
       "      <td>0.0</td>\n",
       "      <td>10.872661</td>\n",
       "      <td>61.500000</td>\n",
       "      <td>428.0</td>\n",
       "      <td>0</td>\n",
       "    </tr>\n",
       "  </tbody>\n",
       "</table>\n",
       "<p>44838 rows × 7 columns</p>\n",
       "</div>"
      ],
      "text/plain": [
       "         sMaxPktSz      pLoss  State_REQ          Dur  sMeanPktSz  TotBytes  \\\n",
       "502209        72.0   0.000000        0.0     0.102912   72.000000     345.0   \n",
       "319571        70.0   0.000000        0.0     0.002252   70.000000     215.0   \n",
       "21136        846.0   0.000000        0.0     6.314375  145.733337   19537.0   \n",
       "1433253       74.0   0.000000        0.0     0.131715   74.000000     490.0   \n",
       "660605       679.0   0.000000        0.0     5.822789  214.625000    7711.0   \n",
       "1767710      654.0   0.000000        0.0     1.899540  133.791672   65538.0   \n",
       "52913         72.0   0.000000        0.0     0.020633   72.000000     390.0   \n",
       "1473505     1173.0   4.166667        0.0     3.052510  172.500000   15283.0   \n",
       "1549966       72.0   0.000000        0.0     0.000496   72.000000     236.0   \n",
       "465747        62.0  45.454545        1.0   136.017487   62.000000     372.0   \n",
       "1575917     1484.0   0.000000        0.0   120.798592  278.555542    3370.0   \n",
       "1265631       62.0  40.000000        1.0     8.958136   62.000000     186.0   \n",
       "1029079       81.0   0.000000        0.0     0.003747   81.000000     475.0   \n",
       "1412854       72.0   0.000000        0.0     0.000559   72.000000     261.0   \n",
       "1089906     1484.0   0.000000        0.0   600.017883  458.250000    4749.0   \n",
       "710875       120.0   0.000000        0.0     0.002958  120.000000     297.0   \n",
       "1659467       79.0   0.000000        0.0     0.000304   79.000000     293.0   \n",
       "696041        76.0   0.000000        0.0     0.000393   76.000000     197.0   \n",
       "1653431       75.0   0.000000        0.0     0.010239   75.000000     309.0   \n",
       "1412193       91.0   0.000000        0.0     0.000413   91.000000     182.0   \n",
       "941790        66.0   0.000000        0.0    14.331602   61.500000     372.0   \n",
       "1062243       77.0   0.000000        0.0     0.000369   77.000000     383.0   \n",
       "248927      1481.0   0.000000        0.0   115.008720  239.399994    5282.0   \n",
       "454644        62.0  25.000000        0.0  3396.345947   61.142857     550.0   \n",
       "1720055       69.0   0.000000        0.0     0.003100   69.000000     248.0   \n",
       "1250914       62.0  40.000000        1.0     9.033084   62.000000     186.0   \n",
       "1642708       75.0   0.000000        0.0     0.000444   75.000000     377.0   \n",
       "804627        74.0   0.000000        0.0     0.000071   74.000000     233.0   \n",
       "390320        72.0   0.000000        0.0     0.004436   72.000000     234.0   \n",
       "575168        72.0   0.000000        0.0     0.064192   72.000000     382.0   \n",
       "...            ...        ...        ...          ...         ...       ...   \n",
       "493121        66.0  33.333333        0.0    23.072021   66.000000     390.0   \n",
       "1708084       72.0   0.000000        0.0     0.000204   72.000000     201.0   \n",
       "199030       675.0   0.000000        0.0    25.155586  321.000000   16779.0   \n",
       "1519042      164.0   0.000000        0.0     0.206820   68.599998   31107.0   \n",
       "1098683      164.0   0.000000        0.0     0.205464   68.599998   28743.0   \n",
       "1355386      164.0   0.000000        0.0     0.206227   69.214287   28353.0   \n",
       "1509320      164.0   0.000000        0.0     0.206658   68.599998   31190.0   \n",
       "1407433       62.0  40.000000        1.0     9.023773   62.000000     186.0   \n",
       "697795       886.0   0.000000        0.0     1.043202   99.619049   50007.0   \n",
       "1554721      431.0   0.000000        0.0     0.111970  122.166664    4750.0   \n",
       "1513228       95.0   0.000000        0.0     0.000330   95.000000     243.0   \n",
       "478934        73.0   0.000000        0.0     0.000414   73.000000     362.0   \n",
       "440094        62.0  45.454545        1.0   282.184509   62.000000     372.0   \n",
       "888951       165.0   0.000000        0.0     0.232430   67.705879   37552.0   \n",
       "323825        79.0   0.000000        0.0     0.000311   79.000000     239.0   \n",
       "1646477      576.0   0.000000        0.0     0.062457  168.105270   36079.0   \n",
       "926684       563.0   0.000000        0.0    64.377937  161.800003    1167.0   \n",
       "677963        77.0   0.000000        0.0     0.018747   77.000000     240.0   \n",
       "1531031     1109.0   0.000000        0.0     0.250943  141.153839   22727.0   \n",
       "1638832       62.0   0.000000        0.0    22.321787   60.400002     544.0   \n",
       "1587995       80.0   0.000000        0.0     0.021382   80.000000     479.0   \n",
       "1204540       62.0  40.000000        1.0     9.006873   62.000000     186.0   \n",
       "471572        62.0  40.000000        1.0     8.916133   62.000000     186.0   \n",
       "1491495      590.0   0.000000        0.0     1.959117  167.199997    1459.0   \n",
       "504504       782.0   0.000000        0.0     5.008647  180.666672    1596.0   \n",
       "1318934       79.0   0.000000        0.0     0.000335   79.000000     267.0   \n",
       "138428        77.0   0.000000        0.0     0.000299   77.000000     312.0   \n",
       "417123        75.0   0.000000        0.0     0.039146   75.000000     396.0   \n",
       "1549776     1373.0   0.000000        0.0     0.025519  161.461533   40939.0   \n",
       "1594500       66.0   0.000000        0.0    10.872661   61.500000     428.0   \n",
       "\n",
       "         TotAppByte  \n",
       "502209          261  \n",
       "319571          131  \n",
       "21136         17593  \n",
       "1433253         406  \n",
       "660605         6775  \n",
       "1767710       61716  \n",
       "52913           306  \n",
       "1473505       13951  \n",
       "1549966         152  \n",
       "465747            0  \n",
       "1575917        2502  \n",
       "1265631           0  \n",
       "1029079         391  \n",
       "1412854         177  \n",
       "1089906        3927  \n",
       "710875          213  \n",
       "1659467         209  \n",
       "696041          113  \n",
       "1653431         225  \n",
       "1412193          98  \n",
       "941790            0  \n",
       "1062243         299  \n",
       "248927         4298  \n",
       "454644            0  \n",
       "1720055         164  \n",
       "1250914           0  \n",
       "1642708         293  \n",
       "804627          149  \n",
       "390320          150  \n",
       "575168          298  \n",
       "...             ...  \n",
       "493121            0  \n",
       "1708084         117  \n",
       "199030        14807  \n",
       "1519042       28895  \n",
       "1098683       26585  \n",
       "1355386       26309  \n",
       "1509320       28978  \n",
       "1407433           0  \n",
       "697795        46833  \n",
       "1554721        3990  \n",
       "1513228         159  \n",
       "478934          278  \n",
       "440094            0  \n",
       "888951        35004  \n",
       "323825          155  \n",
       "1646477       33375  \n",
       "926684          687  \n",
       "677963          156  \n",
       "1531031       21125  \n",
       "1638832           5  \n",
       "1587995         395  \n",
       "1204540           0  \n",
       "471572            0  \n",
       "1491495         865  \n",
       "504504          944  \n",
       "1318934         183  \n",
       "138428          228  \n",
       "417123          312  \n",
       "1549776       38639  \n",
       "1594500           0  \n",
       "\n",
       "[44838 rows x 7 columns]"
      ]
     },
     "execution_count": 350,
     "metadata": {},
     "output_type": "execute_result"
    }
   ],
   "source": [
    "X_test"
   ]
  },
  {
   "cell_type": "code",
   "execution_count": null,
   "metadata": {
    "collapsed": true
   },
   "outputs": [],
   "source": []
  }
 ],
 "metadata": {
  "kernelspec": {
   "display_name": "Python [conda env:py35]",
   "language": "python",
   "name": "conda-env-py35-py"
  },
  "language_info": {
   "codemirror_mode": {
    "name": "ipython",
    "version": 3
   },
   "file_extension": ".py",
   "mimetype": "text/x-python",
   "name": "python",
   "nbconvert_exporter": "python",
   "pygments_lexer": "ipython3",
   "version": "3.5.2"
  }
 },
 "nbformat": 4,
 "nbformat_minor": 2
}
