{
 "cells": [
  {
   "cell_type": "markdown",
   "metadata": {},
   "source": [
    "# Twitter API"
   ]
  },
  {
   "cell_type": "markdown",
   "metadata": {},
   "source": [
    "## Lecture Notes"
   ]
  },
  {
   "cell_type": "markdown",
   "metadata": {},
   "source": [
    "#####Why Twitter ?\n",
    "\n",
    "\n",
    "\"While physics and math may tell us how the universe began, they are not much use in predicting Human Behavior because there are far too many Equations to Solve\" \n",
    "    \n",
    "    -Stephan Hawking\n",
    "    "
   ]
  },
  {
   "cell_type": "markdown",
   "metadata": {},
   "source": [
    "#### Rest API vs Streaming API: \n",
    "\n",
    "\n",
    "REST:  \n",
    "    - Query user accounts using OAuth\n",
    "    - Allows you to access 'historical' tweets\n",
    "\n",
    "STREAM: \n",
    "    - Essentially long-running request (left Open) using OAuth\n",
    "    - Access realtime stream of data\n",
    "       "
   ]
  },
  {
   "cell_type": "markdown",
   "metadata": {},
   "source": [
    "#### Rest API"
   ]
  },
  {
   "cell_type": "code",
   "execution_count": 1,
   "metadata": {
    "collapsed": false
   },
   "outputs": [],
   "source": [
    "from __future__ import print_function\n",
    "import pandas as pd"
   ]
  },
  {
   "cell_type": "code",
   "execution_count": 2,
   "metadata": {
    "collapsed": false
   },
   "outputs": [],
   "source": [
    "# # pip install requests_oauthlib\n",
    "import requests\n",
    "from requests_oauthlib import OAuth1\n",
    "\n",
    "#OAuth ~ simple way to to publish & interact with data"
   ]
  },
  {
   "cell_type": "code",
   "execution_count": 7,
   "metadata": {
    "collapsed": false
   },
   "outputs": [],
   "source": [
    "# Importing our Config\n",
    "\n",
    "#pip install cnfg\n",
    "\n",
    "import cnfg\n",
    "config = cnfg.load(\"/Users/hasanhaq/.twitter_conf\")\n",
    "\n",
    "oauth = OAuth1(config[\"consumer_key\"],\n",
    "               config[\"consumer_secret\"],\n",
    "               config[\"access_token\"],\n",
    "               config[\"access_token_secret\"])"
   ]
  },
  {
   "cell_type": "code",
   "execution_count": 8,
   "metadata": {
    "collapsed": false
   },
   "outputs": [
    {
     "name": "stdout",
     "output_type": "stream",
     "text": [
      "contributors\n",
      "truncated\n",
      "text\n",
      "is_quote_status\n",
      "in_reply_to_status_id\n",
      "id\n",
      "favorite_count\n",
      "source\n",
      "retweeted\n",
      "coordinates\n",
      "entities\n",
      "in_reply_to_screen_name\n",
      "in_reply_to_user_id\n",
      "retweet_count\n",
      "id_str\n",
      "favorited\n",
      "user\n",
      "geo\n",
      "in_reply_to_user_id_str\n",
      "lang\n",
      "created_at\n",
      "in_reply_to_status_id_str\n",
      "place\n"
     ]
    }
   ],
   "source": [
    "response = requests.get(\"https://api.twitter.com/1.1/statuses/user_timeline.json\",\n",
    "                        auth=oauth)\n",
    "\n",
    "tweets = response.json()\n",
    "\n",
    "for key in tweets[0].keys():\n",
    "    print(key)\n",
    "    "
   ]
  },
  {
   "cell_type": "code",
   "execution_count": 9,
   "metadata": {
    "collapsed": false
   },
   "outputs": [
    {
     "name": "stdout",
     "output_type": "stream",
     "text": [
      "@BRay222 since the people who been keeping that game running for years said so...\n",
      "\"the stunningly good-looking, bright, earnest chipmunks with 4.0s in Russian Lit from Harvard\" spot on https://t.co/aY68f6cxNy\n",
      "@splosky i see major parallels to investment banking.  the real question is-- what on earth makes you think it would change? :)\n",
      "@wycdd This guy is a hero and deserves more than a mere \"acknowledgement.\"  Great work.  https://t.co/ROvFQbEGC8\n",
      "https://t.co/ccyWA9EHVk\n",
      "And @realDonaldTrump complains about leaks in Washington...\n",
      "https://t.co/QrbZUBrZkP\n",
      "@Gardyone @dabit3 @hackernoon dont get too excited, ur still not allowed to read the title out loud!\n",
      "Great read @dabit3 https://t.co/jBJbWISHYx\n",
      "@LegitAP47 happy birthday!!\n",
      "RT @NateSilver538: People ought to have a higher default level of skepticism toward stories based on opaque sourcing, especially when it co…\n",
      "@AndrewYNg @opencvlibrary SURF and SIFT?\n",
      "@Sam_B0t thank you!\n",
      "RT @DougPolkPoker: Oh shit boys, it's our jam. #PokerFace #SuperBowl\n",
      "RT @GonzoVice: We are drifting into some ugly parallels here.\n",
      "love when you listen to a podcast and get the reference to an episode from #loveline 10+ years ago @adamcarolla @typennington #carpentry\n",
      "@KindlyMyers savages.\n",
      "@gjreda Great talk yesterday at Metis!  Nice meeting you\n",
      "RT @analyticbridge: Statistics Means Never Having to Say You Are Certain! \n",
      "https://t.co/bzsObCQWaq https://t.co/feYUVtuBaV\n",
      "RT @NateSilver538: Trump's got this clever strategy of leaking trial balloons, then blaming \"dishonest media\" for misreporting the story if…\n",
      "Trendy as it gets! https://t.co/eiYBEoVSIZ\n"
     ]
    }
   ],
   "source": [
    "for tweet in tweets:\n",
    "    print(tweet['text'])"
   ]
  },
  {
   "cell_type": "code",
   "execution_count": 10,
   "metadata": {
    "collapsed": false
   },
   "outputs": [
    {
     "name": "stdout",
     "output_type": "stream",
     "text": [
      "{u'completed_in': 0.064,\n",
      " u'count': 20,\n",
      " u'max_id': 834826094821916673,\n",
      " u'max_id_str': u'834826094821916673',\n",
      " u'next_results': u'?max_id=834825696933531647&q=trudeau&count=20&include_entities=1',\n",
      " u'query': u'trudeau',\n",
      " u'refresh_url': u'?since_id=834826094821916673&q=trudeau&include_entities=1',\n",
      " u'since_id': 0,\n",
      " u'since_id_str': u'0'}\n"
     ]
    }
   ],
   "source": [
    "parameters = {\"q\": \"trudeau\", \"count\":20}\n",
    "response = requests.get(\"https://api.twitter.com/1.1/search/tweets.json\",\n",
    "                        params = parameters,\n",
    "                        auth=oauth)\n",
    "\n",
    "from pprint import pprint\n",
    "pprint(response.json()['search_metadata'])"
   ]
  },
  {
   "cell_type": "code",
   "execution_count": 11,
   "metadata": {
    "collapsed": false
   },
   "outputs": [
    {
     "name": "stdout",
     "output_type": "stream",
     "text": [
      "PAGE 1\n",
      "834826094821916673 RT @HistoryInPix: Fidel Castro holding the prime minister of Canada Justin Trudeau. https://t.co/kLA0QcQ46V\n",
      "834826088312352769 RT @CBCNews: Trudeau and Trump to talk by phone today at Trudeau's request https://t.co/Wr52Jx6KOO https://t.co/KIi90jd6QY\n",
      "834826077201637381 RT @true_pundit: Trudeau Admits He Was Wrong For Refusing To Speak English #TruePundit https://t.co/3511mhVrw6\n",
      "834826076836724736 RT @FATE_EN: Our thoughts are with the victims and families. #findFATE https://t.co/KrNwnSAy6p\n",
      "834826065218568193 Lol! Sorry, Brian. Theres no chance of Justin Trudeau acting on this. Heck some of them have even said Trudeau invi… https://t.co/pwrJqwhM5a\n",
      "834826032108691456 Dhimmi Justin Trudeau's Sharia compliant police arrests Canadian patriot... https://t.co/0OkQ2zFhPk\n",
      "834826001276362752 RT @guycrete: Trudeau, Couillard et Coderre valorisent les flux migratoires et les entrées illégales au pays! Pourquoi?\n",
      "834825946830077953 @CBCNews Trump while he's on the phone with Trudeau. https://t.co/P32NaGvjCO\n",
      "834825927595003905 RT @KrankyKanuck: Seriously my TL is saturated with #M103, which is meaningless, but I had to go looking for info on Trudeau &amp; the Ethics c…\n",
      "834825927460798468 Cette vieille photo de Justin Trudeau fait la fierté des Canadiens https://t.co/Nm6OjaI1jY via @HuffPostAlgerie\n",
      "834825912218636288 @CBCNews Trudeau will probably want to give him hairstyling tips\n",
      "834825911186841601 RT @trapdinawrpool: Privatisation has proven more expensive Yet the troika of Trudeau Wynne and Tory continue to foist these expensive sche…\n",
      "834825906719948803 Prime Minister Trudeau delivers remarks at the St. Matthew’s Day banquet in Hamburg, Germany https://t.co/GfdFA3V0br\n",
      "834825846720438272 RT @AmericanIndian8: Trudeau announces review of laws related to Indigenous peoples\n",
      "https://t.co/1Hxt5TQpT7\n",
      "#INDIGENOUS #TAIRP https://t.co…\n",
      "834825837451079680 What's the over/ under on whether or not Justin Trudeau was made in a laboratory? #perfecthumanspecimen\n",
      "834825777388457985 🔥 Justin Trudeau must own a bakery, 'cause he's got CAKES!💥 👀🎂💯😍\n",
      " https://t.co/cAlZ5HSTIt via @instinctmag\n",
      "834825745226678274 RT @SpeakeasyJames: Brutal sell out\n",
      "Investigate Trudeau Foundation https://t.co/45PWKIq9KO\n",
      "834825721067470848 RT @LorenceHud: @POTUS @LouDobbs PMO LANGLOIS CONFIRMED THIS AM #TRUDEAU #SecretIllegalCrownCourt WILL KILLme&amp; @Andromodid to STEAL🏡 https:…\n",
      "834825711336685572 RT @MPRgroupUSA: Es @JustinTrudeau el nuevo Obama del mundo?\n",
      "#ImagenPolítica ⬅️\n",
      "#Trudeau #JustinTrudeau #ComPol #Política #CienciaPolítica…\n",
      "834825696933531648 Trudeau and Trump to talk by phone today at Trudeau's request https://t.co/sFDfnGERT2 https://t.co/mPRgeNYD5q\n"
     ]
    }
   ],
   "source": [
    "tweets = response.json()['statuses']\n",
    "\n",
    "print('PAGE 1')\n",
    "for tweet in tweets:\n",
    "    print(tweet['id'], tweet['text'])"
   ]
  },
  {
   "cell_type": "code",
   "execution_count": 19,
   "metadata": {
    "collapsed": false
   },
   "outputs": [
    {
     "name": "stdout",
     "output_type": "stream",
     "text": [
      "PAGE 2\n",
      "RT @_neku: Everyone talking about how all these girls look at Trudeau but look at how Trudeau looks at Obama https://t.co/dzvjBZqUnb\n",
      "@globalnews Remember when Trudeau wanted to lower the age for anal sex? https://t.co/D2YzRmsjLm\n",
      "RT @Lrihendry: PM Trudeau and his idiot brother asked government to keep Islamic terror suspect Algerian born Mohammed Harkat in #Canada. #…\n",
      "RT @ajplus: Justin Trudeau just schooled President Trump in the most subtle way possible. https://t.co/7EVvJOwKca\n",
      "RT @_neku: Everyone talking about how all these girls look at Trudeau but look at how Trudeau looks at Obama https://t.co/dzvjBZqUnb\n",
      "RT @_neku: Everyone talking about how all these girls look at Trudeau but look at how Trudeau looks at Obama https://t.co/dzvjBZqUnb\n",
      "RT @_neku: Everyone talking about how all these girls look at Trudeau but look at how Trudeau looks at Obama https://t.co/dzvjBZqUnb\n",
      "RT @piercamillo: Viva il Ceta e viva l'eurocanadese Trudeau https://t.co/y6U8wuhSdS - Mio articolo su @Strade_Magazine\n",
      "@TheTorontoSun @MarkBonokoski How is that a question?\n",
      "1400 Years of Islam https://t.co/gwGFpe5KXd\n",
      "Justin on Islam… https://t.co/GjtQKBBvOJ\n",
      "RT @joeycomeau: sorry, but the only good trudeau is a margaret trudeau.\n",
      "\n",
      "(image by @beatonna) https://t.co/Khwo1GqoGY\n",
      "Pictures of 'swooning' Ivanka Trump and Justin Trudeau go viral https://t.co/dtI6K8Xc2P\n",
      "BREXIT BOOST: Justin Trudeau hints at EASY trade deal after CETA signed https://t.co/6ug1i4mrGJ https://t.co/duIRqrReDN\n",
      "RT @couldovfooledme: @melaniejoly should be working for Black Lives Matter...she seems to think MOST Canadians are full of hate &amp; racism..h…\n",
      "RT @JacquesBrisant: Haha, @ad noemt Canada's Justin 'Pussy' Trudeau een \"rocksterpremier\". \n",
      "Ik hoor andere muziek.. https://t.co/HQo5OOppah\n",
      "RT @RavenHUWolf: #JoeTrudeau Nation: #Trudeau, like #Merkel opens the flood gates. Muslim-invaders now starting to flood into #Canada\n",
      "https…\n",
      "RT @EGrabotskie: @ThePeoplesCube Oleg are u following any of the Soviet style government policy Trudeau is pushing in Canada for #M103 &amp; #C…\n",
      "@joshtpm someone page Joe Trudeau's office\n",
      "Trudeau en Washington y las cifras de la calma (por ahora) https://t.co/nYqGyDeC5U en @Letras_Libres https://t.co/e2c06lORkC\n",
      "CLUSTERFUCK BOOST: Justin Trudeau hints at EASY trade deal after CETA signed https://t.co/bo3ivYMW35 https://t.co/LBy428fsm4\n",
      "Trudeau Urges Deeper EU-Canadian Ties https://t.co/7SOP3ZtmHA\n"
     ]
    }
   ],
   "source": [
    "search_url = \"https://api.twitter.com/1.1/search/tweets.json\"\n",
    "next_page_url = search_url + response.json()['search_metadata']['next_results']\n",
    "\n",
    "response = requests.get(next_page_url, auth=oauth)\n",
    "\n",
    "print('PAGE 2')\n",
    "for tweet in response.json()['statuses']:\n",
    "    print(tweet['text'])"
   ]
  },
  {
   "cell_type": "markdown",
   "metadata": {
    "collapsed": false
   },
   "source": [
    "#### STREAMING API ~ TWEEPY"
   ]
  },
  {
   "cell_type": "code",
   "execution_count": 13,
   "metadata": {
    "collapsed": false
   },
   "outputs": [],
   "source": [
    "# pip install tweepy\n",
    "import tweepy\n",
    "\n",
    "auth = tweepy.OAuthHandler(config[\"consumer_key\"],\n",
    "                           config[\"consumer_secret\"])\n",
    "auth.set_access_token(config[\"access_token\"],\n",
    "                      config[\"access_token_secret\"])\n",
    "\n",
    "api=tweepy.API(auth)"
   ]
  },
  {
   "cell_type": "code",
   "execution_count": 14,
   "metadata": {
    "collapsed": false
   },
   "outputs": [
    {
     "name": "stdout",
     "output_type": "stream",
     "text": [
      "Status(contributors=None, truncated=False, text=u'#HandBags IVANKA TRUMP #HandBag #Purse BROWN CAMEL https://t.co/0TFdzhRtfU #Purses https://t.co/rEMjWKGHnS', is_quote_status=False, in_reply_to_status_id=None, id=834826348405235712, favorite_count=0, _api=<tweepy.api.API object at 0x1145b1e90>, author=User(follow_request_sent=False, has_extended_profile=False, profile_use_background_image=True, _json={u'follow_request_sent': False, u'has_extended_profile': False, u'profile_use_background_image': True, u'default_profile_image': False, u'id': 737582127215038464, u'profile_background_image_url_https': None, u'verified': False, u'translator_type': u'none', u'profile_text_color': u'333333', u'profile_image_url_https': u'https://pbs.twimg.com/profile_images/740773043899912192/Gu1EsF_b_normal.jpg', u'profile_sidebar_fill_color': u'DDEEF6', u'entities': {u'description': {u'urls': []}}, u'followers_count': 807, u'profile_sidebar_border_color': u'C0DEED', u'id_str': u'737582127215038464', u'profile_background_color': u'F5F8FA', u'listed_count': 394, u'is_translation_enabled': False, u'utc_offset': -28800, u'statuses_count': 389153, u'description': u\"#Celebrity doesn't have anything to do with art or craft. It's about being rich and thinking that you're better than everybody else.\", u'friends_count': 27, u'location': u'', u'profile_link_color': u'1DA1F2', u'profile_image_url': u'http://pbs.twimg.com/profile_images/740773043899912192/Gu1EsF_b_normal.jpg', u'following': False, u'geo_enabled': False, u'profile_banner_url': u'https://pbs.twimg.com/profile_banners/737582127215038464/1465451223', u'profile_background_image_url': None, u'screen_name': u'lillianduhones', u'lang': u'en', u'profile_background_tile': False, u'favourites_count': 21, u'name': u'Celebrity Zone', u'notifications': False, u'url': None, u'created_at': u'Tue May 31 09:50:57 +0000 2016', u'contributors_enabled': False, u'time_zone': u'Pacific Time (US & Canada)', u'protected': False, u'default_profile': True, u'is_translator': False}, time_zone=u'Pacific Time (US & Canada)', id=737582127215038464, description=u\"#Celebrity doesn't have anything to do with art or craft. It's about being rich and thinking that you're better than everybody else.\", _api=<tweepy.api.API object at 0x1145b1e90>, verified=False, profile_text_color=u'333333', profile_image_url_https=u'https://pbs.twimg.com/profile_images/740773043899912192/Gu1EsF_b_normal.jpg', profile_sidebar_fill_color=u'DDEEF6', is_translator=False, geo_enabled=False, entities={u'description': {u'urls': []}}, followers_count=807, protected=False, id_str=u'737582127215038464', default_profile_image=False, listed_count=394, lang=u'en', utc_offset=-28800, statuses_count=389153, profile_background_color=u'F5F8FA', friends_count=27, profile_link_color=u'1DA1F2', profile_image_url=u'http://pbs.twimg.com/profile_images/740773043899912192/Gu1EsF_b_normal.jpg', notifications=False, default_profile=True, profile_background_image_url_https=None, profile_banner_url=u'https://pbs.twimg.com/profile_banners/737582127215038464/1465451223', profile_background_image_url=None, name=u'Celebrity Zone', is_translation_enabled=False, profile_background_tile=False, favourites_count=21, screen_name=u'lillianduhones', url=None, created_at=datetime.datetime(2016, 5, 31, 9, 50, 57), contributors_enabled=False, location=u'', profile_sidebar_border_color=u'C0DEED', translator_type=u'none', following=False), _json={u'contributors': None, u'truncated': False, u'text': u'#HandBags IVANKA TRUMP #HandBag #Purse BROWN CAMEL https://t.co/0TFdzhRtfU #Purses https://t.co/rEMjWKGHnS', u'is_quote_status': False, u'in_reply_to_status_id': None, u'id': 834826348405235712, u'favorite_count': 0, u'entities': {u'symbols': [], u'user_mentions': [], u'hashtags': [{u'indices': [0, 9], u'text': u'HandBags'}, {u'indices': [23, 31], u'text': u'HandBag'}, {u'indices': [32, 38], u'text': u'Purse'}, {u'indices': [75, 82], u'text': u'Purses'}], u'urls': [{u'url': u'https://t.co/0TFdzhRtfU', u'indices': [51, 74], u'expanded_url': u'http://dlvr.it/NSQhsQ', u'display_url': u'dlvr.it/NSQhsQ'}], u'media': [{u'expanded_url': u'https://twitter.com/lillianduhones/status/834826348405235712/photo/1', u'display_url': u'pic.twitter.com/rEMjWKGHnS', u'url': u'https://t.co/rEMjWKGHnS', u'media_url_https': u'https://pbs.twimg.com/media/C5XmIu7VMAAxA5G.jpg', u'id_str': u'834826343657320448', u'sizes': {u'small': {u'h': 300, u'resize': u'fit', u'w': 400}, u'large': {u'h': 300, u'resize': u'fit', u'w': 400}, u'medium': {u'h': 300, u'resize': u'fit', u'w': 400}, u'thumb': {u'h': 150, u'resize': u'crop', u'w': 150}}, u'indices': [83, 106], u'type': u'photo', u'id': 834826343657320448, u'media_url': u'http://pbs.twimg.com/media/C5XmIu7VMAAxA5G.jpg'}]}, u'retweeted': False, u'coordinates': None, u'source': u'<a href=\"https://dlvrit.com/\" rel=\"nofollow\">dlvr.it</a>', u'in_reply_to_screen_name': None, u'in_reply_to_user_id': None, u'retweet_count': 0, u'id_str': u'834826348405235712', u'favorited': False, u'user': {u'follow_request_sent': False, u'has_extended_profile': False, u'profile_use_background_image': True, u'default_profile_image': False, u'id': 737582127215038464, u'profile_background_image_url_https': None, u'verified': False, u'translator_type': u'none', u'profile_text_color': u'333333', u'profile_image_url_https': u'https://pbs.twimg.com/profile_images/740773043899912192/Gu1EsF_b_normal.jpg', u'profile_sidebar_fill_color': u'DDEEF6', u'entities': {u'description': {u'urls': []}}, u'followers_count': 807, u'profile_sidebar_border_color': u'C0DEED', u'id_str': u'737582127215038464', u'profile_background_color': u'F5F8FA', u'listed_count': 394, u'is_translation_enabled': False, u'utc_offset': -28800, u'statuses_count': 389153, u'description': u\"#Celebrity doesn't have anything to do with art or craft. It's about being rich and thinking that you're better than everybody else.\", u'friends_count': 27, u'location': u'', u'profile_link_color': u'1DA1F2', u'profile_image_url': u'http://pbs.twimg.com/profile_images/740773043899912192/Gu1EsF_b_normal.jpg', u'following': False, u'geo_enabled': False, u'profile_banner_url': u'https://pbs.twimg.com/profile_banners/737582127215038464/1465451223', u'profile_background_image_url': None, u'screen_name': u'lillianduhones', u'lang': u'en', u'profile_background_tile': False, u'favourites_count': 21, u'name': u'Celebrity Zone', u'notifications': False, u'url': None, u'created_at': u'Tue May 31 09:50:57 +0000 2016', u'contributors_enabled': False, u'time_zone': u'Pacific Time (US & Canada)', u'protected': False, u'default_profile': True, u'is_translator': False}, u'geo': None, u'in_reply_to_user_id_str': None, u'possibly_sensitive': False, u'lang': u'en', u'created_at': u'Thu Feb 23 18:04:46 +0000 2017', u'in_reply_to_status_id_str': None, u'place': None, u'extended_entities': {u'media': [{u'expanded_url': u'https://twitter.com/lillianduhones/status/834826348405235712/photo/1', u'display_url': u'pic.twitter.com/rEMjWKGHnS', u'url': u'https://t.co/rEMjWKGHnS', u'media_url_https': u'https://pbs.twimg.com/media/C5XmIu7VMAAxA5G.jpg', u'id_str': u'834826343657320448', u'sizes': {u'small': {u'h': 300, u'resize': u'fit', u'w': 400}, u'large': {u'h': 300, u'resize': u'fit', u'w': 400}, u'medium': {u'h': 300, u'resize': u'fit', u'w': 400}, u'thumb': {u'h': 150, u'resize': u'crop', u'w': 150}}, u'indices': [83, 106], u'type': u'photo', u'id': 834826343657320448, u'media_url': u'http://pbs.twimg.com/media/C5XmIu7VMAAxA5G.jpg'}]}, u'metadata': {u'iso_language_code': u'en', u'result_type': u'recent'}}, coordinates=None, entities={u'symbols': [], u'user_mentions': [], u'hashtags': [{u'indices': [0, 9], u'text': u'HandBags'}, {u'indices': [23, 31], u'text': u'HandBag'}, {u'indices': [32, 38], u'text': u'Purse'}, {u'indices': [75, 82], u'text': u'Purses'}], u'urls': [{u'url': u'https://t.co/0TFdzhRtfU', u'indices': [51, 74], u'expanded_url': u'http://dlvr.it/NSQhsQ', u'display_url': u'dlvr.it/NSQhsQ'}], u'media': [{u'expanded_url': u'https://twitter.com/lillianduhones/status/834826348405235712/photo/1', u'display_url': u'pic.twitter.com/rEMjWKGHnS', u'url': u'https://t.co/rEMjWKGHnS', u'media_url_https': u'https://pbs.twimg.com/media/C5XmIu7VMAAxA5G.jpg', u'id_str': u'834826343657320448', u'sizes': {u'small': {u'h': 300, u'resize': u'fit', u'w': 400}, u'large': {u'h': 300, u'resize': u'fit', u'w': 400}, u'medium': {u'h': 300, u'resize': u'fit', u'w': 400}, u'thumb': {u'h': 150, u'resize': u'crop', u'w': 150}}, u'indices': [83, 106], u'type': u'photo', u'id': 834826343657320448, u'media_url': u'http://pbs.twimg.com/media/C5XmIu7VMAAxA5G.jpg'}]}, in_reply_to_screen_name=None, id_str=u'834826348405235712', retweet_count=0, in_reply_to_user_id=None, favorited=False, source_url=u'https://dlvrit.com/', user=User(follow_request_sent=False, has_extended_profile=False, profile_use_background_image=True, _json={u'follow_request_sent': False, u'has_extended_profile': False, u'profile_use_background_image': True, u'default_profile_image': False, u'id': 737582127215038464, u'profile_background_image_url_https': None, u'verified': False, u'translator_type': u'none', u'profile_text_color': u'333333', u'profile_image_url_https': u'https://pbs.twimg.com/profile_images/740773043899912192/Gu1EsF_b_normal.jpg', u'profile_sidebar_fill_color': u'DDEEF6', u'entities': {u'description': {u'urls': []}}, u'followers_count': 807, u'profile_sidebar_border_color': u'C0DEED', u'id_str': u'737582127215038464', u'profile_background_color': u'F5F8FA', u'listed_count': 394, u'is_translation_enabled': False, u'utc_offset': -28800, u'statuses_count': 389153, u'description': u\"#Celebrity doesn't have anything to do with art or craft. It's about being rich and thinking that you're better than everybody else.\", u'friends_count': 27, u'location': u'', u'profile_link_color': u'1DA1F2', u'profile_image_url': u'http://pbs.twimg.com/profile_images/740773043899912192/Gu1EsF_b_normal.jpg', u'following': False, u'geo_enabled': False, u'profile_banner_url': u'https://pbs.twimg.com/profile_banners/737582127215038464/1465451223', u'profile_background_image_url': None, u'screen_name': u'lillianduhones', u'lang': u'en', u'profile_background_tile': False, u'favourites_count': 21, u'name': u'Celebrity Zone', u'notifications': False, u'url': None, u'created_at': u'Tue May 31 09:50:57 +0000 2016', u'contributors_enabled': False, u'time_zone': u'Pacific Time (US & Canada)', u'protected': False, u'default_profile': True, u'is_translator': False}, time_zone=u'Pacific Time (US & Canada)', id=737582127215038464, description=u\"#Celebrity doesn't have anything to do with art or craft. It's about being rich and thinking that you're better than everybody else.\", _api=<tweepy.api.API object at 0x1145b1e90>, verified=False, profile_text_color=u'333333', profile_image_url_https=u'https://pbs.twimg.com/profile_images/740773043899912192/Gu1EsF_b_normal.jpg', profile_sidebar_fill_color=u'DDEEF6', is_translator=False, geo_enabled=False, entities={u'description': {u'urls': []}}, followers_count=807, protected=False, id_str=u'737582127215038464', default_profile_image=False, listed_count=394, lang=u'en', utc_offset=-28800, statuses_count=389153, profile_background_color=u'F5F8FA', friends_count=27, profile_link_color=u'1DA1F2', profile_image_url=u'http://pbs.twimg.com/profile_images/740773043899912192/Gu1EsF_b_normal.jpg', notifications=False, default_profile=True, profile_background_image_url_https=None, profile_banner_url=u'https://pbs.twimg.com/profile_banners/737582127215038464/1465451223', profile_background_image_url=None, name=u'Celebrity Zone', is_translation_enabled=False, profile_background_tile=False, favourites_count=21, screen_name=u'lillianduhones', url=None, created_at=datetime.datetime(2016, 5, 31, 9, 50, 57), contributors_enabled=False, location=u'', profile_sidebar_border_color=u'C0DEED', translator_type=u'none', following=False), geo=None, in_reply_to_user_id_str=None, possibly_sensitive=False, lang=u'en', created_at=datetime.datetime(2017, 2, 23, 18, 4, 46), in_reply_to_status_id_str=None, place=None, source=u'dlvr.it', extended_entities={u'media': [{u'expanded_url': u'https://twitter.com/lillianduhones/status/834826348405235712/photo/1', u'display_url': u'pic.twitter.com/rEMjWKGHnS', u'url': u'https://t.co/rEMjWKGHnS', u'media_url_https': u'https://pbs.twimg.com/media/C5XmIu7VMAAxA5G.jpg', u'id_str': u'834826343657320448', u'sizes': {u'small': {u'h': 300, u'resize': u'fit', u'w': 400}, u'large': {u'h': 300, u'resize': u'fit', u'w': 400}, u'medium': {u'h': 300, u'resize': u'fit', u'w': 400}, u'thumb': {u'h': 150, u'resize': u'crop', u'w': 150}}, u'indices': [83, 106], u'type': u'photo', u'id': 834826343657320448, u'media_url': u'http://pbs.twimg.com/media/C5XmIu7VMAAxA5G.jpg'}]}, retweeted=False, metadata={u'iso_language_code': u'en', u'result_type': u'recent'})\n"
     ]
    }
   ],
   "source": [
    "max_tweets=1\n",
    "\n",
    "#Tweepy Cursor handles pagination .. \n",
    "\n",
    "for tweet in tweepy.Cursor(api.search,q=\"ivanka\").items(max_tweets):\n",
    "    print(tweet)"
   ]
  },
  {
   "cell_type": "code",
   "execution_count": 15,
   "metadata": {
    "collapsed": false
   },
   "outputs": [],
   "source": [
    "results=[]\n",
    "\n",
    "\n",
    "for tweet in tweepy.Cursor(api.search,q=\"ivanka\").items(10):\n",
    "    results.append(tweet)"
   ]
  },
  {
   "cell_type": "markdown",
   "metadata": {},
   "source": [
    "#### Import tweets into Pandas"
   ]
  },
  {
   "cell_type": "code",
   "execution_count": 16,
   "metadata": {
    "collapsed": false
   },
   "outputs": [],
   "source": [
    "#  import pandas as pd\n",
    "def structure_results(results):\n",
    "    id_list=[tweet.id for tweet in results]\n",
    "    data=pd.DataFrame(id_list,columns=['id'])\n",
    "    \n",
    "    data[\"text\"]= [tweet.text.encode('utf-8') for tweet in results]\n",
    "    data[\"datetime\"]=[tweet.created_at for tweet in results]\n",
    "    data[\"Location\"]=[tweet.place for tweet in results]\n",
    "    \n",
    "    return data"
   ]
  },
  {
   "cell_type": "code",
   "execution_count": 17,
   "metadata": {
    "collapsed": false
   },
   "outputs": [
    {
     "data": {
      "text/html": [
       "<div>\n",
       "<table border=\"1\" class=\"dataframe\">\n",
       "  <thead>\n",
       "    <tr style=\"text-align: right;\">\n",
       "      <th></th>\n",
       "      <th>id</th>\n",
       "      <th>text</th>\n",
       "      <th>datetime</th>\n",
       "      <th>Location</th>\n",
       "    </tr>\n",
       "  </thead>\n",
       "  <tbody>\n",
       "    <tr>\n",
       "      <th>0</th>\n",
       "      <td>834826348405235712</td>\n",
       "      <td>#HandBags IVANKA TRUMP #HandBag #Purse BROWN C...</td>\n",
       "      <td>2017-02-23 18:04:46</td>\n",
       "      <td>None</td>\n",
       "    </tr>\n",
       "    <tr>\n",
       "      <th>1</th>\n",
       "      <td>834826336694853632</td>\n",
       "      <td>RT @funder: .Trump-Trump Jr-Ivanka-Eric-Bannon...</td>\n",
       "      <td>2017-02-23 18:04:43</td>\n",
       "      <td>None</td>\n",
       "    </tr>\n",
       "    <tr>\n",
       "      <th>2</th>\n",
       "      <td>834826314410508288</td>\n",
       "      <td>RT @ChicDelights8: @hudsonsbay Still selling I...</td>\n",
       "      <td>2017-02-23 18:04:38</td>\n",
       "      <td>None</td>\n",
       "    </tr>\n",
       "    <tr>\n",
       "      <th>3</th>\n",
       "      <td>834826301299159041</td>\n",
       "      <td>RT @politicususa: Ivanka Trump Is Pushing Cong...</td>\n",
       "      <td>2017-02-23 18:04:35</td>\n",
       "      <td>None</td>\n",
       "    </tr>\n",
       "    <tr>\n",
       "      <th>4</th>\n",
       "      <td>834826287868940289</td>\n",
       "      <td>RT @LisaMcIntire: Women like Kellyanne Conway,...</td>\n",
       "      <td>2017-02-23 18:04:32</td>\n",
       "      <td>None</td>\n",
       "    </tr>\n",
       "  </tbody>\n",
       "</table>\n",
       "</div>"
      ],
      "text/plain": [
       "                   id                                               text  \\\n",
       "0  834826348405235712  #HandBags IVANKA TRUMP #HandBag #Purse BROWN C...   \n",
       "1  834826336694853632  RT @funder: .Trump-Trump Jr-Ivanka-Eric-Bannon...   \n",
       "2  834826314410508288  RT @ChicDelights8: @hudsonsbay Still selling I...   \n",
       "3  834826301299159041  RT @politicususa: Ivanka Trump Is Pushing Cong...   \n",
       "4  834826287868940289  RT @LisaMcIntire: Women like Kellyanne Conway,...   \n",
       "\n",
       "             datetime Location  \n",
       "0 2017-02-23 18:04:46     None  \n",
       "1 2017-02-23 18:04:43     None  \n",
       "2 2017-02-23 18:04:38     None  \n",
       "3 2017-02-23 18:04:35     None  \n",
       "4 2017-02-23 18:04:32     None  "
      ]
     },
     "execution_count": 17,
     "metadata": {},
     "output_type": "execute_result"
    }
   ],
   "source": [
    "data=structure_results(results)\n",
    "data.head()"
   ]
  },
  {
   "cell_type": "markdown",
   "metadata": {},
   "source": [
    "#### Import Tweets into MongoDB\n",
    "\n",
    "Install mongo locally with brew:    \n",
    "```\n",
    "brew update    \n",
    "brew install mongodb\n",
    "```\n",
    "After downloading mongo, we want to create a place for mongo data files to live.  Run:    \n",
    "```\n",
    "sudo mkdir -p /data/db\n",
    "```\n",
    "Make sure that /data/db directory has the right permissions:\n",
    "\n",
    "```\n",
    "sudo chown `active_username` /data/db\n",
    "(enter password) \n",
    "```\n",
    "\n",
    "(username ~ is just mac username (you can double\n",
    "check this by running 'whoami' in the terminal)\n",
    "\n",
    "\n",
    "Run mongo daemon:\n",
    "```\n",
    "mongod\n",
    "```\n",
    "\n",
    "(In order to access direct mongo functionality, you can just\n",
    "run 'mongo' in a separate terminal)"
   ]
  },
  {
   "cell_type": "code",
   "execution_count": 19,
   "metadata": {
    "collapsed": false
   },
   "outputs": [],
   "source": [
    "import json\n",
    "from pymongo import MongoClient\n",
    "\n",
    "\n",
    "client = MongoClient()\n",
    "db = client.legislation\n",
    "tweets = db.news"
   ]
  },
  {
   "cell_type": "code",
   "execution_count": 20,
   "metadata": {
    "collapsed": false
   },
   "outputs": [],
   "source": [
    "for tweet in results:\n",
    "    data={}\n",
    "    data['tweet']=tweet.text.encode('utf-8') \n",
    "    data['datetime']=tweet.created_at\n",
    "    tweets.insert_one(data)"
   ]
  },
  {
   "cell_type": "code",
   "execution_count": 21,
   "metadata": {
    "collapsed": false
   },
   "outputs": [
    {
     "data": {
      "text/plain": [
       "{u'_id': ObjectId('58af2673a6f98269db99bb25'),\n",
       " u'datetime': datetime.datetime(2017, 2, 23, 18, 4, 46),\n",
       " u'tweet': u'#HandBags IVANKA TRUMP #HandBag #Purse BROWN CAMEL https://t.co/0TFdzhRtfU #Purses https://t.co/rEMjWKGHnS'}"
      ]
     },
     "execution_count": 21,
     "metadata": {},
     "output_type": "execute_result"
    }
   ],
   "source": [
    "tweets.find_one()"
   ]
  },
  {
   "cell_type": "code",
   "execution_count": null,
   "metadata": {
    "collapsed": true
   },
   "outputs": [],
   "source": []
  }
 ],
 "metadata": {
  "kernelspec": {
   "display_name": "Python [default]",
   "language": "python",
   "name": "python2"
  },
  "language_info": {
   "codemirror_mode": {
    "name": "ipython",
    "version": 2
   },
   "file_extension": ".py",
   "mimetype": "text/x-python",
   "name": "python",
   "nbconvert_exporter": "python",
   "pygments_lexer": "ipython2",
   "version": "2.7.13"
  }
 },
 "nbformat": 4,
 "nbformat_minor": 0
}
