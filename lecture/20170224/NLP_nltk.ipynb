{
 "cells": [
  {
   "cell_type": "markdown",
   "metadata": {},
   "source": [
    "# NLP with NLTK (.. and a little sklearn) \n",
    "\n",
    "Natural Language Processing with the Natural Language Toolkit\n",
    "\n",
    "[nltk](http://www.nltk.org/) is a Python package for NLP."
   ]
  },
  {
   "cell_type": "code",
   "execution_count": 1,
   "metadata": {
    "collapsed": true
   },
   "outputs": [],
   "source": [
    "from __future__ import print_function"
   ]
  },
  {
   "cell_type": "code",
   "execution_count": 2,
   "metadata": {
    "collapsed": true
   },
   "outputs": [],
   "source": [
    "# pip install nltk\n",
    "import nltk\n",
    "import pandas as pd"
   ]
  },
  {
   "cell_type": "markdown",
   "metadata": {},
   "source": [
    "Much of NLTK depends on additional data which you'll have to download. Use `nltk.download()` to get at least the following:\n",
    "\n",
    " * averaged_perceptron_tagger (in models)\n",
    " * maxent_treebank_pos_tagger (in models)\n",
    " * punkt (in models)\n",
    " * maxent_ne_chunk (in models)\n",
    " * words (in corpora)\n",
    "\n",
    "You can install these and continue without restarting your kernel."
   ]
  },
  {
   "cell_type": "code",
   "execution_count": 3,
   "metadata": {
    "collapsed": false
   },
   "outputs": [
    {
     "name": "stdout",
     "output_type": "stream",
     "text": [
      "showing info https://raw.githubusercontent.com/nltk/nltk_data/gh-pages/index.xml\n"
     ]
    },
    {
     "data": {
      "text/plain": [
       "True"
      ]
     },
     "execution_count": 3,
     "metadata": {},
     "output_type": "execute_result"
    }
   ],
   "source": [
    "nltk.download()"
   ]
  },
  {
   "cell_type": "markdown",
   "metadata": {},
   "source": [
    "### Sentence tokenization"
   ]
  },
  {
   "cell_type": "code",
   "execution_count": 3,
   "metadata": {
    "collapsed": false
   },
   "outputs": [
    {
     "name": "stdout",
     "output_type": "stream",
     "text": [
      "['Hello.', 'How are you, dear Mr. Sir?', 'Are you well?', 'Here: drink this!', 'It will make you feel better.', \"I mean, it won't make you feel worse!\"]\n"
     ]
    }
   ],
   "source": [
    "from nltk.tokenize import sent_tokenize\n",
    "\n",
    "text = \"\"\"Hello. How are you, dear Mr. Sir? Are you well?\n",
    "          Here: drink this! It will make you feel better.\n",
    "          I mean, it won't make you feel worse!\"\"\"\n",
    "\n",
    "sentences = sent_tokenize(text)\n",
    "print(sentences)\n"
   ]
  },
  {
   "cell_type": "markdown",
   "metadata": {},
   "source": [
    "### Word tokenization"
   ]
  },
  {
   "cell_type": "code",
   "execution_count": 4,
   "metadata": {
    "collapsed": false
   },
   "outputs": [
    {
     "data": {
      "text/plain": [
       "['I', 'mean', ',', 'it', 'wo', \"n't\", 'make', 'you', 'feel', 'worse', '!']"
      ]
     },
     "execution_count": 4,
     "metadata": {},
     "output_type": "execute_result"
    }
   ],
   "source": [
    "# TreebankWordTokenizer assumes that our input has already been segmented into sentences..\n",
    "\n",
    "\n",
    "from nltk.tokenize import TreebankWordTokenizer\n",
    "tokenizer = TreebankWordTokenizer()\n",
    "tokenizer.tokenize(sentences[5])"
   ]
  },
  {
   "cell_type": "code",
   "execution_count": 5,
   "metadata": {
    "collapsed": false
   },
   "outputs": [
    {
     "data": {
      "text/plain": [
       "['I', 'mean', ',', 'it', 'wo', \"n't\", 'make', 'you', 'feel', 'worse', '!']"
      ]
     },
     "execution_count": 5,
     "metadata": {},
     "output_type": "execute_result"
    }
   ],
   "source": [
    "from nltk.tokenize import word_tokenize\n",
    "words = word_tokenize(sentences[5])\n",
    "words"
   ]
  },
  {
   "cell_type": "code",
   "execution_count": 6,
   "metadata": {
    "collapsed": false
   },
   "outputs": [
    {
     "data": {
      "text/plain": [
       "['I', 'mean', ',', 'it', 'won', \"'\", 't', 'make', 'you', 'feel', 'worse', '!']"
      ]
     },
     "execution_count": 6,
     "metadata": {},
     "output_type": "execute_result"
    }
   ],
   "source": [
    "from nltk.tokenize import wordpunct_tokenize\n",
    "wordpunct_tokenize(sentences[5])"
   ]
  },
  {
   "cell_type": "markdown",
   "metadata": {},
   "source": [
    "Demo of different tokenizers: http://text-processing.com/demo/tokenize/"
   ]
  },
  {
   "cell_type": "markdown",
   "metadata": {},
   "source": [
    "### Part of speech tagging"
   ]
  },
  {
   "cell_type": "code",
   "execution_count": 7,
   "metadata": {
    "collapsed": false
   },
   "outputs": [
    {
     "data": {
      "text/plain": [
       "[('Who', 'WP'),\n",
       " (\"'s\", 'VBZ'),\n",
       " ('going', 'VBG'),\n",
       " ('to', 'TO'),\n",
       " ('that', 'DT'),\n",
       " ('thing', 'NN'),\n",
       " ('today', 'NN'),\n",
       " ('?', '.')]"
      ]
     },
     "execution_count": 7,
     "metadata": {},
     "output_type": "execute_result"
    }
   ],
   "source": [
    "from nltk.tag import pos_tag\n",
    "words=pos_tag(word_tokenize(\"Who's going to that thing today?\"))\n",
    "words"
   ]
  },
  {
   "cell_type": "markdown",
   "metadata": {},
   "source": [
    "##### Some of POS tags: \n",
    "WP: wh-pronoun (\"who\", \"what\")  \n",
    "VBZ: verb, 3rd person sing. present (\"takes\")  \n",
    "VBG: verb, gerund/present participle (\"taking\")  \n",
    "TO: to (\"to go\", \"to him\")   \n",
    "DT: determiner (\"the\", \"this\")  \n",
    "NN: noun, singular or mass (\"door\")  \n",
    ".: Punctuation (\".\", \"?\")  \n",
    "\n",
    "All tags: http://www.monlp.com/2011/11/08/part-of-speech-tags/"
   ]
  },
  {
   "cell_type": "markdown",
   "metadata": {},
   "source": [
    "### Chunking\n",
    "Extracting phrases"
   ]
  },
  {
   "cell_type": "code",
   "execution_count": 8,
   "metadata": {
    "collapsed": false
   },
   "outputs": [
    {
     "name": "stdout",
     "output_type": "stream",
     "text": [
      "[('I', 'PRP'), (\"'m\", 'VBP'), ('Julia', 'JJ'), ('and', 'CC'), ('I', 'PRP'), (\"'m\", 'VBP'), ('here', 'RB'), ('to', 'TO'), ('say', 'VB'), ('I', 'PRP'), ('love', 'VBP'), ('NLTK', 'NNP'), ('in', 'IN'), ('a', 'DT'), ('major', 'JJ'), ('way', 'NN'), ('.', '.')]\n",
      "(S\n",
      "  I/PRP\n",
      "  'm/VBP\n",
      "  (PERSON Julia/JJ)\n",
      "  and/CC\n",
      "  I/PRP\n",
      "  'm/VBP\n",
      "  here/RB\n",
      "  to/TO\n",
      "  say/VB\n",
      "  I/PRP\n",
      "  love/VBP\n",
      "  (ORGANIZATION NLTK/NNP)\n",
      "  in/IN\n",
      "  a/DT\n",
      "  major/JJ\n",
      "  way/NN\n",
      "  ./.)\n"
     ]
    }
   ],
   "source": [
    "## the 'named entity' chunker!  ne_chunk utilizes \n",
    "\n",
    "from nltk.chunk import ne_chunk\n",
    "words = word_tokenize(\"\"\"I'm Julia and I'm here to say\n",
    "                         I love NLTK in a major way.\"\"\")\n",
    "tags = pos_tag(words)\n",
    "tree = ne_chunk(tags)\n",
    "print(tags)\n",
    "print(tree)"
   ]
  },
  {
   "cell_type": "code",
   "execution_count": 10,
   "metadata": {
    "collapsed": false
   },
   "outputs": [],
   "source": [
    "tree.draw()"
   ]
  },
  {
   "cell_type": "code",
   "execution_count": 17,
   "metadata": {
    "collapsed": false
   },
   "outputs": [],
   "source": [
    "words2 = word_tokenize(\"First National Bank announced earnings!\")\n",
    "tags2=pos_tag(words2)\n",
    "tree2=ne_chunk(tags2)"
   ]
  },
  {
   "cell_type": "code",
   "execution_count": 18,
   "metadata": {
    "collapsed": false
   },
   "outputs": [],
   "source": [
    "tree2.draw()"
   ]
  },
  {
   "cell_type": "markdown",
   "metadata": {},
   "source": [
    "### Included text corpora\n",
    "\n",
    "Also install these!\n",
    "\n",
    " * movie_reviews: Imdb reviews characterized as pos & neg  \n",
    " * treebank: tagged and parsed Wall Street Journal text  \n",
    " * brown: tagged & categorized English text (news, fiction, etc)  \n",
    "\n",
    "(There are over 60 others.)"
   ]
  },
  {
   "cell_type": "code",
   "execution_count": null,
   "metadata": {
    "collapsed": false
   },
   "outputs": [],
   "source": [
    "nltk.download()"
   ]
  },
  {
   "cell_type": "code",
   "execution_count": 11,
   "metadata": {
    "collapsed": false
   },
   "outputs": [
    {
     "data": {
      "text/plain": [
       "[(u'Pierre', u'NNP'),\n",
       " (u'Vinken', u'NNP'),\n",
       " (u',', u','),\n",
       " (u'61', u'CD'),\n",
       " (u'years', u'NNS'),\n",
       " (u'old', u'JJ'),\n",
       " (u',', u','),\n",
       " (u'will', u'MD'),\n",
       " (u'join', u'VB'),\n",
       " (u'the', u'DT'),\n",
       " (u'board', u'NN'),\n",
       " (u'as', u'IN'),\n",
       " (u'a', u'DT'),\n",
       " (u'nonexecutive', u'JJ'),\n",
       " (u'director', u'NN'),\n",
       " (u'Nov.', u'NNP'),\n",
       " (u'29', u'CD'),\n",
       " (u'.', u'.')]"
      ]
     },
     "execution_count": 11,
     "metadata": {},
     "output_type": "execute_result"
    }
   ],
   "source": [
    "# A chunked corpora reader..\n",
    "\n",
    "from nltk.corpus import treebank_chunk\n",
    "treebank_chunk.tagged_sents()[0]"
   ]
  },
  {
   "cell_type": "code",
   "execution_count": 12,
   "metadata": {
    "collapsed": true
   },
   "outputs": [],
   "source": [
    "treebank_chunk.chunked_sents()[0].draw()"
   ]
  },
  {
   "cell_type": "code",
   "execution_count": 13,
   "metadata": {
    "collapsed": false
   },
   "outputs": [
    {
     "data": {
      "text/plain": [
       "u'Pierre Vinken , 61 years old , will join the board as a nonexecutive director Nov. 29 .'"
      ]
     },
     "execution_count": 13,
     "metadata": {},
     "output_type": "execute_result"
    }
   ],
   "source": [
    "tree=treebank_chunk.chunked_sents()[0]\n",
    "' '.join([w for w, t in tree.leaves()])"
   ]
  },
  {
   "cell_type": "markdown",
   "metadata": {},
   "source": [
    "# TextBlob"
   ]
  },
  {
   "cell_type": "code",
   "execution_count": 9,
   "metadata": {
    "collapsed": false
   },
   "outputs": [],
   "source": [
    "# pip install textblob\n",
    "from textblob import TextBlob\n",
    "\n",
    "GATSBY_TEXT = \"\"\"In my younger and more vulnerable years my father\n",
    "                 gave me some advice that I've been turning over\n",
    "                 in my mind ever since. \"Whenever you feel like\n",
    "                 criticizing any one,\" he told me, \"blah blah blah.\"\"\"\n",
    "\n",
    "gatsby = TextBlob(GATSBY_TEXT)"
   ]
  },
  {
   "cell_type": "code",
   "execution_count": 10,
   "metadata": {
    "collapsed": false
   },
   "outputs": [
    {
     "data": {
      "text/plain": [
       "[('In', u'IN'),\n",
       " ('my', u'PRP$'),\n",
       " ('younger', u'JJR'),\n",
       " ('and', u'CC'),\n",
       " ('more', u'RBR'),\n",
       " ('vulnerable', u'JJ'),\n",
       " ('years', u'NNS'),\n",
       " ('my', u'PRP$'),\n",
       " ('father', u'NN'),\n",
       " ('gave', u'VBD'),\n",
       " ('me', u'PRP'),\n",
       " ('some', u'DT'),\n",
       " ('advice', u'NN'),\n",
       " ('that', u'IN'),\n",
       " ('I', u'PRP'),\n",
       " (\"'ve\", u'VBP'),\n",
       " ('been', u'VBN'),\n",
       " ('turning', u'VBG'),\n",
       " ('over', u'IN'),\n",
       " ('in', u'IN'),\n",
       " ('my', u'PRP$'),\n",
       " ('mind', u'NN'),\n",
       " ('ever', u'RB'),\n",
       " ('since', u'IN'),\n",
       " ('Whenever', u'IN'),\n",
       " ('you', u'PRP'),\n",
       " ('feel', u'VBP'),\n",
       " ('like', u'IN'),\n",
       " ('criticizing', u'VBG'),\n",
       " ('any', u'DT'),\n",
       " ('one', u'CD'),\n",
       " ('he', u'PRP'),\n",
       " ('told', u'VBD'),\n",
       " ('me', u'PRP'),\n",
       " ('blah', u'NN'),\n",
       " ('blah', u'NN'),\n",
       " ('blah', u'NN')]"
      ]
     },
     "execution_count": 10,
     "metadata": {},
     "output_type": "execute_result"
    }
   ],
   "source": [
    "gatsby.tags"
   ]
  },
  {
   "cell_type": "code",
   "execution_count": 18,
   "metadata": {
    "collapsed": false
   },
   "outputs": [
    {
     "data": {
      "text/plain": [
       "WordList([u'vulnerable years', 'whenever', u'blah blah blah'])"
      ]
     },
     "execution_count": 18,
     "metadata": {},
     "output_type": "execute_result"
    }
   ],
   "source": [
    "gatsby.noun_phrases"
   ]
  },
  {
   "cell_type": "markdown",
   "metadata": {},
   "source": [
    "###  How do you really feel?    TextBlob:  Sentiment Analysis"
   ]
  },
  {
   "cell_type": "code",
   "execution_count": 19,
   "metadata": {
    "collapsed": false
   },
   "outputs": [
    {
     "data": {
      "text/plain": [
       "Sentiment(polarity=0.75, subjectivity=0.8)"
      ]
     },
     "execution_count": 19,
     "metadata": {},
     "output_type": "execute_result"
    }
   ],
   "source": [
    "TextBlob(\"Oh my god I love this bootcamp, it's so awesome.\").sentiment"
   ]
  },
  {
   "cell_type": "code",
   "execution_count": 20,
   "metadata": {
    "collapsed": false
   },
   "outputs": [
    {
     "data": {
      "text/plain": [
       "Sentiment(polarity=1.0, subjectivity=1.0)"
      ]
     },
     "execution_count": 20,
     "metadata": {},
     "output_type": "execute_result"
    }
   ],
   "source": [
    "TextBlob(\"it's so awesome\").sentiment"
   ]
  },
  {
   "cell_type": "code",
   "execution_count": 21,
   "metadata": {
    "collapsed": false
   },
   "outputs": [
    {
     "data": {
      "text/plain": [
       "Sentiment(polarity=0.0, subjectivity=0.0)"
      ]
     },
     "execution_count": 21,
     "metadata": {},
     "output_type": "execute_result"
    }
   ],
   "source": [
    "TextBlob(\"Oh my god.\").sentiment"
   ]
  },
  {
   "cell_type": "code",
   "execution_count": 23,
   "metadata": {
    "collapsed": false
   },
   "outputs": [
    {
     "data": {
      "text/plain": [
       "Sentiment(polarity=0.5, subjectivity=0.6)"
      ]
     },
     "execution_count": 23,
     "metadata": {},
     "output_type": "execute_result"
    }
   ],
   "source": [
    "TextBlob(\"I love this bootcamp.\").sentiment"
   ]
  },
  {
   "cell_type": "code",
   "execution_count": 24,
   "metadata": {
    "collapsed": false
   },
   "outputs": [
    {
     "data": {
      "text/plain": [
       "Sentiment(polarity=0.5, subjectivity=0.6)"
      ]
     },
     "execution_count": 24,
     "metadata": {},
     "output_type": "execute_result"
    }
   ],
   "source": [
    "TextBlob(\"Oh my god I love this bootcamp.\").sentiment"
   ]
  },
  {
   "cell_type": "code",
   "execution_count": 25,
   "metadata": {
    "collapsed": false
   },
   "outputs": [
    {
     "data": {
      "text/plain": [
       "Sentiment(polarity=1.0, subjectivity=1.0)"
      ]
     },
     "execution_count": 25,
     "metadata": {},
     "output_type": "execute_result"
    }
   ],
   "source": [
    "TextBlob(\"it's so awesome.\").sentiment"
   ]
  },
  {
   "cell_type": "code",
   "execution_count": 26,
   "metadata": {
    "collapsed": false
   },
   "outputs": [
    {
     "name": "stdout",
     "output_type": "stream",
     "text": [
      "Sentiment(polarity=-0.8, subjectivity=0.9)\n"
     ]
    }
   ],
   "source": [
    "print(TextBlob(\"I hate cupcakes.\").sentiment)"
   ]
  },
  {
   "cell_type": "code",
   "execution_count": 27,
   "metadata": {
    "collapsed": false
   },
   "outputs": [
    {
     "data": {
      "text/plain": [
       "[Sentence(\"In my younger and more vulnerable years my father\n",
       "                  gave me some advice that I've been turning over\n",
       "                  in my mind ever since.\"), Sentence(\"\"Whenever you feel like\n",
       "                  criticizing any one,\" he told me, \"blah blah blah.\")]"
      ]
     },
     "execution_count": 27,
     "metadata": {},
     "output_type": "execute_result"
    }
   ],
   "source": [
    "gatsby.sentences"
   ]
  },
  {
   "cell_type": "code",
   "execution_count": 28,
   "metadata": {
    "collapsed": false
   },
   "outputs": [
    {
     "data": {
      "text/plain": [
       "WordList(['In', 'my', 'younger', 'and', 'more', 'vulnerable', 'years', 'my', 'father', 'gave', 'me', 'some', 'advice', 'that', 'I', \"'ve\", 'been', 'turning', 'over', 'in', 'my', 'mind', 'ever', 'since', 'Whenever', 'you', 'feel', 'like', 'criticizing', 'any', 'one', 'he', 'told', 'me', 'blah', 'blah', 'blah'])"
      ]
     },
     "execution_count": 28,
     "metadata": {},
     "output_type": "execute_result"
    }
   ],
   "source": [
    "gatsby.words"
   ]
  },
  {
   "cell_type": "code",
   "execution_count": 29,
   "metadata": {
    "collapsed": false
   },
   "outputs": [
    {
     "data": {
      "text/plain": [
       "WordList(['In', 'my', 'younger', 'and', 'more', 'vulnerable', 'years', 'my', 'father', 'gave', 'me', 'some', 'advice', 'that', 'I', \"'ve\", 'been', 'turning', 'over', 'in', 'my', 'mind', 'ever', 'since'])"
      ]
     },
     "execution_count": 29,
     "metadata": {},
     "output_type": "execute_result"
    }
   ],
   "source": [
    "gatsby.sentences[0].words"
   ]
  },
  {
   "cell_type": "markdown",
   "metadata": {},
   "source": [
    "#### Stemming"
   ]
  },
  {
   "cell_type": "code",
   "execution_count": 30,
   "metadata": {
    "collapsed": false
   },
   "outputs": [
    {
     "name": "stdout",
     "output_type": "stream",
     "text": [
      "are\n",
      "you\n",
      "run\n",
      "in\n",
      "two\n",
      "marathon\n"
     ]
    }
   ],
   "source": [
    "stemmer = nltk.stem.porter.PorterStemmer()\n",
    "for word in TextBlob(\"Are you running in two marathons?\").words:\n",
    "    print(stemmer.stem(word))"
   ]
  },
  {
   "cell_type": "markdown",
   "metadata": {},
   "source": [
    "To see different nltk stemmers in effect:\n",
    "http://text-processing.com/demo/stem/"
   ]
  },
  {
   "cell_type": "code",
   "execution_count": 31,
   "metadata": {
    "collapsed": false
   },
   "outputs": [
    {
     "name": "stdout",
     "output_type": "stream",
     "text": [
      "            and 1\n",
      "             ve 1\n",
      "           feel 1\n",
      "           over 1\n",
      "           mind 1\n",
      "          years 1\n",
      "           blah 3\n",
      "             in 2\n",
      "            any 1\n",
      "     vulnerable 1\n",
      "          since 1\n",
      "         father 1\n",
      "           been 1\n",
      "            you 1\n",
      "           ever 1\n",
      "           gave 1\n",
      "        turning 1\n",
      "           that 1\n",
      "           some 1\n",
      "         advice 1\n",
      "            one 1\n",
      "             he 1\n",
      "             me 2\n",
      "        younger 1\n",
      "           like 1\n",
      "              i 1\n",
      "           told 1\n",
      "       whenever 1\n",
      "    criticizing 1\n",
      "           more 1\n",
      "             my 3\n"
     ]
    }
   ],
   "source": [
    "for word, count in gatsby.word_counts.items():\n",
    "    print(\"%15s %i\" % (word, count))"
   ]
  },
  {
   "cell_type": "code",
   "execution_count": 39,
   "metadata": {
    "collapsed": false
   },
   "outputs": [
    {
     "name": "stdout",
     "output_type": "stream",
     "text": [
      "           blah 3\n",
      "             my 3\n",
      "             in 2\n",
      "             me 2\n",
      "            and 1\n",
      "             ve 1\n",
      "           feel 1\n",
      "           over 1\n",
      "           mind 1\n",
      "          years 1\n",
      "            any 1\n",
      "     vulnerable 1\n",
      "          since 1\n",
      "         father 1\n",
      "           been 1\n",
      "            you 1\n",
      "           ever 1\n",
      "           gave 1\n",
      "        turning 1\n",
      "           that 1\n",
      "           some 1\n",
      "         advice 1\n",
      "            one 1\n",
      "             he 1\n",
      "        younger 1\n",
      "           like 1\n",
      "              i 1\n",
      "           told 1\n",
      "       whenever 1\n",
      "    criticizing 1\n",
      "           more 1\n"
     ]
    }
   ],
   "source": [
    "def get_count(item):\n",
    "    return item[1]\n",
    "\n",
    "for word, count in sorted(gatsby.word_counts.items(), key=get_count, reverse=True):\n",
    "    print(\"%15s %i\" % (word, count))"
   ]
  },
  {
   "cell_type": "markdown",
   "metadata": {},
   "source": [
    "### Movie Reviews \n",
    "(without stopwords!)"
   ]
  },
  {
   "cell_type": "code",
   "execution_count": null,
   "metadata": {
    "collapsed": false
   },
   "outputs": [],
   "source": [
    "nltk.download()"
   ]
  },
  {
   "cell_type": "code",
   "execution_count": 20,
   "metadata": {
    "collapsed": false
   },
   "outputs": [
    {
     "name": "stdout",
     "output_type": "stream",
     "text": [
      "[u'plot : two teen couples go to a church party , drink and then drive . they get into an accident . one of the guys dies , but his girlfriend continues to see him in her life , and has nightmares . what \\' s the deal ? watch the movie and \" sorta \" find out . . . critique : a mind - fuck movie for the teen generation that touches on a very cool idea , but presents it in a very bad package . which is what makes this review an even harder one to write , since i generally applaud films which attempt to break the mold , mess with your head and such ( lost highway & memento ) , but there are good and bad ways of making all types of films , and these folks just didn \\' t snag this one correctly . they seem to have taken this pretty neat concept , but executed it terribly . so what are the problems with the movie ? well , its main problem is that it \\' s simply too jumbled . it starts off \" normal \" but then downshifts into this \" fantasy \" world in which you , as an audience member , have no idea what \\' s going on . there are dreams , there are characters coming back from the dead , there are others who look like the dead , there are strange apparitions , there are disappearances , there are a looooot of chase scenes , there are tons of weird things that happen , and most of it is simply not explained . now i personally don \\' t mind trying to unravel a film every now and then , but when all it does is give me the same clue over and over again , i get kind of fed up after a while , which is this film \\' s biggest problem . it \\' s obviously got this big secret to hide , but it seems to want to hide it completely until its final five minutes . and do they make things entertaining , thrilling or even engaging , in the meantime ? not really . the sad part is that the arrow and i both dig on flicks like this , so we actually figured most of it out by the half - way point , so all of the strangeness after that did start to make a little bit of sense , but it still didn \\' t the make the film all that more entertaining . i guess the bottom line with movies like this is that you should always make sure that the audience is \" into it \" even before they are given the secret password to enter your world of understanding . i mean , showing melissa sagemiller running away from visions for about 20 minutes throughout the movie is just plain lazy ! ! okay , we get it . . . there are people chasing her and we don \\' t know who they are . do we really need to see it over and over again ? how about giving us different scenes offering further insight into all of the strangeness going down in the movie ? apparently , the studio took this film away from its director and chopped it up themselves , and it shows . there might \\' ve been a pretty decent teen mind - fuck movie in here somewhere , but i guess \" the suits \" decided that turning it into a music video with little edge , would make more sense . the actors are pretty good for the most part , although wes bentley just seemed to be playing the exact same character that he did in american beauty , only in a new neighborhood . but my biggest kudos go out to sagemiller , who holds her own throughout the entire film , and actually has you feeling her character \\' s unraveling . overall , the film doesn \\' t stick because it doesn \\' t entertain , it \\' s confusing , it rarely excites and it feels pretty redundant for most of its runtime , despite a pretty cool ending and explanation to all of the craziness that came before it . oh , and by the way , this is not a horror or teen slasher flick . . . it \\' s just packaged to look that way because someone is apparently assuming that the genre is still hot with the kids . it also wrapped production two years ago and has been sitting on the shelves ever since . whatever . . . skip it ! where \\' s joblo coming from ? a nightmare of elm street 3 ( 7 / 10 ) - blair witch 2 ( 7 / 10 ) - the crow ( 9 / 10 ) - the crow : salvation ( 4 / 10 ) - lost highway ( 10 / 10 ) - memento ( 10 / 10 ) - the others ( 9 / 10 ) - stir of echoes ( 8 / 10 )']\n"
     ]
    }
   ],
   "source": [
    "import nltk\n",
    "from textblob import TextBlob\n",
    "from nltk.corpus import movie_reviews\n",
    "\n",
    "fileids = movie_reviews.fileids()[:100]\n",
    "doc_words = [movie_reviews.words(fileid) for fileid in fileids]\n",
    "documents = [' '.join(words) for words in doc_words]\n",
    "print(documents[0:1])"
   ]
  },
  {
   "cell_type": "markdown",
   "metadata": {},
   "source": [
    "##### Top bigrams in reviews"
   ]
  },
  {
   "cell_type": "code",
   "execution_count": 21,
   "metadata": {
    "collapsed": false
   },
   "outputs": [
    {
     "name": "stdout",
     "output_type": "stream",
     "text": [
      "     special effects 20\n",
      "         ghosts mars 18\n",
      "         first movie 14\n",
      "         monkey bone 12\n",
      "           prinze jr 12\n",
      "         even though 11\n",
      "           hong kong 11\n",
      "        fight scenes 11\n",
      "           van damme 10\n",
      "         jackie chan 10\n",
      "         every scene 10\n",
      "            want see 10\n",
      "         movies like 9\n",
      "              sci fi 9\n",
      "            big john 9\n",
      "            must die 9\n",
      "          romeo must 9\n",
      "      john carpenter 8\n",
      "         spice girls 8\n",
      "            one best 8\n",
      "         big gorilla 8\n",
      "           two hours 8\n",
      "         deep impact 8\n",
      "         screen time 8\n",
      "               ho ho 8\n",
      "         action film 8\n",
      "            year old 8\n",
      "         sounds like 8\n",
      "      freddie prinze 8\n",
      "           years ago 8\n"
     ]
    }
   ],
   "source": [
    "from nltk.util import ngrams\n",
    "\n",
    "from collections import defaultdict\n",
    "from operator import itemgetter\n",
    "\n",
    "from nltk.corpus import stopwords\n",
    "stop = stopwords.words('english')\n",
    "stop += ['.', ',', '(', ')', \"'\", '\"']\n",
    "\n",
    "counter = defaultdict(int)\n",
    "\n",
    "n = 2\n",
    "for doc in documents:\n",
    "    words = TextBlob(doc).words\n",
    "    words = [w for w in words if w not in stop]\n",
    "    bigrams = ngrams(words, n)\n",
    "    for gram in bigrams:\n",
    "        counter[gram] += 1\n",
    "            \n",
    "for gram, count in sorted(counter.items(), key = itemgetter(1), reverse=True)[:30]:\n",
    "    phrase = \" \".join(gram)\n",
    "    print('%20s %i' % (phrase, count))"
   ]
  },
  {
   "cell_type": "markdown",
   "metadata": {},
   "source": [
    "### Using Sklearn algorithms with text data"
   ]
  },
  {
   "cell_type": "markdown",
   "metadata": {
    "collapsed": true
   },
   "source": [
    "CountVectorizer:  Convert a collection of text documents to a matrix of token counts\n",
    "This implementation produces a sparse representation.\n"
   ]
  },
  {
   "cell_type": "code",
   "execution_count": 22,
   "metadata": {
    "collapsed": false
   },
   "outputs": [
    {
     "name": "stdout",
     "output_type": "stream",
     "text": [
      "[u'above', u'above all', u'all', u'all to', u'be', u'be true', u'come', u'come to', u'denmark', u'in', u'in the', u'is', u'is rotten', u'is should', u'of', u'of denmark', u'own', u'own self', u'rotten', u'rotten in', u'self', u'self be', u'should', u'should come', u'something', u'something is', u'state', u'state of', u'that', u'that is', u'the', u'the state', u'thine', u'thine own', u'this', u'this above', u'to', u'to thine', u'to this', u'true']\n"
     ]
    }
   ],
   "source": [
    "from sklearn.feature_extraction.text import CountVectorizer\n",
    "\n",
    "text = ['That is should come to this!', 'This above all: to thine own self be true.', 'Something is rotten in the state of Denmark.']\n",
    "\n",
    "#CountVectorizer is a class; so `vectorizer` below represents an instance of that object.\n",
    "vectorizer = CountVectorizer(ngram_range=(1,2))\n",
    "\n",
    "# call `fit` to build the vocabulary\n",
    "vectorizer.fit(text)\n",
    "\n",
    "# then, use `get_feature_names` to return the tokens\n",
    "print(vectorizer.get_feature_names())\n",
    "\n",
    "# finally, call `transform` to convert text to a bag of words\n",
    "x = vectorizer.transform(text)"
   ]
  },
  {
   "cell_type": "code",
   "execution_count": 23,
   "metadata": {
    "collapsed": false
   },
   "outputs": [
    {
     "name": "stdout",
     "output_type": "stream",
     "text": [
      "Sparse Matrix\n",
      "<class 'scipy.sparse.csr.csr_matrix'>\n",
      "  (0, 6)\t1\n",
      "  (0, 7)\t1\n",
      "  (0, 11)\t1\n",
      "  (0, 13)\t1\n",
      "  (0, 22)\t1\n",
      "  (0, 23)\t1\n",
      "  (0, 28)\t1\n",
      "  (0, 29)\t1\n",
      "  (0, 34)\t1\n",
      "  (0, 36)\t1\n",
      "  (0, 38)\t1\n",
      "  (1, 0)\t1\n",
      "  (1, 1)\t1\n",
      "  (1, 2)\t1\n",
      "  (1, 3)\t1\n",
      "  (1, 4)\t1\n",
      "  (1, 5)\t1\n",
      "  (1, 16)\t1\n",
      "  (1, 17)\t1\n",
      "  (1, 20)\t1\n",
      "  (1, 21)\t1\n",
      "  (1, 32)\t1\n",
      "  (1, 33)\t1\n",
      "  (1, 34)\t1\n",
      "  (1, 35)\t1\n",
      "  (1, 36)\t1\n",
      "  (1, 37)\t1\n",
      "  (1, 39)\t1\n",
      "  (2, 8)\t1\n",
      "  (2, 9)\t1\n",
      "  (2, 10)\t1\n",
      "  (2, 11)\t1\n",
      "  (2, 12)\t1\n",
      "  (2, 14)\t1\n",
      "  (2, 15)\t1\n",
      "  (2, 18)\t1\n",
      "  (2, 19)\t1\n",
      "  (2, 24)\t1\n",
      "  (2, 25)\t1\n",
      "  (2, 26)\t1\n",
      "  (2, 27)\t1\n",
      "  (2, 30)\t1\n",
      "  (2, 31)\t1\n",
      "Matrix\n",
      "<type 'numpy.ndarray'>\n",
      "[[0 0 0 0 0 0 1 1 0 0 0 1 0 1 0 0 0 0 0 0 0 0 1 1 0 0 0 0 1 1 0 0 0 0 1 0 1\n",
      "  0 1 0]\n",
      " [1 1 1 1 1 1 0 0 0 0 0 0 0 0 0 0 1 1 0 0 1 1 0 0 0 0 0 0 0 0 0 0 1 1 1 1 1\n",
      "  1 0 1]\n",
      " [0 0 0 0 0 0 0 0 1 1 1 1 1 0 1 1 0 0 1 1 0 0 0 0 1 1 1 1 0 0 1 1 0 0 0 0 0\n",
      "  0 0 0]]\n"
     ]
    }
   ],
   "source": [
    "print('Sparse Matrix')\n",
    "# A compressed version; the \"sparse\" matrix.\n",
    "print(type(x))\n",
    "print(x)\n",
    "\n",
    "print ('Matrix')\n",
    "x_back = x.toarray()\n",
    "print(type(x_back))\n",
    "print(x_back)"
   ]
  },
  {
   "cell_type": "code",
   "execution_count": 24,
   "metadata": {
    "collapsed": false
   },
   "outputs": [
    {
     "data": {
      "text/html": [
       "<div>\n",
       "<table border=\"1\" class=\"dataframe\">\n",
       "  <thead>\n",
       "    <tr style=\"text-align: right;\">\n",
       "      <th></th>\n",
       "      <th>above</th>\n",
       "      <th>above all</th>\n",
       "      <th>all</th>\n",
       "      <th>all to</th>\n",
       "      <th>be</th>\n",
       "      <th>be true</th>\n",
       "      <th>come</th>\n",
       "      <th>come to</th>\n",
       "      <th>denmark</th>\n",
       "      <th>in</th>\n",
       "      <th>...</th>\n",
       "      <th>the</th>\n",
       "      <th>the state</th>\n",
       "      <th>thine</th>\n",
       "      <th>thine own</th>\n",
       "      <th>this</th>\n",
       "      <th>this above</th>\n",
       "      <th>to</th>\n",
       "      <th>to thine</th>\n",
       "      <th>to this</th>\n",
       "      <th>true</th>\n",
       "    </tr>\n",
       "  </thead>\n",
       "  <tbody>\n",
       "    <tr>\n",
       "      <th>0</th>\n",
       "      <td>0</td>\n",
       "      <td>0</td>\n",
       "      <td>0</td>\n",
       "      <td>0</td>\n",
       "      <td>0</td>\n",
       "      <td>0</td>\n",
       "      <td>1</td>\n",
       "      <td>1</td>\n",
       "      <td>0</td>\n",
       "      <td>0</td>\n",
       "      <td>...</td>\n",
       "      <td>0</td>\n",
       "      <td>0</td>\n",
       "      <td>0</td>\n",
       "      <td>0</td>\n",
       "      <td>1</td>\n",
       "      <td>0</td>\n",
       "      <td>1</td>\n",
       "      <td>0</td>\n",
       "      <td>1</td>\n",
       "      <td>0</td>\n",
       "    </tr>\n",
       "    <tr>\n",
       "      <th>1</th>\n",
       "      <td>1</td>\n",
       "      <td>1</td>\n",
       "      <td>1</td>\n",
       "      <td>1</td>\n",
       "      <td>1</td>\n",
       "      <td>1</td>\n",
       "      <td>0</td>\n",
       "      <td>0</td>\n",
       "      <td>0</td>\n",
       "      <td>0</td>\n",
       "      <td>...</td>\n",
       "      <td>0</td>\n",
       "      <td>0</td>\n",
       "      <td>1</td>\n",
       "      <td>1</td>\n",
       "      <td>1</td>\n",
       "      <td>1</td>\n",
       "      <td>1</td>\n",
       "      <td>1</td>\n",
       "      <td>0</td>\n",
       "      <td>1</td>\n",
       "    </tr>\n",
       "    <tr>\n",
       "      <th>2</th>\n",
       "      <td>0</td>\n",
       "      <td>0</td>\n",
       "      <td>0</td>\n",
       "      <td>0</td>\n",
       "      <td>0</td>\n",
       "      <td>0</td>\n",
       "      <td>0</td>\n",
       "      <td>0</td>\n",
       "      <td>1</td>\n",
       "      <td>1</td>\n",
       "      <td>...</td>\n",
       "      <td>1</td>\n",
       "      <td>1</td>\n",
       "      <td>0</td>\n",
       "      <td>0</td>\n",
       "      <td>0</td>\n",
       "      <td>0</td>\n",
       "      <td>0</td>\n",
       "      <td>0</td>\n",
       "      <td>0</td>\n",
       "      <td>0</td>\n",
       "    </tr>\n",
       "  </tbody>\n",
       "</table>\n",
       "<p>3 rows × 40 columns</p>\n",
       "</div>"
      ],
      "text/plain": [
       "   above  above all  all  all to  be  be true  come  come to  denmark  in  \\\n",
       "0      0          0    0       0   0        0     1        1        0   0   \n",
       "1      1          1    1       1   1        1     0        0        0   0   \n",
       "2      0          0    0       0   0        0     0        0        1   1   \n",
       "\n",
       "   ...   the  the state  thine  thine own  this  this above  to  to thine  \\\n",
       "0  ...     0          0      0          0     1           0   1         0   \n",
       "1  ...     0          0      1          1     1           1   1         1   \n",
       "2  ...     1          1      0          0     0           0   0         0   \n",
       "\n",
       "   to this  true  \n",
       "0        1     0  \n",
       "1        0     1  \n",
       "2        0     0  \n",
       "\n",
       "[3 rows x 40 columns]"
      ]
     },
     "execution_count": 24,
     "metadata": {},
     "output_type": "execute_result"
    }
   ],
   "source": [
    "pd.DataFrame(x_back, columns=vectorizer.get_feature_names())"
   ]
  },
  {
   "cell_type": "code",
   "execution_count": 25,
   "metadata": {
    "collapsed": false
   },
   "outputs": [],
   "source": [
    "#### TF: frequency in this document\n",
    "#### IDF: inverse frequency in the corpus\n",
    "\n",
    "import numpy as np\n",
    "from sklearn.feature_extraction.text import TfidfVectorizer\n",
    "from sklearn.naive_bayes import MultinomialNB\n",
    "\n",
    "vectorizer = TfidfVectorizer(stop_words=\"english\", ngram_range=(1,2))\n",
    "doc_vectors = vectorizer.fit_transform(documents)\n",
    "\n",
    "classes = np.array(['pos']*50 + ['neg']*50)\n",
    "\n",
    "\n",
    "model = MultinomialNB().fit(doc_vectors, classes)"
   ]
  },
  {
   "cell_type": "code",
   "execution_count": 26,
   "metadata": {
    "collapsed": false
   },
   "outputs": [
    {
     "name": "stdout",
     "output_type": "stream",
     "text": [
      "In my younger and more vulnerable years my father\n",
      "                 gave me some advice that I've been turning over\n",
      "                 in my mind ever since. \"Whenever you feel like\n",
      "                 criticizing any one,\" he told me, \"blah blah blah.\n"
     ]
    }
   ],
   "source": [
    "print(GATSBY_TEXT)"
   ]
  },
  {
   "cell_type": "code",
   "execution_count": 27,
   "metadata": {
    "collapsed": false
   },
   "outputs": [
    {
     "data": {
      "text/plain": [
       "array(['neg'], \n",
       "      dtype='|S3')"
      ]
     },
     "execution_count": 27,
     "metadata": {},
     "output_type": "execute_result"
    }
   ],
   "source": [
    "gatsby_vector = vectorizer.transform([GATSBY_TEXT])\n",
    "model.predict(gatsby_vector)"
   ]
  },
  {
   "cell_type": "code",
   "execution_count": 28,
   "metadata": {
    "collapsed": false
   },
   "outputs": [
    {
     "data": {
      "text/plain": [
       "000                     0.000000\n",
       "played role             0.000000\n",
       "played right            0.000000\n",
       "played raiden           0.000000\n",
       "played peter            0.000000\n",
       "played marisa           0.000000\n",
       "played jeff             0.000000\n",
       "played gary             0.000000\n",
       "played frequently       0.000000\n",
       "played federico         0.000000\n",
       "played fahey            0.000000\n",
       "played eddie            0.000000\n",
       "played dramatic         0.000000\n",
       "played disturbed        0.000000\n",
       "played costumed         0.000000\n",
       "played character        0.000000\n",
       "played catherine        0.000000\n",
       "played brad             0.000000\n",
       "play opposing           0.000000\n",
       "play piano              0.000000\n",
       "play rain               0.000000\n",
       "play reason             0.000000\n",
       "play second             0.000000\n",
       "play sluttish           0.000000\n",
       "played rose             0.000000\n",
       "play stogie             0.000000\n",
       "play vulnerability      0.000000\n",
       "played                  0.000000\n",
       "played ads              0.000000\n",
       "played antique          0.000000\n",
       "                          ...   \n",
       "fix                     0.000000\n",
       "fits                    0.000000\n",
       "fishing boat            0.000000\n",
       "fisherman girlfriend    0.000000\n",
       "fisherman 1942          0.000000\n",
       "fisherman               0.000000\n",
       "fisher does             0.000000\n",
       "fisher                  0.000000\n",
       "fishburne watching      0.000000\n",
       "fishburne bump          0.000000\n",
       "fishburne               0.000000\n",
       "fix ahead               0.000000\n",
       "fish tank               0.000000\n",
       "fixed                   0.000000\n",
       "fish                    0.000000\n",
       "fishing                 0.000000\n",
       "fits characters         0.000000\n",
       "like                    0.093403\n",
       "years                   0.180875\n",
       "ve                      0.189662\n",
       "mind                    0.245437\n",
       "father                  0.245437\n",
       "feel                    0.266548\n",
       "told                    0.266548\n",
       "turning                 0.284504\n",
       "younger                 0.295249\n",
       "advice                  0.295249\n",
       "gave                    0.340279\n",
       "feel like               0.363428\n",
       "criticizing             0.396054\n",
       "dtype: float64"
      ]
     },
     "execution_count": 28,
     "metadata": {},
     "output_type": "execute_result"
    }
   ],
   "source": [
    "pd.DataFrame(gatsby_vector.toarray(), columns=vectorizer.get_feature_names()).sum().sort_values()"
   ]
  },
  {
   "cell_type": "code",
   "execution_count": null,
   "metadata": {
    "collapsed": true
   },
   "outputs": [],
   "source": []
  },
  {
   "cell_type": "code",
   "execution_count": null,
   "metadata": {
    "collapsed": true
   },
   "outputs": [],
   "source": []
  },
  {
   "cell_type": "code",
   "execution_count": null,
   "metadata": {
    "collapsed": true
   },
   "outputs": [],
   "source": []
  }
 ],
 "metadata": {
  "kernelspec": {
   "display_name": "Python [default]",
   "language": "python",
   "name": "python2"
  },
  "language_info": {
   "codemirror_mode": {
    "name": "ipython",
    "version": 2
   },
   "file_extension": ".py",
   "mimetype": "text/x-python",
   "name": "python",
   "nbconvert_exporter": "python",
   "pygments_lexer": "ipython2",
   "version": "2.7.13"
  }
 },
 "nbformat": 4,
 "nbformat_minor": 0
}
