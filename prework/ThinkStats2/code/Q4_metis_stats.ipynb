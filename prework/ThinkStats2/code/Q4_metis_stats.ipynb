{
 "cells": [
  {
   "cell_type": "markdown",
   "metadata": {},
   "source": [
    "<h1>Exercise 5.1 - Hasan Haq</h1>\n",
    "\n",
    "<b>In the BRFSS (see Section 5.4), the distribution of heights is roughly normal with parameters μ = 178 cm and σ = 7.7 cm for men, and μ = 163 cm and σ = 7.3 cm for women.\n",
    "\n",
    "In order to join Blue Man Group, you have to be male between 5’10” and 6’1” (see http://bluemancasting.com). What percentage of the U.S. male population is in this range? Hint: use scipy.stats.norm.cdf.</b>"
   ]
  },
  {
   "cell_type": "code",
   "execution_count": 3,
   "metadata": {
    "collapsed": true
   },
   "outputs": [],
   "source": [
    "# Import the modules needed to complete this exercise\n",
    "\n",
    "from __future__ import print_function, division\n",
    "\n",
    "import numpy as np\n",
    "import nsfg\n",
    "import thinkstats2\n",
    "import thinkplot\n",
    "import scipy.stats"
   ]
  },
  {
   "cell_type": "code",
   "execution_count": 40,
   "metadata": {
    "collapsed": false
   },
   "outputs": [
    {
     "name": "stdout",
     "output_type": "stream",
     "text": [
      "% of population <= 5'10: 48.96%\n",
      "% of population <= 6'1: 83.17%\n",
      "% of population between 5'10 and 6'1: 34.21%\n"
     ]
    }
   ],
   "source": [
    "# Use thinkstats2.EvalNormalCDF function to calculate % of male population between 5'10\" and 6'1\"\n",
    "\n",
    "a = thinkstats2.EvalNormalCdf(177.8, mu=178, sigma=7.7)\n",
    "b = thinkstats2.EvalNormalCdf(185.4, mu=178, sigma=7.7)\n",
    "\n",
    "print(\"% of population <= 5'10:\", \"{0:.2f}%\".format(a*100))\n",
    "print(\"% of population <= 6'1:\", \"{0:.2f}%\".format(b*100))\n",
    "print(\"% of population between 5'10 and 6'1:\", \"{0:.2f}%\".format((b-a)*100))"
   ]
  },
  {
   "cell_type": "markdown",
   "metadata": {},
   "source": [
    "# The percentage of population of US males between 5'10\" and 6'1\" is 34.2%"
   ]
  }
 ],
 "metadata": {
  "anaconda-cloud": {},
  "kernelspec": {
   "display_name": "Python [conda root]",
   "language": "python",
   "name": "conda-root-py"
  },
  "language_info": {
   "codemirror_mode": {
    "name": "ipython",
    "version": 2
   },
   "file_extension": ".py",
   "mimetype": "text/x-python",
   "name": "python",
   "nbconvert_exporter": "python",
   "pygments_lexer": "ipython2",
   "version": "2.7.13"
  }
 },
 "nbformat": 4,
 "nbformat_minor": 1
}
