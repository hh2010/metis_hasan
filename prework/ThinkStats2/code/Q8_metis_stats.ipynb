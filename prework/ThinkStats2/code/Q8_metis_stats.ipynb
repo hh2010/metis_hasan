{
 "cells": [
  {
   "cell_type": "markdown",
   "metadata": {},
   "source": [
    "<h1>Exercise 8.2 - Hasan Haq</h1>\n",
    "\n",
    "<b>Suppose you draw a sample with size n = 10 from an exponential distribution with λ = 2. Simulate this experiment 1000 times and plot the sampling distribution of the estimate L. Compute the standard error of the estimate and the 90% confidence interval.\n",
    "\n",
    "Repeat the experiment with a few different values of n and make a plot of standard error versus n.</b>"
   ]
  },
  {
   "cell_type": "code",
   "execution_count": 4,
   "metadata": {
    "collapsed": true
   },
   "outputs": [],
   "source": [
    "# Import the modules needed to complete this exercise\n",
    "\n",
    "from __future__ import print_function, division\n",
    "\n",
    "import numpy as np\n",
    "import first\n",
    "import thinkstats2\n",
    "import thinkplot\n",
    "import scipy.stats\n",
    "import pandas as pd"
   ]
  },
  {
   "cell_type": "code",
   "execution_count": 8,
   "metadata": {
    "collapsed": false
   },
   "outputs": [],
   "source": [
    "# Create the functions we need to complete the exercise\n",
    "\n",
    "def RMSE(estimates, actual):\n",
    "    \"\"\"Standard error calculation\"\"\"\n",
    "    e2 = [(estimate-actual)**2 for estimate in estimates]\n",
    "    mse = np.mean(e2)\n",
    "    return math.sqrt(mse)\n",
    "\n",
    "def SimulateSample(el, n, m):\n",
    "    \"\"\"Create sampling distribution and plot it\"\"\"\n",
    "    def VertLine(x, y=1):\n",
    "        thinkplot.Plot([x, x], [0, y], color='0.8', linewidth=3)\n",
    "        \n",
    "    els = []\n",
    "    for j in range(m):\n",
    "        xs = np.random.expovariate(lambd, n)\n",
    "        xbar = np.mean(xs)\n",
    "        means.append(xbar)\n",
    "    \n",
    "    t\n",
    "    cdf = thinkstats2.Cdf(lambd)\n",
    "    ci = cdf.Percentile(5), cdf.Percentile(95)\n",
    "    stderr = RMSE(lambds, lambd)"
   ]
  },
  {
   "cell_type": "code",
   "execution_count": null,
   "metadata": {
    "collapsed": true
   },
   "outputs": [],
   "source": []
  }
 ],
 "metadata": {
  "anaconda-cloud": {},
  "kernelspec": {
   "display_name": "Python [conda root]",
   "language": "python",
   "name": "conda-root-py"
  },
  "language_info": {
   "codemirror_mode": {
    "name": "ipython",
    "version": 2
   },
   "file_extension": ".py",
   "mimetype": "text/x-python",
   "name": "python",
   "nbconvert_exporter": "python",
   "pygments_lexer": "ipython2",
   "version": "2.7.13"
  }
 },
 "nbformat": 4,
 "nbformat_minor": 1
}
